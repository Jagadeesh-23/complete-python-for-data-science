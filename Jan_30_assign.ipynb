{
 "cells": [
  {
   "cell_type": "markdown",
   "id": "2e805df1-7d72-4688-9fd3-ecf8904a8227",
   "metadata": {},
   "source": [
    "# Q1"
   ]
  },
  {
   "cell_type": "code",
   "execution_count": 1,
   "id": "7506df2e-0cef-40e0-9060-b5eb7835d393",
   "metadata": {},
   "outputs": [
    {
     "name": "stdin",
     "output_type": "stream",
     "text": [
      "enter the percentage for grade 70\n"
     ]
    },
    {
     "name": "stdout",
     "output_type": "stream",
     "text": [
      "C\n"
     ]
    }
   ],
   "source": [
    "percent= int(input(\"enter the percentage for grade\"))\n",
    "if percent>90:\n",
    "    print(\"A\")\n",
    "elif percent>80 and percent<=90:\n",
    "    print(\"B\")\n",
    "    \n",
    "elif percent>= 60 and percent<=80:\n",
    "    print(\"C\")\n",
    "elif percent<60:\n",
    "    print(\"D\")"
   ]
  },
  {
   "cell_type": "markdown",
   "id": "6b81227c-cf44-4d07-9f08-3178cb5a76f8",
   "metadata": {},
   "source": [
    "# Q2."
   ]
  },
  {
   "cell_type": "code",
   "execution_count": 7,
   "id": "3a6bb14d-6e4f-4f52-8ccb-f86d32b6d812",
   "metadata": {},
   "outputs": [
    {
     "name": "stdin",
     "output_type": "stream",
     "text": [
      "enter the cost price 100000\n"
     ]
    },
    {
     "name": "stdout",
     "output_type": "stream",
     "text": [
      "The road tax to be paid is: 10000.0\n"
     ]
    }
   ],
   "source": [
    "CP= int(input(\"enter the cost price\"))\n",
    "if CP>100000:\n",
    "    print(\"The road tax to be paid is:\", (15/100)*CP)\n",
    "          \n",
    "elif CP>50000 and CP<=100000:\n",
    "    print(\"The road tax to be paid is:\", (10/100)*CP)\n",
    "    \n",
    "elif CP<=50000:\n",
    "    print(\"the road tax to be paid is:\", (5/100)*CP)"
   ]
  },
  {
   "cell_type": "markdown",
   "id": "6ca7bb25-5a88-4129-99c5-566684f8adc1",
   "metadata": {},
   "source": [
    "# Q3. "
   ]
  },
  {
   "cell_type": "code",
   "execution_count": 11,
   "id": "97e2f35a-b0bf-4096-9924-276fe9ab255d",
   "metadata": {},
   "outputs": [
    {
     "name": "stdin",
     "output_type": "stream",
     "text": [
      "enter the name of city Delhi\n"
     ]
    },
    {
     "name": "stdout",
     "output_type": "stream",
     "text": [
      "Redfort\n"
     ]
    }
   ],
   "source": [
    "city= input(\"enter the name of city\")\n",
    "if city==\"Delhi\":\n",
    "    print(\"Redfort\")\n",
    "elif city == \"Agra\":\n",
    "    print(\"Taj mahal\")\n",
    "elif city== \"jaipur\":\n",
    "    print(\"jal mahal\")"
   ]
  },
  {
   "cell_type": "markdown",
   "id": "06996adf-30b0-4a5e-889e-77cf1eea7f26",
   "metadata": {},
   "source": [
    "# Q4. "
   ]
  },
  {
   "cell_type": "code",
   "execution_count": 20,
   "id": "405f6cf5-8b9a-47c6-bc47-afc01f763dd1",
   "metadata": {},
   "outputs": [
    {
     "name": "stdin",
     "output_type": "stream",
     "text": [
      "enter the number to check 3\n"
     ]
    },
    {
     "name": "stdout",
     "output_type": "stream",
     "text": [
      "3\n"
     ]
    }
   ],
   "source": [
    "num= int(input(\"enter the number to check\"))\n",
    "count= 0\n",
    "while num<=10:\n",
    "    if num%3==0:\n",
    "        count= count+1\n",
    "    num= num+1\n",
    "print(count)"
   ]
  },
  {
   "cell_type": "markdown",
   "id": "221036b2-d5da-4649-93bc-957bbd437793",
   "metadata": {},
   "source": [
    "# Q5."
   ]
  },
  {
   "cell_type": "code",
   "execution_count": 22,
   "id": "1284ccc6-d804-433c-93ae-15ef96d65a89",
   "metadata": {},
   "outputs": [
    {
     "name": "stdin",
     "output_type": "stream",
     "text": [
      "Enter any number between 100 and 500  7979\n"
     ]
    },
    {
     "name": "stdout",
     "output_type": "stream",
     "text": [
      "Incorrect number, Please enter correct number:\n"
     ]
    },
    {
     "name": "stdin",
     "output_type": "stream",
     "text": [
      "Enter a Number between 100 and 500  55\n"
     ]
    },
    {
     "name": "stdout",
     "output_type": "stream",
     "text": [
      "Incorrect number, Please enter correct number:\n"
     ]
    },
    {
     "name": "stdin",
     "output_type": "stream",
     "text": [
      "Enter a Number between 100 and 500  677\n"
     ]
    },
    {
     "name": "stdout",
     "output_type": "stream",
     "text": [
      "Incorrect number, Please enter correct number:\n"
     ]
    },
    {
     "name": "stdin",
     "output_type": "stream",
     "text": [
      "Enter a Number between 100 and 500  333\n"
     ]
    },
    {
     "name": "stdout",
     "output_type": "stream",
     "text": [
      "Given Number is correct 333\n"
     ]
    }
   ],
   "source": [
    "\"\"\"\n",
    "The while loop will run as often as necessary to complete a particular task. When the user doesn’t know the number of iterations before execution, while loop is used instead of a for loop\"\"\"\n",
    "\n",
    "number = int(input('Enter any number between 100 and 500 '))\n",
    "# number greater than 100 and less than 500\n",
    "while number < 100 or number > 500:\n",
    "    print('Incorrect number, Please enter correct number:')\n",
    "    number = int(input('Enter a Number between 100 and 500 '))\n",
    "else:\n",
    "    print(\"Given Number is correct\", number)\n",
    "    \n",
    "# So here i dont know how many iterations i need to take to get the correct input from the user, because it entirely depends on user. So until my condition was satisfied i will run my while loop"
   ]
  },
  {
   "cell_type": "markdown",
   "id": "821bbea2-57e0-471a-8da4-a3e7dcf5f367",
   "metadata": {},
   "source": [
    "# Q6. "
   ]
  },
  {
   "cell_type": "code",
   "execution_count": 1,
   "id": "079922e9-a0a1-49d8-8145-c4ad1a458efc",
   "metadata": {},
   "outputs": [
    {
     "name": "stdout",
     "output_type": "stream",
     "text": [
      "1 \n",
      "1 2 \n",
      "1 2 3 \n",
      "1 2 3 4 \n",
      "1 2 3 4 5 \n"
     ]
    }
   ],
   "source": [
    "i=1\n",
    "while i<=5:\n",
    "    j=1\n",
    "    while j<=i:\n",
    "        print(j,end=\" \")\n",
    "        j=j+1\n",
    "    print(\"\")\n",
    "    i=i+1"
   ]
  },
  {
   "cell_type": "code",
   "execution_count": 4,
   "id": "ab5089a6-b792-4034-863e-a82c7c333137",
   "metadata": {},
   "outputs": [
    {
     "name": "stdout",
     "output_type": "stream",
     "text": [
      "0 1 2 3 \n",
      "0 2 4 6 \n",
      "0 3 6 9 \n",
      "0 4 8 12 \n"
     ]
    }
   ],
   "source": [
    "i = 1\n",
    "while i <= 4 :\n",
    "    j = 0\n",
    "    while  j <= 3 :\n",
    "        print(i*j, end=\" \")\n",
    "        j += 1\n",
    "    print()\n",
    "    i += 1"
   ]
  },
  {
   "cell_type": "code",
   "execution_count": 3,
   "id": "f3bb3621-337e-47b1-b2d0-8c233e2acbbd",
   "metadata": {},
   "outputs": [
    {
     "name": "stdout",
     "output_type": "stream",
     "text": [
      "0 0 0 0 0 0 \n",
      "0 1 2 3 4 5 \n",
      "0 2 4 6 8 10 \n",
      "0 3 6 9 12 15 \n",
      "\n",
      "0 0 0 0 0 0 \n",
      "0 2 4 6 8 10 \n",
      "0 4 8 12 16 20 \n",
      "0 6 12 18 24 30 \n",
      "\n",
      "0 0 0 0 0 0 \n",
      "0 3 6 9 12 15 \n",
      "0 6 12 18 24 30 \n",
      "0 9 18 27 36 45 \n",
      "\n",
      "0 0 0 0 0 0 \n",
      "0 4 8 12 16 20 \n",
      "0 8 16 24 32 40 \n",
      "0 12 24 36 48 60 \n",
      "\n"
     ]
    }
   ],
   "source": [
    "i = 1\n",
    "while i <= 4 :\n",
    "    j = 0\n",
    "    while  j <= 3 :\n",
    "        k = 0\n",
    "        while  k <= 5 :\n",
    "            print(i*j*k, end=\" \")\n",
    "            k += 1\n",
    "        print()\n",
    "        j += 1\n",
    "    print()\n",
    "    i += 1"
   ]
  },
  {
   "cell_type": "code",
   "execution_count": null,
   "id": "f0fd7bad-f3ee-434b-9f1b-55e9b86c3617",
   "metadata": {},
   "outputs": [],
   "source": []
  }
 ],
 "metadata": {
  "kernelspec": {
   "display_name": "Python 3 (ipykernel)",
   "language": "python",
   "name": "python3"
  },
  "language_info": {
   "codemirror_mode": {
    "name": "ipython",
    "version": 3
   },
   "file_extension": ".py",
   "mimetype": "text/x-python",
   "name": "python",
   "nbconvert_exporter": "python",
   "pygments_lexer": "ipython3",
   "version": "3.10.8"
  }
 },
 "nbformat": 4,
 "nbformat_minor": 5
}

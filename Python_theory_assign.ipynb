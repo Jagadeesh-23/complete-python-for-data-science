{
 "cells": [
  {
   "cell_type": "markdown",
   "id": "2035a644-711e-42bf-8121-464ddb562442",
   "metadata": {},
   "source": [
    "Python Theory Assign"
   ]
  },
  {
   "cell_type": "code",
   "execution_count": 3,
   "id": "090c10a1-9566-4cb4-adad-0e4486341d1a",
   "metadata": {},
   "outputs": [
    {
     "data": {
      "text/plain": [
       "\"Q1.     Python was developed by Guido van Rossum\\nWhen he began implementing Python, Guido van Rossum was also reading the published scripts from “Monty Python's Flying Circus”, a BBC comedy series from the 1970s. Van Rossum thought he needed a name that was short, unique, and slightly mysterious, so he decided to call the language PythoN\""
      ]
     },
     "execution_count": 3,
     "metadata": {},
     "output_type": "execute_result"
    }
   ],
   "source": [
    "\"\"\"Q1.     Python was developed by Guido van Rossum\n",
    "When he began implementing Python, Guido van Rossum was also reading the published scripts from “Monty Python's Flying Circus”, a BBC comedy series from the 1970s. Van Rossum thought he needed a name that was short, unique, and slightly mysterious, so he decided to call the language PythoN\"\"\""
   ]
  },
  {
   "cell_type": "code",
   "execution_count": 1,
   "id": "47d470c1-5323-4df8-815e-2292056f2b52",
   "metadata": {},
   "outputs": [
    {
     "data": {
      "text/plain": [
       "' Q2. Python is an interpreted, interactive, object-oriented programming language. It incorporates modules, exceptions, dynamic typing, very high level dynamic data types, and classes. It supports multiple programming paradigms beyond object-oriented programming, such as procedural and functional programming.'"
      ]
     },
     "execution_count": 1,
     "metadata": {},
     "output_type": "execute_result"
    }
   ],
   "source": [
    "\"\"\" Q2. Python is an interpreted, interactive, object-oriented programming language. It incorporates modules, exceptions, dynamic typing, very high level dynamic data types, and classes. It supports multiple programming paradigms beyond object-oriented programming, such as procedural and functional programming.\"\"\""
   ]
  },
  {
   "cell_type": "code",
   "execution_count": 4,
   "id": "c2ec7565-9200-4b2c-bf8c-3a1b61397a62",
   "metadata": {},
   "outputs": [
    {
     "data": {
      "text/plain": [
       "'Q3. Yes, Python is a case−sensitive programming language.'"
      ]
     },
     "execution_count": 4,
     "metadata": {},
     "output_type": "execute_result"
    }
   ],
   "source": [
    "\"\"\"Q3. Yes, Python is a case−sensitive programming language.\"\"\""
   ]
  },
  {
   "cell_type": "code",
   "execution_count": 5,
   "id": "9d51cd2c-d087-4c94-b39a-095c8c09cbf4",
   "metadata": {},
   "outputs": [
    {
     "data": {
      "text/plain": [
       "' Q4. pyc: This is the file extension for compiled Python code files. When a . py file is executed, the Python interpreter compiles the code to bytecode and saves it in a . pyc file to improve performance on subsequent executions.'"
      ]
     },
     "execution_count": 5,
     "metadata": {},
     "output_type": "execute_result"
    }
   ],
   "source": [
    "\"\"\" Q4. pyc: This is the file extension for compiled Python code files. When a . py file is executed, the Python interpreter compiles the code to bytecode and saves it in a . pyc file to improve performance on subsequent executions.\"\"\""
   ]
  },
  {
   "cell_type": "code",
   "execution_count": 6,
   "id": "2fd4950a-e926-4fd3-9d1d-b5ba3c73feab",
   "metadata": {},
   "outputs": [
    {
     "data": {
      "text/plain": [
       "' Q5. interpreted language\\nPython is an interpreted language, which means the source code of a Python program is converted into bytecode that is then executed by the Python virtual machine.'"
      ]
     },
     "execution_count": 6,
     "metadata": {},
     "output_type": "execute_result"
    }
   ],
   "source": [
    "\"\"\" Q5. interpreted language\n",
    "Python is an interpreted language, which means the source code of a Python program is converted into bytecode that is then executed by the Python virtual machine.\"\"\""
   ]
  },
  {
   "cell_type": "code",
   "execution_count": 7,
   "id": "53e1eb9f-ed75-43e9-950a-3a18e8cc6bbd",
   "metadata": {},
   "outputs": [
    {
     "data": {
      "text/plain": [
       "' Q6. Python program is constructed from code blocks. A block is a piece of Python program text that is executed as a unit. The following are blocks: a module, a function body, and a class definition.'"
      ]
     },
     "execution_count": 7,
     "metadata": {},
     "output_type": "execute_result"
    }
   ],
   "source": [
    "\"\"\" Q6. Python program is constructed from code blocks. A block is a piece of Python program text that is executed as a unit. The following are blocks: a module, a function body, and a class definition.\"\"\""
   ]
  },
  {
   "cell_type": "code",
   "execution_count": 8,
   "id": "0a994576-7af5-4aa5-a5a5-ae707d9c55bf",
   "metadata": {},
   "outputs": [
    {
     "data": {
      "text/plain": [
       "'Q7.   # can be used for single line comments in python'"
      ]
     },
     "execution_count": 8,
     "metadata": {},
     "output_type": "execute_result"
    }
   ],
   "source": [
    "\"\"\"Q7.   # can be used for single line comments in python\"\"\""
   ]
  },
  {
   "cell_type": "code",
   "execution_count": 12,
   "id": "8fb1a238-c8be-492a-afd7-6df9062599f6",
   "metadata": {},
   "outputs": [
    {
     "data": {
      "text/plain": [
       "'3.10.8 | packaged by conda-forge | (main, Nov 22 2022, 08:26:04) [GCC 10.4.0]'"
      ]
     },
     "execution_count": 12,
     "metadata": {},
     "output_type": "execute_result"
    }
   ],
   "source": [
    "\"\"\" Q8. We can use the sys. version method present in the sys (system) module to print the version of the Python interpreter installed on the system. The sys. version method returns a string that contains the version number of the Python interpreter installed in the system.\"\"\"\n",
    "\n",
    "import sys\n",
    "sys.version"
   ]
  },
  {
   "cell_type": "code",
   "execution_count": 13,
   "id": "747e8e31-c34a-482e-a841-a9aa84bf1c2b",
   "metadata": {},
   "outputs": [
    {
     "data": {
      "text/plain": [
       "' Q9. Explanation: Python supports the creation of anonymous functions (i.e. functions that are not bound to a name) at runtime, using a construct called lambda. Lambda functions are restricted to a single expression. They can be used wherever normal functions can be used.'"
      ]
     },
     "execution_count": 13,
     "metadata": {},
     "output_type": "execute_result"
    }
   ],
   "source": [
    "\"\"\" Q9. Explanation: Python supports the creation of anonymous functions (i.e. functions that are not bound to a name) at runtime, using a construct called lambda. Lambda functions are restricted to a single expression. They can be used wherever normal functions can be used.\"\"\""
   ]
  },
  {
   "cell_type": "code",
   "execution_count": 15,
   "id": "29ccff45-a33c-4047-a7a6-477695864b6c",
   "metadata": {},
   "outputs": [
    {
     "data": {
      "text/plain": [
       "'Q10. PIP is a recursive acronym for “Preferred Installer Program” or PIP Installs Packages. '"
      ]
     },
     "execution_count": 15,
     "metadata": {},
     "output_type": "execute_result"
    }
   ],
   "source": [
    "\"\"\"Q10. PIP is a recursive acronym for “Preferred Installer Program” or PIP Installs Packages. \"\"\""
   ]
  },
  {
   "cell_type": "code",
   "execution_count": 16,
   "id": "fcf62867-5f4e-4ef1-b218-072f3f0edd38",
   "metadata": {},
   "outputs": [
    {
     "data": {
      "text/plain": [
       "'Q11. Some examples of built-in functions in Python are len(), str(), int(), float(), range(), max(), min(), sum(), open(), sorted(), and type().'"
      ]
     },
     "execution_count": 16,
     "metadata": {},
     "output_type": "execute_result"
    }
   ],
   "source": [
    "\"\"\"Q11. Some examples of built-in functions in Python are len(), str(), int(), float(), range(), max(), min(), sum(), open(), sorted(), and type().\"\"\""
   ]
  },
  {
   "cell_type": "code",
   "execution_count": 17,
   "id": "f3382ade-4497-45e1-bb4d-09dd6220f30b",
   "metadata": {},
   "outputs": [
    {
     "data": {
      "text/plain": [
       "' Q12. 79 characters\\nThe maximum possible length of an identifier in Python language is 79 characters. '"
      ]
     },
     "execution_count": 17,
     "metadata": {},
     "output_type": "execute_result"
    }
   ],
   "source": [
    "\"\"\" Q12. 79 characters\n",
    "The maximum possible length of an identifier in Python language is 79 characters. \"\"\""
   ]
  },
  {
   "cell_type": "code",
   "execution_count": 18,
   "id": "6ca6225c-a429-40c8-89cc-351f9ec083d1",
   "metadata": {},
   "outputs": [
    {
     "data": {
      "text/plain": [
       "\" Q13. \\nWhat are the advantage of Python programming language?\\nThose reasons include:\\nEarning Potential. Python is the second-highest paid computer language, according to Indeed. ...\\nEase of Comprehension. One of the top benefits of Python is that it is easy to learn and fun to use. ...\\nFlexibility. Not only is Python easy to learn, but also, it's flexible. ...\\nUsed in Many Industries.\""
      ]
     },
     "execution_count": 18,
     "metadata": {},
     "output_type": "execute_result"
    }
   ],
   "source": [
    "\"\"\" Q13. \n",
    "What are the advantage of Python programming language?\n",
    "Those reasons include:\n",
    "Earning Potential. Python is the second-highest paid computer language, according to Indeed. ...\n",
    "Ease of Comprehension. One of the top benefits of Python is that it is easy to learn and fun to use. ...\n",
    "Flexibility. Not only is Python easy to learn, but also, it's flexible. ...\n",
    "Used in Many Industries.\"\"\""
   ]
  },
  {
   "cell_type": "code",
   "execution_count": null,
   "id": "b2e49799-9f31-41a1-94c8-799e17543b0b",
   "metadata": {},
   "outputs": [],
   "source": [
    "\"\"\"Python uses the dynamic memory allocation which is managed by the Heap data structure. "
   ]
  }
 ],
 "metadata": {
  "kernelspec": {
   "display_name": "Python 3 (ipykernel)",
   "language": "python",
   "name": "python3"
  },
  "language_info": {
   "codemirror_mode": {
    "name": "ipython",
    "version": 3
   },
   "file_extension": ".py",
   "mimetype": "text/x-python",
   "name": "python",
   "nbconvert_exporter": "python",
   "pygments_lexer": "ipython3",
   "version": "3.10.8"
  }
 },
 "nbformat": 4,
 "nbformat_minor": 5
}

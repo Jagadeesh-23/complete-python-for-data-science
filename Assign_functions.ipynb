{
 "cells": [
  {
   "cell_type": "markdown",
   "id": "be34cf20-1be7-4719-aa46-b334d752ec19",
   "metadata": {},
   "source": [
    "# Q1."
   ]
  },
  {
   "cell_type": "code",
   "execution_count": 5,
   "id": "e2289469-66af-4f92-a191-2ab1fcc0ca94",
   "metadata": {},
   "outputs": [
    {
     "data": {
      "text/plain": [
       "[1, 3, 5, 7, 9, 11, 13, 15, 17, 19, 21, 23, 25]"
      ]
     },
     "execution_count": 5,
     "metadata": {},
     "output_type": "execute_result"
    }
   ],
   "source": [
    "def list_odd(n):\n",
    "    list_odd= []\n",
    "    for i in range(1, n+1):\n",
    "        if i%2!=0:\n",
    "            list_odd.append(i)\n",
    "    return list_odd\n",
    "            \n",
    "list_odd(25)"
   ]
  },
  {
   "cell_type": "markdown",
   "id": "adc6aa54-4407-4bbd-9c0f-4e9f0a2ee39c",
   "metadata": {},
   "source": [
    "# Q2.\n",
    "\n",
    "The *args parameter allows you to pass a variable number of non-keyword arguments to a function. It collects these arguments into a tuple within the function, which can then be accessed and manipulated.\n",
    "\n",
    "**kwargs allows you to pass a variable number of keyword arguments to a function. It collects these arguments into a dictionary within the function, where the keys represent the argument names and the values represent their corresponding values."
   ]
  },
  {
   "cell_type": "code",
   "execution_count": 6,
   "id": "2a3d73d7-9a1a-40eb-93b7-fc5ecaef8104",
   "metadata": {},
   "outputs": [
    {
     "name": "stdout",
     "output_type": "stream",
     "text": [
      "20\n"
     ]
    }
   ],
   "source": [
    "def calculate_sum(*args):\n",
    "    total = 0\n",
    "    for num in args:\n",
    "        total += num\n",
    "    return total\n",
    "\n",
    "result = calculate_sum(2, 4, 6, 8)\n",
    "print(result)\n"
   ]
  },
  {
   "cell_type": "code",
   "execution_count": 7,
   "id": "96e46190-0e17-431f-a00a-ab1876c50ba1",
   "metadata": {},
   "outputs": [
    {
     "name": "stdout",
     "output_type": "stream",
     "text": [
      "name: John\n",
      "age: 30\n",
      "city: New York\n"
     ]
    }
   ],
   "source": [
    "def display_info(**kwargs):\n",
    "    for key, value in kwargs.items():\n",
    "        print(f\"{key}: {value}\")\n",
    "\n",
    "display_info(name=\"John\", age=30, city=\"New York\")\n"
   ]
  },
  {
   "cell_type": "markdown",
   "id": "2e2d8871-6035-4d2f-bd8d-fefa0295eed3",
   "metadata": {},
   "source": [
    "# Q3.\n",
    "\n",
    "An iterator is an object that allows iteration over a sequence of elements. It provides a way to access the elements of a container or collection one by one, without the need to know the specific details of the container's implementation.\n",
    "\n",
    "To create an iterator object in Python, you need to use the iter() method, which takes an iterable object as an argument and returns an iterator object. The iterator object can then be used to iterate over the elements using the next() method."
   ]
  },
  {
   "cell_type": "code",
   "execution_count": 8,
   "id": "31bf5068-1175-4796-a69a-caea2bffee47",
   "metadata": {},
   "outputs": [
    {
     "name": "stdout",
     "output_type": "stream",
     "text": [
      "2\n",
      "4\n",
      "6\n",
      "8\n",
      "10\n"
     ]
    }
   ],
   "source": [
    "my_list = [2, 4, 6, 8, 10, 12, 14, 16, 18, 20]\n",
    "iterator = iter(my_list)\n",
    "\n",
    "for _ in range(5):\n",
    "    element = next(iterator)\n",
    "    print(element)\n"
   ]
  },
  {
   "cell_type": "markdown",
   "id": "cc977cd2-0c06-4c38-9b71-f0be60147bb7",
   "metadata": {},
   "source": [
    "# Q4.\n",
    "generator function is a special type of function that generates an iterator object when called. It uses the yield keyword to produce a sequence of values one at a time. Unlike regular functions that use the return statement to return a single value and terminate, generator functions can pause and resume their execution, remembering their state between iterations.\n",
    "\n",
    "The yield keyword is used in generator functions to define the points at which the function should yield a value and temporarily suspend its execution. When a generator function is called, it returns an iterator object. The iterator can be used to iterate over the values produced by the yield statements."
   ]
  },
  {
   "cell_type": "code",
   "execution_count": 9,
   "id": "1d3eda52-15b6-49e5-9901-6cb95a8b646e",
   "metadata": {},
   "outputs": [
    {
     "name": "stdout",
     "output_type": "stream",
     "text": [
      "0\n",
      "1\n",
      "2\n",
      "3\n",
      "4\n"
     ]
    }
   ],
   "source": [
    "def number_generator(n):\n",
    "    for i in range(n):\n",
    "        yield i\n",
    "\n",
    "# Create an iterator using the generator function\n",
    "iterator = number_generator(5)\n",
    "\n",
    "# Iterate over the values produced by the generator\n",
    "for num in iterator:\n",
    "    print(num)\n"
   ]
  },
  {
   "cell_type": "markdown",
   "id": "03b83f28-6cae-476a-a539-7b073b87f1b1",
   "metadata": {},
   "source": [
    "# Q5."
   ]
  },
  {
   "cell_type": "code",
   "execution_count": 10,
   "id": "495142de-aad9-4ba2-be67-d43b37435e8d",
   "metadata": {},
   "outputs": [
    {
     "name": "stdout",
     "output_type": "stream",
     "text": [
      "2\n",
      "3\n",
      "5\n",
      "7\n",
      "11\n",
      "13\n",
      "17\n",
      "19\n",
      "23\n",
      "29\n",
      "31\n",
      "37\n",
      "41\n",
      "43\n",
      "47\n",
      "53\n",
      "59\n",
      "61\n",
      "67\n",
      "71\n"
     ]
    }
   ],
   "source": [
    "def prime_generator():\n",
    "    num = 2\n",
    "    while num < 1000:\n",
    "        is_prime = True\n",
    "        for i in range(2, num):\n",
    "            if num % i == 0:\n",
    "                is_prime = False\n",
    "                break\n",
    "        if is_prime:\n",
    "            yield num\n",
    "        num += 1\n",
    "\n",
    "# Create the generator\n",
    "primes_iterator = prime_generator()\n",
    "\n",
    "# Print the first 20 prime numbers\n",
    "for _ in range(20):\n",
    "    prime = next(primes_iterator)\n",
    "    print(prime)\n"
   ]
  }
 ],
 "metadata": {
  "kernelspec": {
   "display_name": "Python 3 (ipykernel)",
   "language": "python",
   "name": "python3"
  },
  "language_info": {
   "codemirror_mode": {
    "name": "ipython",
    "version": 3
   },
   "file_extension": ".py",
   "mimetype": "text/x-python",
   "name": "python",
   "nbconvert_exporter": "python",
   "pygments_lexer": "ipython3",
   "version": "3.10.8"
  }
 },
 "nbformat": 4,
 "nbformat_minor": 5
}

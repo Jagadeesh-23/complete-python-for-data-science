{
 "cells": [
  {
   "cell_type": "code",
   "execution_count": 2,
   "id": "9af843b0",
   "metadata": {},
   "outputs": [
    {
     "name": "stdout",
     "output_type": "stream",
     "text": [
      "jagadeesh\n"
     ]
    }
   ],
   "source": [
    "print(\"jagadeesh\")"
   ]
  },
  {
   "cell_type": "code",
   "execution_count": 3,
   "id": "c02ff9f3",
   "metadata": {},
   "outputs": [
    {
     "name": "stdout",
     "output_type": "stream",
     "text": [
      "The Zen of Python, by Tim Peters\n",
      "\n",
      "Beautiful is better than ugly.\n",
      "Explicit is better than implicit.\n",
      "Simple is better than complex.\n",
      "Complex is better than complicated.\n",
      "Flat is better than nested.\n",
      "Sparse is better than dense.\n",
      "Readability counts.\n",
      "Special cases aren't special enough to break the rules.\n",
      "Although practicality beats purity.\n",
      "Errors should never pass silently.\n",
      "Unless explicitly silenced.\n",
      "In the face of ambiguity, refuse the temptation to guess.\n",
      "There should be one-- and preferably only one --obvious way to do it.\n",
      "Although that way may not be obvious at first unless you're Dutch.\n",
      "Now is better than never.\n",
      "Although never is often better than *right* now.\n",
      "If the implementation is hard to explain, it's a bad idea.\n",
      "If the implementation is easy to explain, it may be a good idea.\n",
      "Namespaces are one honking great idea -- let's do more of those!\n"
     ]
    }
   ],
   "source": [
    "import this"
   ]
  },
  {
   "cell_type": "code",
   "execution_count": 4,
   "id": "45dd0e8b",
   "metadata": {},
   "outputs": [
    {
     "name": "stdout",
     "output_type": "stream",
     "text": [
      "mouli\n"
     ]
    }
   ],
   "source": [
    "print(\"mouli\")"
   ]
  },
  {
   "cell_type": "code",
   "execution_count": 9,
   "id": "720b04bc",
   "metadata": {},
   "outputs": [
    {
     "name": "stdout",
     "output_type": "stream",
     "text": [
      "this is my first python code\n"
     ]
    }
   ],
   "source": [
    "print(\"this is my first python code\")"
   ]
  },
  {
   "cell_type": "code",
   "execution_count": 12,
   "id": "94794ca0",
   "metadata": {},
   "outputs": [
    {
     "ename": "SyntaxError",
     "evalue": "Missing parentheses in call to 'print'. Did you mean print(\" this is my first code\")? (2627211422.py, line 1)",
     "output_type": "error",
     "traceback": [
      "\u001b[1;36m  Input \u001b[1;32mIn [12]\u001b[1;36m\u001b[0m\n\u001b[1;33m    print \" this is my first code\"\u001b[0m\n\u001b[1;37m          ^\u001b[0m\n\u001b[1;31mSyntaxError\u001b[0m\u001b[1;31m:\u001b[0m Missing parentheses in call to 'print'. Did you mean print(\" this is my first code\")?\n"
     ]
    }
   ],
   "source": [
    "print \" this is my first code\""
   ]
  },
  {
   "cell_type": "code",
   "execution_count": 17,
   "id": "fa09e9b2",
   "metadata": {},
   "outputs": [
    {
     "data": {
      "text/plain": [
       "'hsfjhsfsfkfs\\nsdsfsf\\nf                    \\nsf\\nsf\\nsf\\n'"
      ]
     },
     "execution_count": 17,
     "metadata": {},
     "output_type": "execute_result"
    }
   ],
   "source": [
    "# my name is jagadeesh   single line comment\n",
    "#multiple line comment\n",
    "\"\"\"hsfjhsfsfkfs\n",
    "sdsfsf\n",
    "f                    \n",
    "sf\n",
    "sf\n",
    "sf\n",
    "\"\"\""
   ]
  },
  {
   "cell_type": "code",
   "execution_count": 18,
   "id": "d4c2c79a",
   "metadata": {},
   "outputs": [],
   "source": [
    "a=10"
   ]
  },
  {
   "cell_type": "code",
   "execution_count": 19,
   "id": "8c9f9a07",
   "metadata": {},
   "outputs": [
    {
     "data": {
      "text/plain": [
       "10"
      ]
     },
     "execution_count": 19,
     "metadata": {},
     "output_type": "execute_result"
    }
   ],
   "source": [
    "a"
   ]
  },
  {
   "cell_type": "code",
   "execution_count": 20,
   "id": "7b955a6f",
   "metadata": {},
   "outputs": [
    {
     "data": {
      "text/plain": [
       "int"
      ]
     },
     "execution_count": 20,
     "metadata": {},
     "output_type": "execute_result"
    }
   ],
   "source": [
    "type(a)    #type is func tells type of variable according to the stored data"
   ]
  },
  {
   "cell_type": "code",
   "execution_count": 21,
   "id": "2d408abf",
   "metadata": {},
   "outputs": [],
   "source": [
    "b= \"jaga\""
   ]
  },
  {
   "cell_type": "code",
   "execution_count": 22,
   "id": "8ba807d4",
   "metadata": {},
   "outputs": [
    {
     "data": {
      "text/plain": [
       "str"
      ]
     },
     "execution_count": 22,
     "metadata": {},
     "output_type": "execute_result"
    }
   ],
   "source": [
    "type(b)"
   ]
  },
  {
   "cell_type": "code",
   "execution_count": 23,
   "id": "82cf4d97",
   "metadata": {},
   "outputs": [
    {
     "name": "stdout",
     "output_type": "stream",
     "text": [
      "jaga 10\n"
     ]
    }
   ],
   "source": [
    "print(b,a)"
   ]
  },
  {
   "cell_type": "code",
   "execution_count": 24,
   "id": "2745bce1",
   "metadata": {},
   "outputs": [
    {
     "name": "stdout",
     "output_type": "stream",
     "text": [
      "jaga 10 yfgujhk\n"
     ]
    }
   ],
   "source": [
    "print(b, a, \"yfgujhk\")"
   ]
  },
  {
   "cell_type": "code",
   "execution_count": 25,
   "id": "2c4f2a75",
   "metadata": {},
   "outputs": [],
   "source": [
    "a= 45\n",
    "b= \"jaga\"    #normal method of declaration"
   ]
  },
  {
   "cell_type": "code",
   "execution_count": 28,
   "id": "ebc566f3",
   "metadata": {},
   "outputs": [],
   "source": [
    "a , b, c = 45, \"jaga\", \"fghj\"   #shortmethod to declare"
   ]
  },
  {
   "cell_type": "code",
   "execution_count": 31,
   "id": "df276a53",
   "metadata": {},
   "outputs": [
    {
     "data": {
      "text/plain": [
       "45"
      ]
     },
     "execution_count": 31,
     "metadata": {},
     "output_type": "execute_result"
    }
   ],
   "source": [
    "a"
   ]
  },
  {
   "cell_type": "code",
   "execution_count": 32,
   "id": "e38dc379",
   "metadata": {},
   "outputs": [
    {
     "data": {
      "text/plain": [
       "'jaga'"
      ]
     },
     "execution_count": 32,
     "metadata": {},
     "output_type": "execute_result"
    }
   ],
   "source": [
    "b"
   ]
  },
  {
   "cell_type": "code",
   "execution_count": 33,
   "id": "45e14b15",
   "metadata": {},
   "outputs": [
    {
     "data": {
      "text/plain": [
       "'fghj'"
      ]
     },
     "execution_count": 33,
     "metadata": {},
     "output_type": "execute_result"
    }
   ],
   "source": [
    "c"
   ]
  },
  {
   "cell_type": "code",
   "execution_count": 34,
   "id": "32821e26",
   "metadata": {},
   "outputs": [
    {
     "data": {
      "text/plain": [
       "(45, 'jaga', 'fghj')"
      ]
     },
     "execution_count": 34,
     "metadata": {},
     "output_type": "execute_result"
    }
   ],
   "source": [
    "a,b,c"
   ]
  },
  {
   "cell_type": "code",
   "execution_count": 36,
   "id": "35f9d368",
   "metadata": {},
   "outputs": [
    {
     "name": "stdout",
     "output_type": "stream",
     "text": [
      "45 jaga fghj\n"
     ]
    }
   ],
   "source": [
    "print(a,b,c)"
   ]
  },
  {
   "cell_type": "code",
   "execution_count": 37,
   "id": "b66b9a28",
   "metadata": {},
   "outputs": [],
   "source": [
    "b= '\"jaga\"'"
   ]
  },
  {
   "cell_type": "code",
   "execution_count": 38,
   "id": "7492b5c3",
   "metadata": {},
   "outputs": [
    {
     "data": {
      "text/plain": [
       "'\"jaga\"'"
      ]
     },
     "execution_count": 38,
     "metadata": {},
     "output_type": "execute_result"
    }
   ],
   "source": [
    "b"
   ]
  },
  {
   "cell_type": "code",
   "execution_count": 39,
   "id": "c743f20a",
   "metadata": {},
   "outputs": [
    {
     "name": "stdout",
     "output_type": "stream",
     "text": [
      "\"jaga\"\n"
     ]
    }
   ],
   "source": [
    "print(b)"
   ]
  },
  {
   "cell_type": "code",
   "execution_count": 40,
   "id": "cc5b18b2",
   "metadata": {},
   "outputs": [
    {
     "ename": "SyntaxError",
     "evalue": "invalid syntax (200186323.py, line 1)",
     "output_type": "error",
     "traceback": [
      "\u001b[1;36m  Input \u001b[1;32mIn [40]\u001b[1;36m\u001b[0m\n\u001b[1;33m    1b= \"ghjk\"    #varaiable name cannot start with integers and special cahracters except underscore(_)\u001b[0m\n\u001b[1;37m     ^\u001b[0m\n\u001b[1;31mSyntaxError\u001b[0m\u001b[1;31m:\u001b[0m invalid syntax\n"
     ]
    }
   ],
   "source": [
    "1b= \"ghjk\"    #varaiable name cannot start with integers and special cahracters except underscore(_)"
   ]
  },
  {
   "cell_type": "code",
   "execution_count": 41,
   "id": "8173fc96",
   "metadata": {},
   "outputs": [],
   "source": [
    "name= \"jagadeesh\"\n",
    "age= 21\n",
    "mail= \"jagadeesh.534@gmail.com\"\n",
    "amount = 123444.77"
   ]
  },
  {
   "cell_type": "code",
   "execution_count": 42,
   "id": "ea2e3ff9",
   "metadata": {},
   "outputs": [
    {
     "data": {
      "text/plain": [
       "float"
      ]
     },
     "execution_count": 42,
     "metadata": {},
     "output_type": "execute_result"
    }
   ],
   "source": [
    "type(amount)"
   ]
  },
  {
   "cell_type": "code",
   "execution_count": 43,
   "id": "95989129",
   "metadata": {},
   "outputs": [],
   "source": [
    "a= True\n",
    "b= False"
   ]
  },
  {
   "cell_type": "code",
   "execution_count": 44,
   "id": "b0aaf860",
   "metadata": {},
   "outputs": [
    {
     "data": {
      "text/plain": [
       "bool"
      ]
     },
     "execution_count": 44,
     "metadata": {},
     "output_type": "execute_result"
    }
   ],
   "source": [
    "type(a)"
   ]
  },
  {
   "cell_type": "code",
   "execution_count": 45,
   "id": "014049ed",
   "metadata": {},
   "outputs": [
    {
     "name": "stdout",
     "output_type": "stream",
     "text": [
      "4\n",
      "0\n"
     ]
    }
   ],
   "source": [
    "print(True +True+ True +False +True)\n",
    "print(False- True +True)"
   ]
  },
  {
   "cell_type": "code",
   "execution_count": 46,
   "id": "ebf4a6e4",
   "metadata": {},
   "outputs": [
    {
     "ename": "ZeroDivisionError",
     "evalue": "division by zero",
     "output_type": "error",
     "traceback": [
      "\u001b[1;31m---------------------------------------------------------------------------\u001b[0m",
      "\u001b[1;31mZeroDivisionError\u001b[0m                         Traceback (most recent call last)",
      "Input \u001b[1;32mIn [46]\u001b[0m, in \u001b[0;36m<cell line: 1>\u001b[1;34m()\u001b[0m\n\u001b[1;32m----> 1\u001b[0m \u001b[38;5;28;43;01mTrue\u001b[39;49;00m\u001b[38;5;241;43m/\u001b[39;49m\u001b[38;5;28;43;01mFalse\u001b[39;49;00m\n",
      "\u001b[1;31mZeroDivisionError\u001b[0m: division by zero"
     ]
    }
   ],
   "source": [
    "True/False"
   ]
  },
  {
   "cell_type": "code",
   "execution_count": 47,
   "id": "56ef3ce2",
   "metadata": {},
   "outputs": [],
   "source": [
    "n = 45+6j     # only j is accepted to represent a complex number"
   ]
  },
  {
   "cell_type": "code",
   "execution_count": 49,
   "id": "7e77daa5",
   "metadata": {},
   "outputs": [
    {
     "data": {
      "text/plain": [
       "complex"
      ]
     },
     "execution_count": 49,
     "metadata": {},
     "output_type": "execute_result"
    }
   ],
   "source": [
    "type(n)"
   ]
  },
  {
   "cell_type": "code",
   "execution_count": 50,
   "id": "5fa6c38e",
   "metadata": {},
   "outputs": [
    {
     "data": {
      "text/plain": [
       "(45+6j)"
      ]
     },
     "execution_count": 50,
     "metadata": {},
     "output_type": "execute_result"
    }
   ],
   "source": [
    "n"
   ]
  },
  {
   "cell_type": "code",
   "execution_count": 52,
   "id": "bf696cc4",
   "metadata": {},
   "outputs": [
    {
     "data": {
      "text/plain": [
       "45.0"
      ]
     },
     "execution_count": 52,
     "metadata": {},
     "output_type": "execute_result"
    }
   ],
   "source": [
    "n.real"
   ]
  },
  {
   "cell_type": "code",
   "execution_count": 53,
   "id": "790c31b7",
   "metadata": {},
   "outputs": [
    {
     "data": {
      "text/plain": [
       "6.0"
      ]
     },
     "execution_count": 53,
     "metadata": {},
     "output_type": "execute_result"
    }
   ],
   "source": [
    "n.imag"
   ]
  },
  {
   "cell_type": "code",
   "execution_count": 54,
   "id": "a7169e89",
   "metadata": {},
   "outputs": [
    {
     "ename": "TypeError",
     "evalue": "unsupported operand type(s) for +: 'int' and 'str'",
     "output_type": "error",
     "traceback": [
      "\u001b[1;31m---------------------------------------------------------------------------\u001b[0m",
      "\u001b[1;31mTypeError\u001b[0m                                 Traceback (most recent call last)",
      "Input \u001b[1;32mIn [54]\u001b[0m, in \u001b[0;36m<cell line: 1>\u001b[1;34m()\u001b[0m\n\u001b[1;32m----> 1\u001b[0m \u001b[38;5;241;43m1\u001b[39;49m\u001b[38;5;241;43m+\u001b[39;49m\u001b[38;5;124;43m\"\u001b[39;49m\u001b[38;5;124;43mjaga\u001b[39;49m\u001b[38;5;124;43m\"\u001b[39;49m\n",
      "\u001b[1;31mTypeError\u001b[0m: unsupported operand type(s) for +: 'int' and 'str'"
     ]
    }
   ],
   "source": [
    "1+\"jaga\""
   ]
  },
  {
   "cell_type": "code",
   "execution_count": 55,
   "id": "c3c6ad65",
   "metadata": {},
   "outputs": [
    {
     "data": {
      "text/plain": [
       "'1jaga'"
      ]
     },
     "execution_count": 55,
     "metadata": {},
     "output_type": "execute_result"
    }
   ],
   "source": [
    "\"1\"+\"jaga\""
   ]
  },
  {
   "cell_type": "code",
   "execution_count": 56,
   "id": "1aba99c7",
   "metadata": {},
   "outputs": [
    {
     "data": {
      "text/plain": [
       "2.0"
      ]
     },
     "execution_count": 56,
     "metadata": {},
     "output_type": "execute_result"
    }
   ],
   "source": [
    "1+1.0"
   ]
  },
  {
   "cell_type": "code",
   "execution_count": 57,
   "id": "69119dd8",
   "metadata": {},
   "outputs": [
    {
     "data": {
      "text/plain": [
       "'jagajagajaga'"
      ]
     },
     "execution_count": 57,
     "metadata": {},
     "output_type": "execute_result"
    }
   ],
   "source": [
    "\"jaga\"+\"jaga\"+\"jaga\""
   ]
  },
  {
   "cell_type": "code",
   "execution_count": 58,
   "id": "e0e29267",
   "metadata": {},
   "outputs": [
    {
     "data": {
      "text/plain": [
       "'jagajagajaga'"
      ]
     },
     "execution_count": 58,
     "metadata": {},
     "output_type": "execute_result"
    }
   ],
   "source": [
    "\"jaga\" * 3"
   ]
  },
  {
   "cell_type": "code",
   "execution_count": null,
   "id": "3e0e9248",
   "metadata": {
    "scrolled": true
   },
   "outputs": [],
   "source": []
  },
  {
   "cell_type": "code",
   "execution_count": 60,
   "id": "98e871a4",
   "metadata": {},
   "outputs": [
    {
     "data": {
      "text/plain": [
       "23"
      ]
     },
     "execution_count": 60,
     "metadata": {},
     "output_type": "execute_result"
    }
   ],
   "source": [
    "int(\"23\")"
   ]
  },
  {
   "cell_type": "code",
   "execution_count": 62,
   "id": "3ead1d28",
   "metadata": {},
   "outputs": [
    {
     "ename": "ValueError",
     "evalue": "invalid literal for int() with base 10: 'vgh567b'",
     "output_type": "error",
     "traceback": [
      "\u001b[1;31m---------------------------------------------------------------------------\u001b[0m",
      "\u001b[1;31mValueError\u001b[0m                                Traceback (most recent call last)",
      "Input \u001b[1;32mIn [62]\u001b[0m, in \u001b[0;36m<cell line: 1>\u001b[1;34m()\u001b[0m\n\u001b[1;32m----> 1\u001b[0m \u001b[38;5;28;43mint\u001b[39;49m\u001b[43m(\u001b[49m\u001b[38;5;124;43m\"\u001b[39;49m\u001b[38;5;124;43mvgh567b\u001b[39;49m\u001b[38;5;124;43m\"\u001b[39;49m\u001b[43m)\u001b[49m\n",
      "\u001b[1;31mValueError\u001b[0m: invalid literal for int() with base 10: 'vgh567b'"
     ]
    }
   ],
   "source": [
    "int(\"vgh567b\")"
   ]
  },
  {
   "cell_type": "code",
   "execution_count": 63,
   "id": "8cea3f32",
   "metadata": {},
   "outputs": [
    {
     "name": "stdout",
     "output_type": "stream",
     "text": [
      "enter your integer10\n"
     ]
    }
   ],
   "source": [
    "a= input(\"enter your integer\")"
   ]
  },
  {
   "cell_type": "code",
   "execution_count": 64,
   "id": "3ef552f5",
   "metadata": {},
   "outputs": [
    {
     "data": {
      "text/plain": [
       "'10'"
      ]
     },
     "execution_count": 64,
     "metadata": {},
     "output_type": "execute_result"
    }
   ],
   "source": [
    "a"
   ]
  },
  {
   "cell_type": "code",
   "execution_count": 65,
   "id": "a7eb6591",
   "metadata": {},
   "outputs": [
    {
     "name": "stdout",
     "output_type": "stream",
     "text": [
      "enter your stringdfghj\n"
     ]
    }
   ],
   "source": [
    "b= input(\"enter your string\")"
   ]
  },
  {
   "cell_type": "code",
   "execution_count": 66,
   "id": "a0c2f5b2",
   "metadata": {},
   "outputs": [
    {
     "data": {
      "text/plain": [
       "'dfghj'"
      ]
     },
     "execution_count": 66,
     "metadata": {},
     "output_type": "execute_result"
    }
   ],
   "source": [
    "b"
   ]
  },
  {
   "cell_type": "code",
   "execution_count": 67,
   "id": "d7663560",
   "metadata": {},
   "outputs": [
    {
     "data": {
      "text/plain": [
       "str"
      ]
     },
     "execution_count": 67,
     "metadata": {},
     "output_type": "execute_result"
    }
   ],
   "source": [
    "type(a)   #although we entered integer why it is showing as str?  because input fucntion always converts the given data into a string"
   ]
  },
  {
   "cell_type": "code",
   "execution_count": 73,
   "id": "c4eddd59",
   "metadata": {},
   "outputs": [
    {
     "name": "stdout",
     "output_type": "stream",
     "text": [
      "enter your integer3\n",
      "enter your integer4\n",
      "enter your integer5\n"
     ]
    }
   ],
   "source": [
    "a = int(input(\"enter your integer\"))     #so for pure integer we have to typecast \n",
    "b = int(input(\"enter your integer\"))\n",
    "c = int(input(\"enter your integer\"))\n",
    "d=(a+b)/c\n",
    "e= 4+5j\n",
    "f= d+e\n",
    "g= str(f)+\"jagadeesh\""
   ]
  },
  {
   "cell_type": "code",
   "execution_count": 74,
   "id": "ac1c4fe2",
   "metadata": {},
   "outputs": [
    {
     "data": {
      "text/plain": [
       "'(5.4+5j)jagadeesh'"
      ]
     },
     "execution_count": 74,
     "metadata": {},
     "output_type": "execute_result"
    }
   ],
   "source": [
    "g"
   ]
  },
  {
   "cell_type": "code",
   "execution_count": 75,
   "id": "10a0e4e1",
   "metadata": {},
   "outputs": [
    {
     "data": {
      "text/plain": [
       "complex"
      ]
     },
     "execution_count": 75,
     "metadata": {},
     "output_type": "execute_result"
    }
   ],
   "source": [
    "type(f)"
   ]
  },
  {
   "cell_type": "code",
   "execution_count": 76,
   "id": "e3bde2dd",
   "metadata": {},
   "outputs": [
    {
     "data": {
      "text/plain": [
       "(5.4+5j)"
      ]
     },
     "execution_count": 76,
     "metadata": {},
     "output_type": "execute_result"
    }
   ],
   "source": [
    "f"
   ]
  },
  {
   "cell_type": "code",
   "execution_count": 84,
   "id": "23a72ab6",
   "metadata": {},
   "outputs": [
    {
     "name": "stdout",
     "output_type": "stream",
     "text": [
      "enter the integer less than 50__78\n",
      "please enter the number less than  50\n"
     ]
    }
   ],
   "source": [
    "a= int(input(\"enter the integer less than 50__\"))\n",
    "if(a<50):\n",
    "    pass\n",
    "else:\n",
    "    print(\"please enter the number less than  50\")"
   ]
  },
  {
   "cell_type": "code",
   "execution_count": 87,
   "id": "0e5c5e89",
   "metadata": {},
   "outputs": [
    {
     "name": "stdout",
     "output_type": "stream",
     "text": [
      "enetr your salary4\n",
      "i will buy a car\n"
     ]
    }
   ],
   "source": [
    "salary= int(input(\"enetr your salary\"))\n",
    "if salary<1000:\n",
    "    print(\"i will buy a car\")\n",
    "elif salary<500:\n",
    "    print(\"i will buy a bike\")\n",
    "elif salary<100:\n",
    "    print(\"i will not buy anything\")\n",
    "else:\n",
    "    print(\"i will go for saving\")"
   ]
  },
  {
   "cell_type": "code",
   "execution_count": 88,
   "id": "02e3049c",
   "metadata": {},
   "outputs": [
    {
     "name": "stdout",
     "output_type": "stream",
     "text": [
      "enetr your salary10056\n",
      "your salary is good\n",
      "i will go to car nano\n"
     ]
    }
   ],
   "source": [
    "salary= int(input(\"enetr your salary\"))\n",
    "if salary>1000:\n",
    "    print(\"your salary is good\")\n",
    "    if salary>5000:\n",
    "        print(\"i will go to car nano\")\n",
    "    elif salary>10000:\n",
    "        print(\"i will go for maruthi\")\n",
    "    elif salary>50000:\n",
    "        print(\"i will go for toyota\")\n",
    "elif salary>500:\n",
    "    print(\"i will buy a bike\")\n",
    "elif salary>100:\n",
    "    print(\"i will not buy anything\")\n",
    "else:\n",
    "    print(\"i will go for saving\")\n"
   ]
  },
  {
   "cell_type": "code",
   "execution_count": null,
   "id": "e1f6c2de",
   "metadata": {},
   "outputs": [],
   "source": []
  }
 ],
 "metadata": {
  "kernelspec": {
   "display_name": "Python 3 (ipykernel)",
   "language": "python",
   "name": "python3"
  },
  "language_info": {
   "codemirror_mode": {
    "name": "ipython",
    "version": 3
   },
   "file_extension": ".py",
   "mimetype": "text/x-python",
   "name": "python",
   "nbconvert_exporter": "python",
   "pygments_lexer": "ipython3",
   "version": "3.9.12"
  }
 },
 "nbformat": 4,
 "nbformat_minor": 5
}

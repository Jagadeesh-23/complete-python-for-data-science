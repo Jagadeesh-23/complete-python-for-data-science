{
 "cells": [
  {
   "cell_type": "markdown",
   "id": "5696f345-f83a-404f-8f3a-0353a7b8bc29",
   "metadata": {},
   "source": [
    "# Q1. "
   ]
  },
  {
   "cell_type": "code",
   "execution_count": 1,
   "id": "d0b1ae8e-8fa6-43ff-8923-c82056c8b0cd",
   "metadata": {},
   "outputs": [
    {
     "name": "stdout",
     "output_type": "stream",
     "text": [
      "('Virat Kohli', 24936)\n",
      "('Jack Kallis', 25534)\n",
      "('Ricky Ponting', 27483)\n",
      "('Sachin Tendulkar', 34357)\n"
     ]
    }
   ],
   "source": [
    "data = [('Sachin Tendulkar', 34357), ('Ricky Ponting', 27483), ('Jack Kallis', 25534), ('Virat Kohli', 24936)]\n",
    "\n",
    "sorted_data = sorted(data, key=lambda x: x[1])\n",
    "\n",
    "for item in sorted_data:\n",
    "    print(item)\n"
   ]
  },
  {
   "cell_type": "markdown",
   "id": "2c118394-fd1b-45d0-919c-ce560bf0f122",
   "metadata": {},
   "source": [
    "# Q2. "
   ]
  },
  {
   "cell_type": "code",
   "execution_count": 5,
   "id": "fe37ac04-78d2-4bb3-a416-371d1aab12c5",
   "metadata": {},
   "outputs": [
    {
     "data": {
      "text/plain": [
       "[1, 4, 9, 16, 25, 36, 49, 64, 81, 100]"
      ]
     },
     "execution_count": 5,
     "metadata": {},
     "output_type": "execute_result"
    }
   ],
   "source": [
    "\"\"\"Write a Python Program to find the squares of all the numbers in the given list of integers using\n",
    "lambda and map functions.\n",
    "[1, 2, 3, 4, 5, 6, 7, 8, 9, 10]\"\"\"\n",
    "\n",
    "lis= [1, 2, 3, 4,5, 6,7, 8,9, 10]\n",
    "\n",
    "list(map(lambda x: x**2, lis))\n",
    "\n",
    "\n"
   ]
  },
  {
   "cell_type": "markdown",
   "id": "01a85208-156a-4778-8c06-7d9a5613c330",
   "metadata": {},
   "source": [
    "# Q3."
   ]
  },
  {
   "cell_type": "code",
   "execution_count": 6,
   "id": "2011ecf1-e07d-4f4c-94df-a21c74b54522",
   "metadata": {},
   "outputs": [
    {
     "data": {
      "text/plain": [
       "['1', '2', '3', '4', '5', '6', '7', '8', '9', '10']"
      ]
     },
     "execution_count": 6,
     "metadata": {},
     "output_type": "execute_result"
    }
   ],
   "source": [
    "\"\"\"Write a python program to convert the given list of integers into a tuple of strings. Use map and\n",
    "lambda functions\n",
    "Given String: [1, 2, 3, 4, 5, 6, 7, 8, 9, 10]\n",
    "Expected output: ('1', '2', '3', '4', '5', '6', '7', '8', '9', '10')\"\"\"\n",
    "\n",
    "\n",
    "list(map(lambda x: str(x), lis))\n"
   ]
  },
  {
   "cell_type": "markdown",
   "id": "3e7e56ba-62f2-46b2-b801-a43e6717a9db",
   "metadata": {},
   "source": [
    "# Q4. "
   ]
  },
  {
   "cell_type": "code",
   "execution_count": 16,
   "id": "0d1e35f1-2b90-4006-9d32-dbda73668236",
   "metadata": {},
   "outputs": [
    {
     "data": {
      "text/plain": [
       "15511210043330985984000000"
      ]
     },
     "execution_count": 16,
     "metadata": {},
     "output_type": "execute_result"
    }
   ],
   "source": [
    "\"Write a python program using reduce function to compute the product of a list containing numbers from 1 to 25\"\"\"\n",
    "\n",
    "lis= list(range(1, 26))\n",
    "from functools import reduce\n",
    "\n",
    "reduce(lambda x, y: x*y,lis)\n",
    "\n"
   ]
  },
  {
   "cell_type": "markdown",
   "id": "ecc264e1-df23-48b2-b63e-e37264bebbb2",
   "metadata": {},
   "source": [
    "# Q5. "
   ]
  },
  {
   "cell_type": "code",
   "execution_count": 19,
   "id": "bb697bae-3acf-4a9f-9685-24386ae95b5c",
   "metadata": {},
   "outputs": [
    {
     "data": {
      "text/plain": [
       "[6, 60, 90, 120]"
      ]
     },
     "execution_count": 19,
     "metadata": {},
     "output_type": "execute_result"
    }
   ],
   "source": [
    "\"\"\"Write a python program to filter the numbers in a given list that are divisible by 2 and 3 using the\n",
    "filter function.\n",
    "[2, 3, 6, 9, 27, 60, 90, 120, 55, 46]\"\"\"\n",
    "\n",
    "lis= [2, 3, 6, 9, 27, 60, 90, 120, 55, 46]\n",
    "\n",
    "list(filter(lambda x: x%2==0 and x%3==0 , lis))\n"
   ]
  },
  {
   "cell_type": "markdown",
   "id": "ea60c5f8-2aea-4211-90b4-96f10eb87a40",
   "metadata": {},
   "source": [
    "# Q6."
   ]
  },
  {
   "cell_type": "code",
   "execution_count": 15,
   "id": "497c7793-eee2-460f-acbb-da0661ea1353",
   "metadata": {},
   "outputs": [
    {
     "data": {
      "text/plain": [
       "['php', 'aba', 'radar', 'level']"
      ]
     },
     "execution_count": 15,
     "metadata": {},
     "output_type": "execute_result"
    }
   ],
   "source": [
    "list(filter(lambda x: (x== \"\".join(reversed(x))), ['python', 'php', 'aba', 'radar', 'level']))"
   ]
  },
  {
   "cell_type": "code",
   "execution_count": null,
   "id": "97f48331-7c55-42c5-90ad-cfe98ea2cb6f",
   "metadata": {},
   "outputs": [],
   "source": []
  }
 ],
 "metadata": {
  "kernelspec": {
   "display_name": "Python 3 (ipykernel)",
   "language": "python",
   "name": "python3"
  },
  "language_info": {
   "codemirror_mode": {
    "name": "ipython",
    "version": 3
   },
   "file_extension": ".py",
   "mimetype": "text/x-python",
   "name": "python",
   "nbconvert_exporter": "python",
   "pygments_lexer": "ipython3",
   "version": "3.10.8"
  }
 },
 "nbformat": 4,
 "nbformat_minor": 5
}

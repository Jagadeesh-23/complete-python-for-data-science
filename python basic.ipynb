{
 "cells": [
  {
   "cell_type": "code",
   "execution_count": null,
   "id": "3d10b704-75b4-4fb6-8a24-f6ec5ff5ffe9",
   "metadata": {},
   "outputs": [],
   "source": [
    "print(\"this is my first prog\")"
   ]
  },
  {
   "cell_type": "code",
   "execution_count": null,
   "id": "560849b2-a22f-48bc-a676-1c09ccb5fc11",
   "metadata": {},
   "outputs": [],
   "source": [
    "1**2"
   ]
  },
  {
   "cell_type": "code",
   "execution_count": null,
   "id": "e2bc0856-3166-454d-93c7-7c3fadbfa818",
   "metadata": {},
   "outputs": [],
   "source": [
    "3/7"
   ]
  },
  {
   "cell_type": "code",
   "execution_count": null,
   "id": "410f4d85-1e42-4002-a8a3-e0f235ffdafd",
   "metadata": {},
   "outputs": [],
   "source": [
    "1+2"
   ]
  },
  {
   "cell_type": "code",
   "execution_count": null,
   "id": "246146d0-51c3-41d0-87a1-18b53c81cc97",
   "metadata": {},
   "outputs": [],
   "source": [
    "a= 10      #assignment of a value to a variable"
   ]
  },
  {
   "cell_type": "code",
   "execution_count": null,
   "id": "eee45251-c3bc-48ec-9e9f-6712d5b82ef2",
   "metadata": {},
   "outputs": [],
   "source": [
    "type(a)     #type is a function used to find the type of a variable"
   ]
  },
  {
   "cell_type": "code",
   "execution_count": null,
   "id": "1028e639-b24b-4630-9b4e-be5a5e7dc121",
   "metadata": {},
   "outputs": [],
   "source": [
    "b= 45.67   #assigning a float value "
   ]
  },
  {
   "cell_type": "code",
   "execution_count": null,
   "id": "cd0d0c51-e6c6-4bf4-882b-63e5a41616c5",
   "metadata": {},
   "outputs": [],
   "source": [
    "type(b)"
   ]
  },
  {
   "cell_type": "code",
   "execution_count": null,
   "id": "775b5b01-f9f0-47b8-b228-074b5a715cdf",
   "metadata": {},
   "outputs": [],
   "source": [
    "c= 5+7j    #assigning a complex number"
   ]
  },
  {
   "cell_type": "code",
   "execution_count": null,
   "id": "0c864e83-3c12-49c6-bb38-b631a8bb3f90",
   "metadata": {},
   "outputs": [],
   "source": [
    "type(c)"
   ]
  },
  {
   "cell_type": "code",
   "execution_count": null,
   "id": "ec899d0e-bbea-4a53-96e6-a69b916f3095",
   "metadata": {},
   "outputs": [],
   "source": [
    "c.imag"
   ]
  },
  {
   "cell_type": "code",
   "execution_count": null,
   "id": "e5de3553-b278-4992-9033-53019a4b92b0",
   "metadata": {},
   "outputs": [],
   "source": [
    "c.real"
   ]
  },
  {
   "cell_type": "code",
   "execution_count": null,
   "id": "0c8fba27-a087-49eb-b1fd-05fa3f12f7d1",
   "metadata": {},
   "outputs": [],
   "source": [
    "c.conjugate()    #we can also get a conjugate for a complex number"
   ]
  },
  {
   "cell_type": "code",
   "execution_count": null,
   "id": "19ce3140-bdfd-4910-b793-59eec38bad25",
   "metadata": {},
   "outputs": [],
   "source": [
    "d= \"my name is jagadeesh\"    #assingning a strig to a varaible"
   ]
  },
  {
   "cell_type": "code",
   "execution_count": null,
   "id": "d41b9dca-ec4c-45a8-b646-3495d0083430",
   "metadata": {},
   "outputs": [],
   "source": [
    "d"
   ]
  },
  {
   "cell_type": "code",
   "execution_count": null,
   "id": "4956f997-dd49-460c-b73b-cdbde5fafe65",
   "metadata": {},
   "outputs": [],
   "source": [
    "e, f, g, h, i = 3, 6.6, 5+7j, \"dwfwf\", False    #multiple assignment in a single line of code"
   ]
  },
  {
   "cell_type": "code",
   "execution_count": null,
   "id": "9d49f54e-ad0a-43c3-825e-c04cdb8d6bef",
   "metadata": {},
   "outputs": [],
   "source": [
    "e, f    #requesting multople vlaues in a single line of code gives you the values in a form of tuple"
   ]
  },
  {
   "cell_type": "code",
   "execution_count": null,
   "id": "d770fad7-ac9c-4a38-9e32-c47d498f8e60",
   "metadata": {},
   "outputs": [],
   "source": [
    "h+5      #contatetion is only possible between two strings"
   ]
  },
  {
   "cell_type": "code",
   "execution_count": null,
   "id": "5c9b753a-0e31-44af-9fae-212812a2de23",
   "metadata": {},
   "outputs": [],
   "source": [
    "y= \"4\""
   ]
  },
  {
   "cell_type": "code",
   "execution_count": null,
   "id": "6d201797-9702-4b40-b0cf-6492baf98ed8",
   "metadata": {},
   "outputs": [],
   "source": [
    "y+'5'    #Here concatenation is possible because 5 is in the form of string"
   ]
  },
  {
   "cell_type": "code",
   "execution_count": null,
   "id": "0c544da8-04ab-4628-b159-5a0353a065f2",
   "metadata": {},
   "outputs": [],
   "source": [
    "k= '5'"
   ]
  },
  {
   "cell_type": "code",
   "execution_count": null,
   "id": "f2d33d88-6c85-4950-8074-afa556b0b392",
   "metadata": {},
   "outputs": [],
   "source": [
    "int(k)+6    #here int funtion acts as a typecasting function"
   ]
  },
  {
   "cell_type": "code",
   "execution_count": null,
   "id": "0eb23cf4-a761-40f0-bb9b-b84293707c9f",
   "metadata": {},
   "outputs": [],
   "source": [
    "str(324567)   #here str acts as a typecasting function"
   ]
  },
  {
   "cell_type": "code",
   "execution_count": null,
   "id": "6b096158-0211-4fac-83d4-5a6f422adc0d",
   "metadata": {},
   "outputs": [],
   "source": [
    "d"
   ]
  },
  {
   "cell_type": "markdown",
   "id": "de95212f-0ffe-41c1-af68-f9e15a2d284f",
   "metadata": {},
   "source": [
    "#Scling and indexing operations on a string, Remember index always start from zero, and also space is also considered as a character only"
   ]
  },
  {
   "cell_type": "code",
   "execution_count": null,
   "id": "44ef3c32-1640-4910-b517-7d89cd2a7e5e",
   "metadata": {},
   "outputs": [],
   "source": [
    "d"
   ]
  },
  {
   "cell_type": "code",
   "execution_count": null,
   "id": "4b19b518-c360-4790-972f-974241310def",
   "metadata": {},
   "outputs": [],
   "source": [
    "d[0]    #slicing operation of a string"
   ]
  },
  {
   "cell_type": "code",
   "execution_count": null,
   "id": "bc936d9e-d6ac-4c1c-9bdb-ccb9a963efc1",
   "metadata": {},
   "outputs": [],
   "source": [
    "d[0:3]       #indexing will be in the form of [start: End: step] and always rememner that end is always excluded i.e if end is n the output will be n-1"
   ]
  },
  {
   "cell_type": "code",
   "execution_count": null,
   "id": "9740cf78-6a52-4f16-b39c-8c70cd99255b",
   "metadata": {},
   "outputs": [],
   "source": [
    "d[300]   #here it gives error because we are trying to get the value which is out of index range"
   ]
  },
  {
   "cell_type": "code",
   "execution_count": null,
   "id": "fdb3c93c-3a40-40ed-b167-bc980aac7372",
   "metadata": {},
   "outputs": [],
   "source": [
    "d[0:300]    #gives complete string because we are scling in range of indeces and 300 will include all the index values of all the characters in the string"
   ]
  },
  {
   "cell_type": "markdown",
   "id": "eaec5a6f-9fe1-43c8-801e-45983d060608",
   "metadata": {},
   "source": [
    " #here is giving 1 as a step is optional beacuse step actually have two uses 1.How many jumps to reach next character 2.To indicate that the scling is forward or backward. since 1 is a posiitve, so it is forward and 1 is optinal to give as a step size because generally 1 is default step size"
   ]
  },
  {
   "cell_type": "code",
   "execution_count": null,
   "id": "a7869df4-8c10-4186-b883-01d7aedd08cc",
   "metadata": {},
   "outputs": [],
   "source": [
    "d[0:3:1]   #1 is optional (because by default step size (is 1 and sclicing order is also forward"
   ]
  },
  {
   "cell_type": "code",
   "execution_count": null,
   "id": "ee647edc-38ec-4672-b82b-824ebca210a8",
   "metadata": {},
   "outputs": [],
   "source": [
    "d[0:5:2]    #here jump size is 2"
   ]
  },
  {
   "cell_type": "code",
   "execution_count": null,
   "id": "0e53bca8-d678-4e72-8cd4-24307357617a",
   "metadata": {},
   "outputs": [],
   "source": [
    "d[0:100:-1]    #Actually here we are sclicing in te forward direction but given the jump size in the negative direction dur ==e to which a concflict occurs, so we ca't get the value "
   ]
  },
  {
   "cell_type": "code",
   "execution_count": null,
   "id": "4bcfc936-17a4-4aab-a259-151f003ddea6",
   "metadata": {},
   "outputs": [],
   "source": [
    "d[-1:-4]  #again here we are sclicing in the backward direction but the jump is default in the positive directiion (i.e 1)"
   ]
  },
  {
   "cell_type": "code",
   "execution_count": null,
   "id": "eaba2641-c4fc-419c-8c96-f7979a75124e",
   "metadata": {},
   "outputs": [],
   "source": [
    "d[:9]   #by default start index is zero"
   ]
  },
  {
   "cell_type": "code",
   "execution_count": null,
   "id": "2c5646f6-8702-403a-910f-0f95af4df011",
   "metadata": {},
   "outputs": [],
   "source": [
    "d[:-2]    #here start is zero but the end is -2 that means it should exclude -2 (upper bound exclude) by considering upto -3"
   ]
  },
  {
   "cell_type": "code",
   "execution_count": null,
   "id": "d37910f6-af2c-4014-93a8-9119b14416ff",
   "metadata": {},
   "outputs": [],
   "source": [
    "d[-2:]"
   ]
  },
  {
   "cell_type": "code",
   "execution_count": null,
   "id": "224eb22b-88cb-4fde-b460-4c4d1b5ace7f",
   "metadata": {},
   "outputs": [],
   "source": [
    "d[::-1]    #complete reverse of  a string"
   ]
  },
  {
   "cell_type": "code",
   "execution_count": null,
   "id": "bf8fdac6-201b-46b7-b450-6fb9aaafb582",
   "metadata": {},
   "outputs": [],
   "source": [
    "d[-5:5]  #here we started with -5 but end with postive which makes a conflict because we have our jump direction as a positive"
   ]
  },
  {
   "cell_type": "code",
   "execution_count": null,
   "id": "740c7014-174a-434b-9848-547596ddaf19",
   "metadata": {},
   "outputs": [],
   "source": [
    "d[-5:5:-1]"
   ]
  },
  {
   "cell_type": "code",
   "execution_count": null,
   "id": "57af5baa-b5cf-4941-b223-11e8ab9ff6cf",
   "metadata": {},
   "outputs": [],
   "source": [
    "\"jaga\"*3   #repetition of the string"
   ]
  },
  {
   "cell_type": "code",
   "execution_count": null,
   "id": "1c0a0763-4ae6-4885-8255-c22b4bb430d4",
   "metadata": {},
   "outputs": [],
   "source": [
    "\"jaga\"+\"M\"   #concatenation of the string"
   ]
  },
  {
   "cell_type": "code",
   "execution_count": null,
   "id": "be560e29-691c-4cf5-af8c-693298998b72",
   "metadata": {},
   "outputs": [],
   "source": [
    "d.find(\"g\")    #find function only gives the index of first occureance in the string"
   ]
  },
  {
   "cell_type": "code",
   "execution_count": null,
   "id": "c4d63f34-b9d0-49e4-b03f-61ad80d6854c",
   "metadata": {},
   "outputs": [],
   "source": [
    "d.find(\"ja\")   #gives the index of the first occurance and index value will be the value of index will be the index value of the first leeter in the given input"
   ]
  },
  {
   "cell_type": "code",
   "execution_count": null,
   "id": "5b5ce1e1-27e1-46d1-963d-f55e43bf5e04",
   "metadata": {},
   "outputs": [],
   "source": [
    "r= d.split()    #split function is used to split the entire string into multiple strings in the form of a list by considering the space as a default seperartor.\n",
    "r"
   ]
  },
  {
   "cell_type": "code",
   "execution_count": null,
   "id": "f7d3ef24-2ffe-41d6-83ac-496560c994fd",
   "metadata": {},
   "outputs": [],
   "source": [
    "r[0]   #we can also do indexing of list"
   ]
  },
  {
   "cell_type": "code",
   "execution_count": null,
   "id": "ba9b0b2f-f10b-4803-b7a2-409b224ca04a",
   "metadata": {},
   "outputs": [],
   "source": [
    "z= d.split(\"a\")   #here the sep= \"a\""
   ]
  },
  {
   "cell_type": "code",
   "execution_count": null,
   "id": "852888bf-8556-495e-b839-76238115660c",
   "metadata": {},
   "outputs": [],
   "source": [
    "z"
   ]
  },
  {
   "cell_type": "code",
   "execution_count": null,
   "id": "4b88f8b5-96c5-4a53-ac50-f26ce298e946",
   "metadata": {},
   "outputs": [],
   "source": [
    "d.upper()    #convert to upper case"
   ]
  },
  {
   "cell_type": "code",
   "execution_count": null,
   "id": "5bd47a9a-24e1-4f02-b631-604327734f3c",
   "metadata": {},
   "outputs": [],
   "source": [
    "d.lower()   #lower case"
   ]
  },
  {
   "cell_type": "code",
   "execution_count": null,
   "id": "85edf173-5ace-43b0-b81a-17c7f3a9e5f8",
   "metadata": {},
   "outputs": [],
   "source": [
    "d.swapcase()    #convert lower to upper and upper to lower"
   ]
  },
  {
   "cell_type": "code",
   "execution_count": null,
   "id": "9232a324-fdee-45f7-afb8-b8d89ee6432d",
   "metadata": {},
   "outputs": [],
   "source": [
    "d.title()   #captialize the First letter in each word"
   ]
  },
  {
   "cell_type": "code",
   "execution_count": null,
   "id": "5d0b08a0-a47e-4a85-af5e-71fef101b182",
   "metadata": {},
   "outputs": [],
   "source": [
    "b= \"jagadeesh\"\n",
    "c= \"murapaka\""
   ]
  },
  {
   "cell_type": "code",
   "execution_count": null,
   "id": "86c139a7-6e00-4033-a78c-162ecde7acd9",
   "metadata": {},
   "outputs": [],
   "source": [
    "b.join(c)     #after every character of the second string it will try to add the first string"
   ]
  },
  {
   "cell_type": "code",
   "execution_count": null,
   "id": "aec892c4-1439-4a04-98b7-553d9af7fa76",
   "metadata": {},
   "outputs": [],
   "source": [
    "\" \". join(c)   #"
   ]
  },
  {
   "cell_type": "code",
   "execution_count": null,
   "id": "d6dfc1e0-1f69-481d-9823-a816281f5f86",
   "metadata": {},
   "outputs": [],
   "source": [
    "for i in reversed(\"jaga\"):     #reversed is a function which gives a reverse of a string\n",
    "    print(i)"
   ]
  },
  {
   "cell_type": "code",
   "execution_count": null,
   "id": "01601deb-01bc-4691-b5f1-7b30a2dee294",
   "metadata": {},
   "outputs": [],
   "source": [
    "d= \"     jaga      \""
   ]
  },
  {
   "cell_type": "code",
   "execution_count": null,
   "id": "521fe303-9b99-48db-92c5-e3ac1a955edb",
   "metadata": {},
   "outputs": [],
   "source": [
    "d.strip()    #reomoves the white space before and after also"
   ]
  },
  {
   "cell_type": "code",
   "execution_count": null,
   "id": "d154f0a6-2392-4880-99f9-c39865218477",
   "metadata": {},
   "outputs": [],
   "source": [
    "d= \"jaga     \""
   ]
  },
  {
   "cell_type": "code",
   "execution_count": null,
   "id": "82764c26-8c83-4b7a-a2c8-e9b721504972",
   "metadata": {},
   "outputs": [],
   "source": [
    "d.rstrip()    #rstrip is used to remove the trailing unnesecarry space "
   ]
  },
  {
   "cell_type": "code",
   "execution_count": null,
   "id": "2de0f4df-4108-4154-8810-f54bcddff315",
   "metadata": {},
   "outputs": [],
   "source": [
    "e= \"    jaga\""
   ]
  },
  {
   "cell_type": "code",
   "execution_count": null,
   "id": "0cc6aeed-5781-4917-a2af-cb654b35541b",
   "metadata": {},
   "outputs": [],
   "source": [
    "e.lstrip()     #lstrip is used to remove the leading unnesecarry space "
   ]
  },
  {
   "cell_type": "code",
   "execution_count": null,
   "id": "3c1ab69d-6a5d-47eb-8e6b-4facfc7a200c",
   "metadata": {},
   "outputs": [],
   "source": [
    "e.replace(\"a\", \"g\")    #replace is used to replace a character with another character "
   ]
  },
  {
   "cell_type": "code",
   "execution_count": null,
   "id": "739b9816-dcc0-4093-8cce-f1ce38786306",
   "metadata": {},
   "outputs": [],
   "source": [
    "e.replace(\"t\", \"g\")   #since t is not available in the string, nothing can be done "
   ]
  },
  {
   "cell_type": "code",
   "execution_count": null,
   "id": "41a9fb2d-9b28-4681-9534-5de30f5b3dc5",
   "metadata": {},
   "outputs": [],
   "source": [
    "\"jaga\\tmurapaka\".expandtabs()    #expands the strig by giving the tab space where \\t will be present"
   ]
  },
  {
   "cell_type": "code",
   "execution_count": null,
   "id": "33a2215b-a699-4295-832c-ba6a768d441b",
   "metadata": {},
   "outputs": [],
   "source": [
    "s= \"jaga\""
   ]
  },
  {
   "cell_type": "code",
   "execution_count": null,
   "id": "cf6db93b-3edb-4b52-85e7-f08eba9f4f18",
   "metadata": {},
   "outputs": [],
   "source": [
    " s.center(40, 't')    #centers the string with equal space before and after where the given character is placed "
   ]
  },
  {
   "cell_type": "code",
   "execution_count": null,
   "id": "c769695e-8ae6-4b17-80f9-e02713c61e88",
   "metadata": {},
   "outputs": [],
   "source": [
    "s.isalpha()    #press tab after typing is for more no of functions"
   ]
  },
  {
   "cell_type": "code",
   "execution_count": null,
   "id": "009c7401-230a-4d27-94b6-442f4a0e40f5",
   "metadata": {},
   "outputs": [],
   "source": [
    "s.isspace()   #Only return True if entire string is a space "
   ]
  },
  {
   "cell_type": "code",
   "execution_count": null,
   "id": "04bd01e0-96d6-4f3c-a029-a7cb10fd8f50",
   "metadata": {},
   "outputs": [],
   "source": [
    "s.isdigit()"
   ]
  },
  {
   "cell_type": "code",
   "execution_count": null,
   "id": "90e26d21-0959-4daa-879c-4bfb48154549",
   "metadata": {},
   "outputs": [],
   "source": [
    "s.startswith(\"x\")"
   ]
  },
  {
   "cell_type": "code",
   "execution_count": null,
   "id": "f2a2b11a-45ed-4704-a689-733bc6d2aca8",
   "metadata": {},
   "outputs": [],
   "source": [
    "s.istitle()"
   ]
  },
  {
   "cell_type": "code",
   "execution_count": null,
   "id": "cdea4186-cd88-4302-9890-013afb389f91",
   "metadata": {},
   "outputs": [],
   "source": [
    "s.encode()"
   ]
  },
  {
   "cell_type": "code",
   "execution_count": null,
   "id": "82113ace-104a-4909-960a-83c2a95f65b6",
   "metadata": {},
   "outputs": [],
   "source": [
    "l= [\"jaga\", 23, 45.6, False, 5+8j]      #list is collection of Hetrogenous tyoe of data"
   ]
  },
  {
   "cell_type": "code",
   "execution_count": null,
   "id": "69539d67-bffd-47b7-9f6c-44599cbe3c74",
   "metadata": {},
   "outputs": [],
   "source": [
    "type(l)    "
   ]
  },
  {
   "cell_type": "code",
   "execution_count": null,
   "id": "76ce3d3c-5600-4850-a06b-162d1088e7d3",
   "metadata": {},
   "outputs": [],
   "source": [
    "l[0:4:3]   #same scling and indexing opeartions similar to string is also applicaable here"
   ]
  },
  {
   "cell_type": "code",
   "execution_count": null,
   "id": "ddb7ce4c-7697-49cd-b816-13012e68c943",
   "metadata": {},
   "outputs": [],
   "source": [
    "l[0][0]    #here accessing the first character of first element in the list"
   ]
  },
  {
   "cell_type": "code",
   "execution_count": null,
   "id": "b9498189-a355-4c72-b4cf-2651bbf54867",
   "metadata": {},
   "outputs": [],
   "source": [
    "l[-1:6]"
   ]
  },
  {
   "cell_type": "code",
   "execution_count": null,
   "id": "dde0058a-4cd0-4ad1-a2e9-b0a693ddc546",
   "metadata": {},
   "outputs": [],
   "source": [
    "l"
   ]
  },
  {
   "cell_type": "code",
   "execution_count": null,
   "id": "633ccbe0-8959-42ed-a66f-c1ffe947fe16",
   "metadata": {},
   "outputs": [],
   "source": [
    "l[1]= 4        #replacement is possible "
   ]
  },
  {
   "cell_type": "code",
   "execution_count": null,
   "id": "8473d738-1418-4b0f-9ff7-5fd4038a467c",
   "metadata": {},
   "outputs": [],
   "source": []
  },
  {
   "cell_type": "code",
   "execution_count": null,
   "id": "390ee9f0-d632-413e-8321-ff3daa32ee6f",
   "metadata": {},
   "outputs": [],
   "source": [
    "l1= [3.4, 24, \"fddfdef\", 4+8j]\n",
    "l2= [3,4553, 2+8j, \"sdss\", 3+6j]"
   ]
  },
  {
   "cell_type": "code",
   "execution_count": null,
   "id": "d2f2fbf2-6717-4d86-a4f6-f757354191f5",
   "metadata": {},
   "outputs": [],
   "source": [
    "l1+l2"
   ]
  },
  {
   "cell_type": "code",
   "execution_count": null,
   "id": "70d6ccf4-3ea9-46a2-84b7-3b98bd0890a8",
   "metadata": {},
   "outputs": [],
   "source": [
    "l1+\"jaga\"   #only lists can be concatenated"
   ]
  },
  {
   "cell_type": "code",
   "execution_count": null,
   "id": "ed6f5f17-5cdb-4c35-9e10-73ce17cf0d61",
   "metadata": {},
   "outputs": [],
   "source": [
    "l1+[\"jaga\"]"
   ]
  },
  {
   "cell_type": "code",
   "execution_count": null,
   "id": "e569d84c-9d52-4a9b-9a76-b58957609681",
   "metadata": {},
   "outputs": [],
   "source": [
    "l1*4  #repeat the elements into no of times"
   ]
  },
  {
   "cell_type": "code",
   "execution_count": null,
   "id": "0eb28151-d9a3-4950-9e88-ff7ef275f7ac",
   "metadata": {},
   "outputs": [],
   "source": [
    "s= \"dwdww\""
   ]
  },
  {
   "cell_type": "code",
   "execution_count": null,
   "id": "524c2a39-8ed9-4eb6-9f96-063ea3f7606c",
   "metadata": {},
   "outputs": [],
   "source": [
    "s[0]= \"h\"    #string does not support item assignment (string is imutable)"
   ]
  },
  {
   "cell_type": "code",
   "execution_count": null,
   "id": "87d588ad-37ae-44e7-83be-b3390885f1c8",
   "metadata": {},
   "outputs": [],
   "source": [
    "s.replace(\"d\", \"h\") \n",
    "#replace function canm be used to replace a character in  astring but still original string will not be changed \n"
   ]
  },
  {
   "cell_type": "code",
   "execution_count": null,
   "id": "f8e98c1b-90a8-4cc5-ba18-e7845e060450",
   "metadata": {},
   "outputs": [],
   "source": [
    "s"
   ]
  },
  {
   "cell_type": "code",
   "execution_count": null,
   "id": "b6112a18-6bb0-4a42-b696-7346289f029b",
   "metadata": {},
   "outputs": [],
   "source": [
    "l2.append(\"dssd\")    #append always add an object at end of the list"
   ]
  },
  {
   "cell_type": "code",
   "execution_count": null,
   "id": "c01a0f73-261d-4258-a022-ba9c0e377369",
   "metadata": {},
   "outputs": [],
   "source": [
    "l2"
   ]
  },
  {
   "cell_type": "code",
   "execution_count": null,
   "id": "31893ccb-9e67-47c5-a67e-bc222bd75195",
   "metadata": {},
   "outputs": [],
   "source": [
    "l2.pop()         #pop is used to delete the element at a particular index, by default the index will be -1    #For specific index the syntax will be pop(index)"
   ]
  },
  {
   "cell_type": "code",
   "execution_count": null,
   "id": "0a6a63f4-bf2e-4702-a984-24f4b5fea5b3",
   "metadata": {},
   "outputs": [],
   "source": [
    "l2"
   ]
  },
  {
   "cell_type": "code",
   "execution_count": null,
   "id": "a8ff020e-7d39-4190-b614-c8d2594db7e9",
   "metadata": {},
   "outputs": [],
   "source": [
    "l2.pop(2)    #pop at particular index"
   ]
  },
  {
   "cell_type": "code",
   "execution_count": null,
   "id": "33d86e0d-f7a1-4a4a-a1fd-9eef8b8336c2",
   "metadata": {},
   "outputs": [],
   "source": [
    "l2"
   ]
  },
  {
   "cell_type": "code",
   "execution_count": null,
   "id": "486d1c7e-e353-4709-97f8-2f7a6995d515",
   "metadata": {},
   "outputs": [],
   "source": [
    "l2.insert(2, \"dwdwd\")    #insert function is used to insert a element at a particular index and the list is adjusted accordingly"
   ]
  },
  {
   "cell_type": "code",
   "execution_count": null,
   "id": "571a4125-c745-4a0c-a034-c300cd1f2db2",
   "metadata": {},
   "outputs": [],
   "source": [
    "l2.insert(-1, \"scscc\")   #index at -1 means index always works insertion before index"
   ]
  },
  {
   "cell_type": "code",
   "execution_count": null,
   "id": "f477cb07-ff5f-470a-8f62-f57676b457d7",
   "metadata": {},
   "outputs": [],
   "source": [
    "l2"
   ]
  },
  {
   "cell_type": "code",
   "execution_count": null,
   "id": "ecdfe7d0-2169-48c1-a0b6-fce24259c524",
   "metadata": {},
   "outputs": [],
   "source": [
    "l2.insert(2, [\"dwdw\", 322, 3+8j])   #we can insert a list in a list (makes a nested list)"
   ]
  },
  {
   "cell_type": "code",
   "execution_count": null,
   "id": "2fbdaea9-0ed5-494a-a566-779559fd0c3e",
   "metadata": {},
   "outputs": [],
   "source": [
    "l2"
   ]
  },
  {
   "cell_type": "code",
   "execution_count": null,
   "id": "f89f72f6-2c9e-4869-af0b-5188a97d1a2e",
   "metadata": {},
   "outputs": [],
   "source": [
    "l2.reverse()   #permenantly the list will be reversed"
   ]
  },
  {
   "cell_type": "code",
   "execution_count": null,
   "id": "da07db7b-c96a-413c-a5bb-e9e02a979066",
   "metadata": {},
   "outputs": [],
   "source": [
    "l2"
   ]
  },
  {
   "cell_type": "code",
   "execution_count": null,
   "id": "bfd64ce1-658a-4cc3-84ed-8c7e0197346b",
   "metadata": {},
   "outputs": [],
   "source": [
    "l2[::-1]    #this will also gives reversed list but the original list will not be changed"
   ]
  },
  {
   "cell_type": "code",
   "execution_count": null,
   "id": "573df038-7d0c-4e0e-8d01-41d9f1d9e9b6",
   "metadata": {},
   "outputs": [],
   "source": [
    "l2"
   ]
  },
  {
   "cell_type": "code",
   "execution_count": null,
   "id": "7ea6fe6d-711c-418e-a0a7-c8731aaf09cc",
   "metadata": {},
   "outputs": [],
   "source": [
    "l2.count(3)    #count is the fucntion which counts the no of occurance"
   ]
  },
  {
   "cell_type": "code",
   "execution_count": null,
   "id": "8362795e-c1db-4316-ab38-d563d9dac1f5",
   "metadata": {},
   "outputs": [],
   "source": [
    "l1.append([2, 242, 3+8j, \"werwr\"])"
   ]
  },
  {
   "cell_type": "code",
   "execution_count": null,
   "id": "b953b039-aa3c-42ff-98c5-865d99bdff1c",
   "metadata": {},
   "outputs": [],
   "source": [
    "l1"
   ]
  },
  {
   "cell_type": "markdown",
   "id": "9940ebad-853f-4df4-8f7e-1a6ee44400da",
   "metadata": {},
   "source": [
    "#  extend is the function which is used to add no of elements into a existing list at the end of list by unwrapping the things. The elements is to be passed in type of iterable object (ex: list, string.. etc)."
   ]
  },
  {
   "cell_type": "code",
   "execution_count": null,
   "id": "d0a74ca1-cde5-4d17-b177-0af2328e6020",
   "metadata": {},
   "outputs": [],
   "source": [
    "l1.extend([\"dsdsd\", 32, 4432+8j, 3.4])   "
   ]
  },
  {
   "cell_type": "code",
   "execution_count": null,
   "id": "023a041f-4a27-49b1-a859-4354c5ca9160",
   "metadata": {},
   "outputs": [],
   "source": [
    "l1"
   ]
  },
  {
   "cell_type": "code",
   "execution_count": null,
   "id": "0e2fc63c-c518-46df-975a-b2bf49ebef60",
   "metadata": {},
   "outputs": [],
   "source": [
    "l1.extend(\"dadd\")    #string is also a iterable object"
   ]
  },
  {
   "cell_type": "code",
   "execution_count": null,
   "id": "44f1a5ee-4351-471e-80cf-72210a9c9a54",
   "metadata": {},
   "outputs": [],
   "source": [
    "l1"
   ]
  },
  {
   "cell_type": "markdown",
   "id": "7bce867d-ed2b-4404-9d44-b6e93285e7ea",
   "metadata": {},
   "source": [
    "# Tuples"
   ]
  },
  {
   "cell_type": "code",
   "execution_count": null,
   "id": "50af7b38-3fda-4628-9958-6ad624209eb3",
   "metadata": {},
   "outputs": [],
   "source": [
    "t= (1, 3, 68, 8+9j,[2,3,4,2, \"sfdfdf\", 3232], \"fghjk\", 8.8)   #tuple is a hetrogenous immutable collection of elements"
   ]
  },
  {
   "cell_type": "code",
   "execution_count": null,
   "id": "d63265ae-16f8-4425-ab46-c1bd59333423",
   "metadata": {},
   "outputs": [],
   "source": [
    "t"
   ]
  },
  {
   "cell_type": "code",
   "execution_count": null,
   "id": "01aea995-2cd5-4a4c-aca8-c79cfff30bd2",
   "metadata": {},
   "outputs": [],
   "source": [
    "type(t)"
   ]
  },
  {
   "cell_type": "code",
   "execution_count": null,
   "id": "901bf910-cedf-47e4-928c-b8f026f566d8",
   "metadata": {},
   "outputs": [],
   "source": [
    "t[0]=2    #tuples are immutable"
   ]
  },
  {
   "cell_type": "code",
   "execution_count": null,
   "id": "aed33615-cc85-4e91-a51f-171f135f3602",
   "metadata": {},
   "outputs": [],
   "source": [
    "list(t)    #convert tuple to list"
   ]
  },
  {
   "cell_type": "code",
   "execution_count": null,
   "id": "c89a79ba-e3eb-42fe-8742-556a4efd0afa",
   "metadata": {},
   "outputs": [],
   "source": [
    "tuple(l1)   #convert list to tuple"
   ]
  },
  {
   "cell_type": "code",
   "execution_count": null,
   "id": "bccf35dd-2afe-44c4-88d3-542c58ad54c4",
   "metadata": {},
   "outputs": [],
   "source": [
    "l= [1,2,2434,35,323,4343,3423,432, \"sdssf\",  5,5,1,3,2,22,2,2,21,1,1,1,5,5,5]"
   ]
  },
  {
   "cell_type": "code",
   "execution_count": null,
   "id": "1c8cc043-3bfc-445d-ba3f-43df99ad6e86",
   "metadata": {},
   "outputs": [],
   "source": [
    "set(l)    #set is hetrogenous and unique collection of elements"
   ]
  },
  {
   "cell_type": "code",
   "execution_count": null,
   "id": "629dc5f9-675b-40b4-8f91-fadaae1b81c2",
   "metadata": {},
   "outputs": [],
   "source": [
    "s= {}"
   ]
  },
  {
   "cell_type": "code",
   "execution_count": null,
   "id": "e3cd532a-2d45-4ecd-beee-2bef395e1be3",
   "metadata": {},
   "outputs": [],
   "source": [
    "type(s)"
   ]
  },
  {
   "cell_type": "code",
   "execution_count": null,
   "id": "ea2415df-e65a-4908-9d92-27eec64eefd9",
   "metadata": {},
   "outputs": [],
   "source": [
    "s= {1,3, 1324,43}"
   ]
  },
  {
   "cell_type": "code",
   "execution_count": null,
   "id": "7f28adca-e18e-4658-854a-16a198dfea0a",
   "metadata": {},
   "outputs": [],
   "source": [
    "type(s)"
   ]
  },
  {
   "cell_type": "code",
   "execution_count": null,
   "id": "3ca457aa-2144-4f3b-9da6-13bc7b8452a8",
   "metadata": {},
   "outputs": [],
   "source": [
    "s1 ={23224,424, \"srsr\", 4,4,4,4,6,1,4,56,11,1,1,1,5,5,5,5}\n",
    "s2= {323,32,2,3,\"fd\", \"dfdfsfs\", 3.5, 2+6j}"
   ]
  },
  {
   "cell_type": "code",
   "execution_count": null,
   "id": "965536c4-76a4-4a66-adbe-0945d4709482",
   "metadata": {},
   "outputs": [],
   "source": [
    "s2"
   ]
  },
  {
   "cell_type": "code",
   "execution_count": null,
   "id": "fa48621c-df96-4641-8dae-7e0361096671",
   "metadata": {},
   "outputs": [],
   "source": [
    "s1"
   ]
  },
  {
   "cell_type": "code",
   "execution_count": null,
   "id": "b607af01-cdc9-471d-85cf-925363f5d571",
   "metadata": {},
   "outputs": [],
   "source": [
    "s1[0]    #sclicing operations is not possible in case of set"
   ]
  },
  {
   "cell_type": "code",
   "execution_count": null,
   "id": "7163192e-a042-484c-9760-b33466481f83",
   "metadata": {},
   "outputs": [],
   "source": [
    "list(s1)[0]"
   ]
  },
  {
   "cell_type": "code",
   "execution_count": null,
   "id": "6d322922-965f-4619-a664-8e007553b9fa",
   "metadata": {},
   "outputs": [],
   "source": [
    "s1+s2    #concatenation operation is also notg possible with sets"
   ]
  },
  {
   "cell_type": "code",
   "execution_count": null,
   "id": "78607278-0cd6-454d-bc42-65febec0808d",
   "metadata": {},
   "outputs": [],
   "source": [
    "s1.add(22323)    #add function is used to add the elements into a set"
   ]
  },
  {
   "cell_type": "code",
   "execution_count": null,
   "id": "ad903136-110a-43b4-972b-61a34929bb33",
   "metadata": {},
   "outputs": [],
   "source": [
    "s1.add(\"ddssd\")"
   ]
  },
  {
   "cell_type": "code",
   "execution_count": null,
   "id": "41bfa138-d60a-4621-a31b-beab8b702876",
   "metadata": {},
   "outputs": [],
   "source": [
    "s1"
   ]
  },
  {
   "cell_type": "code",
   "execution_count": null,
   "id": "c5530c94-1d5e-4e46-a7e8-a477d9fe6fbc",
   "metadata": {},
   "outputs": [],
   "source": [
    "s1.add([\"fsfs\", 345])    #we cant hold a list into a set beaucse set always hold unique and unordered(check by primitive datatype))"
   ]
  },
  {
   "cell_type": "code",
   "execution_count": null,
   "id": "96a24a54-7824-48b3-abaa-29069504c686",
   "metadata": {},
   "outputs": [],
   "source": [
    "s3= {23, 23232, 3+9j, (\"dsdsd\", 3223, 4.5, \"sdsadasd\")}    #but set can hold tuple inside it becuase tuples are immutable  "
   ]
  },
  {
   "cell_type": "code",
   "execution_count": null,
   "id": "331240e2-72d2-4419-bb05-cef96e01b7b8",
   "metadata": {},
   "outputs": [],
   "source": [
    "s3.remove(23)    #remove function is used to remove a element which is present in the set"
   ]
  },
  {
   "cell_type": "code",
   "execution_count": null,
   "id": "34a4f797-2302-42f8-9e1a-711ec41fadaa",
   "metadata": {},
   "outputs": [],
   "source": [
    "s3"
   ]
  },
  {
   "cell_type": "code",
   "execution_count": null,
   "id": "8eb57f7f-f2fe-4e5d-8e63-33b35cb3d364",
   "metadata": {},
   "outputs": [],
   "source": [
    "s3.remove(34)    #if the element is not present in the set then it will give error"
   ]
  },
  {
   "cell_type": "code",
   "execution_count": null,
   "id": "6fdfb738-c330-4c74-89d7-21167aa700cd",
   "metadata": {},
   "outputs": [],
   "source": [
    "s3.discard(3+9j)    #discard is a funtion which remove the element if found in the set but if not found it do nothing(it do nit give error)"
   ]
  },
  {
   "cell_type": "code",
   "execution_count": null,
   "id": "44b6402e-402f-49da-99af-4cac1cb73d91",
   "metadata": {},
   "outputs": [],
   "source": [
    "s3"
   ]
  },
  {
   "cell_type": "markdown",
   "id": "b1b1ae3e-f837-4fe4-9c14-77abb62fe8ba",
   "metadata": {},
   "source": [
    "# Dictionaries\n",
    "\n",
    "Dictionaries are the collection of hetrogenous entities in a form of key value pairs\n",
    "\n",
    "NOTE: LISTS, DICT CANNOT BE USED AS A KEY"
   ]
  },
  {
   "cell_type": "code",
   "execution_count": null,
   "id": "d9140f9d-0c67-4863-bdc7-b9444c6f3c1f",
   "metadata": {},
   "outputs": [],
   "source": [
    "d= {\"name\": \"jaga\", \"phone\":966, \"age\":23, \"occupation\":\"student\", 6:\"Lucky no\", \"list\":[3,4,5,6]}"
   ]
  },
  {
   "cell_type": "code",
   "execution_count": null,
   "id": "6f3fb7b3-9bf7-4602-b06a-616d0908b7f5",
   "metadata": {},
   "outputs": [],
   "source": [
    "type(d)"
   ]
  },
  {
   "cell_type": "code",
   "execution_count": null,
   "id": "de89a29c-966e-4217-9ec3-d0dc20ba1cd6",
   "metadata": {},
   "outputs": [],
   "source": [
    "d[\"name\"]"
   ]
  },
  {
   "cell_type": "code",
   "execution_count": null,
   "id": "afd3c8c5-fb8e-4fb6-b175-9fd96dc43c23",
   "metadata": {},
   "outputs": [],
   "source": [
    "#key cannot be a special character or contain special character except when it is in form of string"
   ]
  },
  {
   "cell_type": "code",
   "execution_count": null,
   "id": "4ba62378-f446-441f-97ad-e1b575189c3f",
   "metadata": {},
   "outputs": [],
   "source": [
    "d1= {\"key1\":\"wdwd\", \"name\":\"jaga\", \"key1\":[3424,2423, 24124]} #here key1 is repeated two times as keys"
   ]
  },
  {
   "cell_type": "code",
   "execution_count": null,
   "id": "f0c69a55-851a-4ad6-a9b3-3c92a1094745",
   "metadata": {},
   "outputs": [],
   "source": [
    "#so when i call key1 i.e d1[\"key1\"] , only recent or latest value will be given as output"
   ]
  },
  {
   "cell_type": "code",
   "execution_count": null,
   "id": "e1cc7439-38e3-4903-a2ca-8fcb5315f5f3",
   "metadata": {},
   "outputs": [],
   "source": [
    "d1[\"key1\"]     #only given the recent or latest value"
   ]
  },
  {
   "cell_type": "code",
   "execution_count": null,
   "id": "84654cb3-ca3c-44ef-b453-d946dbe74005",
   "metadata": {},
   "outputs": [],
   "source": [
    "#there is no restriction on values(they may be same or different for keys because keys are different"
   ]
  },
  {
   "cell_type": "code",
   "execution_count": null,
   "id": "c114df6d-4450-4077-b1f2-319bb1b474f3",
   "metadata": {},
   "outputs": [],
   "source": [
    "d2= {\"names\":{\"myname\":\"jaga\", \"mother\":\"dswdwd\", \"father\":\"wdwdwd\", \"friend\":\"fghj\"}, \"girlfrnd\": \"No\", \"mobile\": 6789, \"mail_id\":\"jagadeesh@gfhj.com\", \"key1\":[2,33434,4242], \"key2\":(\"dsdd\", 245353, 2423.4), \"key3\":{232, 2,3, 4,4,4,4, 5, 6+8j}}"
   ]
  },
  {
   "cell_type": "code",
   "execution_count": null,
   "id": "9ab131b2-c2c6-4e25-a681-ede2ac7b05cb",
   "metadata": {},
   "outputs": [],
   "source": [
    "d2"
   ]
  },
  {
   "cell_type": "code",
   "execution_count": null,
   "id": "d435d470-38fd-4f1e-9e45-31e6b376b572",
   "metadata": {},
   "outputs": [],
   "source": [
    "d2[\"names\"][\"myname\"]    #In depth accessing of elements"
   ]
  },
  {
   "cell_type": "code",
   "execution_count": null,
   "id": "1b1aa55e-5dd9-4261-a3fb-c92193555efa",
   "metadata": {},
   "outputs": [],
   "source": [
    "d2.keys()    #gives list of all keys"
   ]
  },
  {
   "cell_type": "code",
   "execution_count": null,
   "id": "c025c116-ecfc-43a2-9d54-302f4e9ed72b",
   "metadata": {},
   "outputs": [],
   "source": [
    "d2.values()    #gives the values of dictionary"
   ]
  },
  {
   "cell_type": "code",
   "execution_count": null,
   "id": "17167fa7-6d10-479b-9a68-b9e2f96e7848",
   "metadata": {},
   "outputs": [],
   "source": [
    "d2.items()   #to get list of tuples of key and value pair of dictionary"
   ]
  },
  {
   "cell_type": "code",
   "execution_count": null,
   "id": "7af882a4-51cf-4a9e-aa3e-144629c35d7f",
   "metadata": {},
   "outputs": [],
   "source": [
    "type(d.items())"
   ]
  },
  {
   "cell_type": "code",
   "execution_count": null,
   "id": "a5e3ccb8-a774-4a4c-a300-cc28bc339aa4",
   "metadata": {},
   "outputs": [],
   "source": [
    " d2[\"key4\"]= \"fun\"    #it will insert new key value pair, since key4 is not avaliable"
   ]
  },
  {
   "cell_type": "code",
   "execution_count": null,
   "id": "b643c40c-5415-42c3-97e2-9d59a1b2909b",
   "metadata": {},
   "outputs": [],
   "source": [
    "d2"
   ]
  },
  {
   "cell_type": "code",
   "execution_count": null,
   "id": "ef9fdec7-4286-486a-8a07-cdbd3857e484",
   "metadata": {},
   "outputs": [],
   "source": [
    "d2[\"key1\"]= \"good\"   #since key1 is already avilable the value will be updated"
   ]
  },
  {
   "cell_type": "code",
   "execution_count": null,
   "id": "039b2e56-277e-4169-a1e1-1d9bc0430a60",
   "metadata": {},
   "outputs": [],
   "source": [
    "d2"
   ]
  },
  {
   "cell_type": "code",
   "execution_count": null,
   "id": "86e9b64c-afd6-4f98-8c55-27293641f7bb",
   "metadata": {},
   "outputs": [],
   "source": [
    "del d2[\"key1\"]   #to delete a key value pair"
   ]
  },
  {
   "cell_type": "code",
   "execution_count": null,
   "id": "0fd34513-7c4e-4ed6-a670-1510a3fd3e3d",
   "metadata": {},
   "outputs": [],
   "source": [
    "d2"
   ]
  },
  {
   "cell_type": "code",
   "execution_count": null,
   "id": "ed102734-a15a-40ad-b01a-a3af4b9ab0f5",
   "metadata": {},
   "outputs": [],
   "source": [
    "d2[[3,4, 3434]] = \"wwe\"  #LIST CANNOT BE USED AS A KEY"
   ]
  },
  {
   "cell_type": "code",
   "execution_count": null,
   "id": "53973368-6ec2-47df-96da-25ac8915ffc3",
   "metadata": {},
   "outputs": [],
   "source": [
    "d2[(3,433,5343,4)]= \"sdwdwd\"  #TUPLE CAN BE USED AS A KEY"
   ]
  },
  {
   "cell_type": "code",
   "execution_count": null,
   "id": "f715ea6f-30d9-4bba-8009-2fbcbd2aebb9",
   "metadata": {},
   "outputs": [],
   "source": [
    "d2"
   ]
  },
  {
   "cell_type": "code",
   "execution_count": null,
   "id": "d9a3540f-43ee-4995-a072-53208e32288e",
   "metadata": {},
   "outputs": [],
   "source": [
    "d2.get(\"key2\")  #gives the value if the key is available in the dictionary else it do nothing but does not give error"
   ]
  },
  {
   "cell_type": "code",
   "execution_count": null,
   "id": "26f52631-e090-4ca6-b32b-c19b27b1aa5c",
   "metadata": {},
   "outputs": [],
   "source": [
    "d2.update(d1)   #merge d1 and d2"
   ]
  },
  {
   "cell_type": "code",
   "execution_count": null,
   "id": "766aba6d-9e00-4bce-be59-33e3dbc91d06",
   "metadata": {},
   "outputs": [],
   "source": [
    "d2"
   ]
  },
  {
   "cell_type": "markdown",
   "id": "905c0517-48f6-4174-8b8e-42a9ae48d57a",
   "metadata": {},
   "source": [
    "# CONDITIONAL LOOPS"
   ]
  },
  {
   "cell_type": "code",
   "execution_count": null,
   "id": "d04d86d7-9a1c-42d2-9fee-3a71d9fb0abb",
   "metadata": {},
   "outputs": [],
   "source": [
    "a= 10"
   ]
  },
  {
   "cell_type": "code",
   "execution_count": null,
   "id": "44101324-61c6-41b8-8297-b9ef78ffe05d",
   "metadata": {},
   "outputs": [],
   "source": [
    "if a<15:\n",
    "    print(\"hello\")"
   ]
  },
  {
   "cell_type": "code",
   "execution_count": null,
   "id": "f3ffc74c-01de-4694-a8b8-d67d72033754",
   "metadata": {},
   "outputs": [],
   "source": [
    "a<15"
   ]
  },
  {
   "cell_type": "code",
   "execution_count": null,
   "id": "6a861e23-44b5-49ea-b761-dc3053461ed7",
   "metadata": {},
   "outputs": [],
   "source": [
    "if 10<3:\n",
    "    print(\"10 is lesser than 3\")\n",
    "else:\n",
    "    print(\"the if condtiton is false\")"
   ]
  },
  {
   "cell_type": "code",
   "execution_count": null,
   "id": "d93e5e94-5f94-422f-ac8d-78b0980dc647",
   "metadata": {},
   "outputs": [],
   "source": [
    "income = int(input())\n",
    "if income<50:\n",
    "    print(\"i will be alble to buy a phone\")\n",
    "elif income<70:\n",
    "    print(\"i will be able to buy a car\")\n",
    "elif income <90:\n",
    "    print(\"i will be able to rent a house\")\n",
    "else:\n",
    "    print(\"i wont be anble to buy anything\")"
   ]
  },
  {
   "cell_type": "code",
   "execution_count": null,
   "id": "12764220-1994-4456-a35a-1d2b63f59617",
   "metadata": {},
   "outputs": [],
   "source": [
    "Total_price = int(input())\n",
    "if Total_price >20000:\n",
    "    discount = Total_price * .20\n",
    "    print(\"Discount will be :\", discount)\n",
    "elif Total_price <=7000:\n",
    "    discount = Total_price * .05\n",
    "    print(\"Discount will be :\", discount)\n",
    "else:\n",
    "    print(\"No discount can be provided\")"
   ]
  },
  {
   "cell_type": "code",
   "execution_count": null,
   "id": "9372cab3-cd5b-48f1-8bf9-aa93073cf4ae",
   "metadata": {},
   "outputs": [],
   "source": [
    "\"jaga\" == \"jaga\""
   ]
  },
  {
   "cell_type": "code",
   "execution_count": null,
   "id": "882bd6a2-1822-4fef-92f2-61b938960da3",
   "metadata": {},
   "outputs": [],
   "source": [
    "study_hour = int(input())\n",
    "if study_hour <1:\n",
    "    print(\"it may take 8-9 month of time to make a transition\")\n",
    "elif study_hour<4:\n",
    "    print(\"it may take 6 month to make a transition\")\n",
    "elif study_hour>10:\n",
    "    print(\"it may take 3 months to make a tarnsition\")\n",
    "else:\n",
    "    print(\"it will be difficult\")"
   ]
  },
  {
   "cell_type": "code",
   "execution_count": null,
   "id": "d7bed94f-ddd9-4530-b596-8b8e511d0fc6",
   "metadata": {},
   "outputs": [],
   "source": [
    "course_work1= input(\"enter the name of coursework 1\")\n",
    "scoreintheory_1= int(input(\"enter the score in thery 1\"))\n",
    "scoreinpractical_1 = int(input(\"enter the score in practical_1\"))\n",
    "course_work2 = input(\"enter the name of corsework2\")\n",
    "scoreintheory_2 = int(input(\"enter the score in thpery 2\"))\n",
    "scoreinpractical_2= int(input(\"enter the score in practical_2\"))\n",
    "if course_work1 == \"English\" or \"english\":\n",
    "    if scoreintheory_1 > 50  or scoreinpractical_1 > 50:\n",
    "        print(\"invalid input, Score should be less than 50\")\n",
    "    else:\n",
    "        print(\"Total score in \"+course_work1+ \" is:\", scoreintheory_1+scoreinpractical_1)\n",
    "if course_work2 == \"science\" or \"Science\":\n",
    "    while scoreintheory_2 > 50 or scoreinpractical_2 > 50:\n",
    "        print(\"invalid input, Score should be less than 50\")\n",
    "    else:\n",
    "        print(\"Total score in \" +course_work2+ \" is:\", scoreintheory_2+scoreinpractical_2)"
   ]
  },
  {
   "cell_type": "code",
   "execution_count": null,
   "id": "8d89d83e-651b-43b3-b08b-2b0ad21a5104",
   "metadata": {},
   "outputs": [],
   "source": [
    "s = input(\"enter a string to start \")\n",
    "\n",
    "if s == \"oneneuron\":\n",
    "    course = input(\"enter a course name \")\n",
    "    if course == \"DSA\":\n",
    "        print(\"yes its available under one neruon and in multiple mode for job prepratoin and core concept \")\n",
    "    elif course == \"Blockchain\":\n",
    "        print(\"this is not aviable as of now , kindly raise your demand and we will fulfil in 60 days \")\n",
    "    elif course == \"FSDS\":\n",
    "        print(\"yes its availble , youi can start learning \")\n",
    "    else :\n",
    "        print(\"this course is not availble kindly raise your demand \")\n",
    "elif s  == \"oneneuronservice\":\n",
    "    service = input(\"enter a service name \")\n",
    "    if service == \"courserequest\":\n",
    "        print(\"*NOTE: Dear Learner, you can raise demand related to any new course, and we will fulfil your need in the next 60 days.\")\n",
    "    elif service == \"module\" :\n",
    "        print(\"*NOTE: Dear Learner, you can raise demand related to any new course module, and we will fulfil your need in the next 30 days.\")\n",
    "    elif service == \"doubt\":\n",
    "        print(\"*NOTE: Dear Learner, you can raise demand related to any doubt clearing, and we will fulfil your need in the next 24 hours.\")\n",
    "    elif service == \"workwithus\":\n",
    "        print(\"*NOTE: Dear Learner, you can raise the demand to work with our team; our HR will evaluate and get back to you in 24 hours.\")\n",
    "    else :\n",
    "        print(\"kindly provide us your feedback and we will fulfil\")\n",
    "else :\n",
    "    print(\"kindly connect with our team \")"
   ]
  },
  {
   "cell_type": "markdown",
   "id": "643065c7-fa45-4dcc-ad56-4a769ef14cbd",
   "metadata": {},
   "source": [
    "# For loop "
   ]
  },
  {
   "cell_type": "code",
   "execution_count": null,
   "id": "74486058-08b6-44f8-afb4-160af4c9b305",
   "metadata": {},
   "outputs": [],
   "source": [
    "l = [1,224,4242,43424,5765,3]\n",
    "for i in l:\n",
    "    print(i)"
   ]
  },
  {
   "cell_type": "code",
   "execution_count": null,
   "id": "3578b358-c6c4-4b79-9897-91dc251444dc",
   "metadata": {},
   "outputs": [],
   "source": [
    "s= \"jaga\"\n",
    "for i in s:\n",
    "    print(i)\n",
    "for i in s:\n",
    "    print(type(i))"
   ]
  },
  {
   "cell_type": "code",
   "execution_count": null,
   "id": "4e9db152-4cfa-4d26-b879-ecfeca059db6",
   "metadata": {},
   "outputs": [],
   "source": [
    "l= [2,3,4.5, 6+8j, True, [223,324324,3], {2,3,44,44,44}, {323:223}]\n",
    "for i in l:\n",
    "    print(type(i))"
   ]
  },
  {
   "cell_type": "code",
   "execution_count": null,
   "id": "9b46816f-3a08-466d-87dd-bf1aab086ead",
   "metadata": {},
   "outputs": [],
   "source": [
    "l2 = [2,4,6,8,10]\n",
    "l3=[]\n",
    "for i in l2:            #simple for loop with appedn function to add 2 to each numbner but by crating  a another blank list\n",
    "    l3.append(i+2)"
   ]
  },
  {
   "cell_type": "code",
   "execution_count": null,
   "id": "88efd854-5df6-4050-9628-48ddb1beea11",
   "metadata": {},
   "outputs": [],
   "source": [
    "l3"
   ]
  },
  {
   "cell_type": "code",
   "execution_count": null,
   "id": "dd4953bc-3740-4b4d-849e-ec0708ffd503",
   "metadata": {},
   "outputs": [],
   "source": [
    "l"
   ]
  },
  {
   "cell_type": "code",
   "execution_count": null,
   "id": "be0962e8-0f18-43f5-93af-2869dfab9687",
   "metadata": {},
   "outputs": [],
   "source": [
    "lint= []\n",
    "lfloat= []\n",
    "lcomplex= []\n",
    "llist= []\n",
    "lother= []\n",
    "for i in l:\n",
    "    if type(i)== int:\n",
    "        lint.append(i)\n",
    "    elif type(i)== float:\n",
    "        lfloat.append(i)\n",
    "    elif type(i) == complex:\n",
    "        lcomplex.append(i)\n",
    "    elif type(i)==list:                   #filtration of data according to datatypes\n",
    "        llist.append(i)\n",
    "    else:\n",
    "        lother.append(i)\n",
    "print(lint)\n",
    "print(lfloat)\n",
    "print(lcomplex)\n",
    "print(llist)\n",
    "print(lother)\n",
    "        "
   ]
  },
  {
   "cell_type": "code",
   "execution_count": null,
   "id": "236c5fff-08fd-495f-83fd-cead03e10c78",
   "metadata": {},
   "outputs": [],
   "source": [
    "#filter all integers\n",
    "\n",
    "for i in l:\n",
    "    if type(i)== int:\n",
    "        print(i)\n",
    "    elif type(i) ==list:\n",
    "        for j in i:\n",
    "            if type(j)== int:\n",
    "                print(j)\n",
    "    elif type(i) ==set:\n",
    "        for j in i:\n",
    "            if type(j)== int:\n",
    "                print(j)"
   ]
  },
  {
   "cell_type": "code",
   "execution_count": null,
   "id": "ccab65ef-3ca1-46d5-adeb-53ebfae7d2e1",
   "metadata": {},
   "outputs": [],
   "source": [
    "l= [2,45, 78, 12, \"jaga\", 6+7j, [3,4,6,23, \"sdsf\"]]\n",
    "#q1. Try to print index of all the elements\n",
    "#q2. Try to extract all the list of char if element is string\n",
    "#q3. Try to return a lsit after doing a square of all the int element\n",
    "\n",
    "\n",
    "for i in l:\n",
    "    print(\"the index of element \" + str(i)+ \" is: \",  l.index(i))"
   ]
  },
  {
   "cell_type": "code",
   "execution_count": null,
   "id": "15f50fa2-6d4a-4019-99aa-55c9eed25491",
   "metadata": {},
   "outputs": [],
   "source": [
    "l= [2,45, 78, 12, \"jaga\", 6+7j, [3,4,6,23, \"sdsf\"]]\n",
    "for i in l:\n",
    "    if type(i)==str:\n",
    "        l5= []\n",
    "        for j in i:\n",
    "            l5.append(j)\n",
    "l5"
   ]
  },
  {
   "cell_type": "code",
   "execution_count": null,
   "id": "0e4071c8-dcd2-4a1e-ae0f-3ff5d0dcf3dd",
   "metadata": {},
   "outputs": [],
   "source": [
    "s= \"this is a basic python class\"\n",
    "len(s)"
   ]
  },
  {
   "cell_type": "code",
   "execution_count": null,
   "id": "8affa467-1ad5-4c5e-91d4-ebb74a350c09",
   "metadata": {},
   "outputs": [],
   "source": [
    "count = 0\n",
    "for i in s:                #another way\n",
    "    count = count+1\n",
    "print(count)"
   ]
  },
  {
   "cell_type": "code",
   "execution_count": null,
   "id": "3ae5ecdc-95cb-49d3-a016-abcdd7d7647c",
   "metadata": {},
   "outputs": [],
   "source": [
    "s[::-1]"
   ]
  },
  {
   "cell_type": "code",
   "execution_count": null,
   "id": "84d95cd8-3351-4364-a230-251d04df4d13",
   "metadata": {},
   "outputs": [],
   "source": [
    "for i in range(len(s)-1, -1, -1):\n",
    "    print(s[i], end= \" \")"
   ]
  },
  {
   "cell_type": "code",
   "execution_count": null,
   "id": "cfb3312b-20bc-4857-94cf-cb24a1335b05",
   "metadata": {},
   "outputs": [],
   "source": [
    "i = len(s)-1\n",
    "while i >=0:\n",
    "    print(s[i], end= \" \")\n",
    "    i= i-1"
   ]
  },
  {
   "cell_type": "code",
   "execution_count": null,
   "id": "eeb70674-237d-43d8-a950-41cf98712d9a",
   "metadata": {},
   "outputs": [],
   "source": [
    "# code to check whether the given string is palindrome or not\n",
    "\n",
    "s= input(\"enter the string\")\n",
    "for i in range(len(s)):              #with for loop\n",
    "    if s[i] != s[len(s)-i-1]:\n",
    "        print(\"Not a pallindrome\")\n",
    "        break\n",
    "else:\n",
    "    print(\"its a pallindrome\")"
   ]
  },
  {
   "cell_type": "code",
   "execution_count": null,
   "id": "2a8fda11-c777-4a4e-8124-7886b8c10f3e",
   "metadata": {},
   "outputs": [],
   "source": [
    "s= input(\"enter the string\")\n",
    "f= \"\"\n",
    "i = len(s)-1\n",
    "while i>=0:\n",
    "    f= f+s[i]          #with while loop\n",
    "    i= i-1\n",
    "if f==s:\n",
    "    print(\"yes it is pallindrome\")\n",
    "else:\n",
    "    print(\"not a pallindrome\")"
   ]
  },
  {
   "cell_type": "code",
   "execution_count": null,
   "id": "1629cff8-3b5e-46cf-9405-c9f923877cd2",
   "metadata": {},
   "outputs": [],
   "source": [
    "d= {\"chan\": \"cha\", \"india\":\"IN\", \"china\": \"CH\", \"united states\": \"US\", \"canada\": \"CA\"}\n",
    "for i in d.keys():\n",
    "    if i != \"india\":\n",
    "        continue\n",
    "    else:\n",
    "        print(\"yes\")\n",
    "        break\n",
    "else:\n",
    "    print(\"NO\")"
   ]
  },
  {
   "cell_type": "code",
   "execution_count": null,
   "id": "a683a503-52bd-457f-b331-ae40a27b22ba",
   "metadata": {},
   "outputs": [],
   "source": [
    "l_lesser5= []\n",
    "l_greater5=[]\n",
    "for i in d:\n",
    "    if len(i)<5:\n",
    "        l_lesser5.append(i)\n",
    "    elif len(i)>=5:\n",
    "        l_greater5.append(i)\n",
    "\n",
    "print(l_lesser5)\n",
    "print(l_greater5)"
   ]
  },
  {
   "cell_type": "code",
   "execution_count": null,
   "id": "d3ec2415-eaa3-4aa3-b4c0-afa7c0350840",
   "metadata": {},
   "outputs": [],
   "source": [
    "d1 = {\"ineuron\": {\n",
    "                        \"a\":14,\n",
    "                        \"b\":10,\n",
    "                        \"c\":4\n",
    "                    }, \n",
    "      \"course\":  {\n",
    "                        \"d\":56,\n",
    "                        \"e\":34,\n",
    "                        \"f\":23\n",
    "                  }\n",
    "     }"
   ]
  },
  {
   "cell_type": "code",
   "execution_count": null,
   "id": "a6b30285-afd0-43cb-8f36-26631b03b1fe",
   "metadata": {},
   "outputs": [],
   "source": [
    "#ques:  printing maximum values\n",
    "for i in d1.values():\n",
    "    mx= 0\n",
    "    for j in i.values():\n",
    "        if mx<j:\n",
    "            mx= j\n",
    "        continue\n",
    "            \n",
    "    print(mx)\n",
    "        \n",
    "        "
   ]
  },
  {
   "cell_type": "code",
   "execution_count": null,
   "id": "d9081efb-bd1c-459a-a1b1-8fa15c512457",
   "metadata": {},
   "outputs": [],
   "source": [
    "for i in d1.values():\n",
    "    print(max(i.values()))      #simple method   "
   ]
  },
  {
   "cell_type": "code",
   "execution_count": null,
   "id": "35c11ed9-4929-40b6-b4e0-8c5a4217c7d9",
   "metadata": {},
   "outputs": [],
   "source": [
    "d2= {\"number1\":{\"a\":12, \"b\":23, \"c\":45}, \"number2\":{\"d\":23, \"e\":67, \"f\":324}, \"number3\":56, \"number4\":[342,43,64], \"number5\":(42,46,323)}"
   ]
  },
  {
   "cell_type": "code",
   "execution_count": null,
   "id": "f5351222-41e0-48f8-8395-36318c7f5357",
   "metadata": {},
   "outputs": [],
   "source": [
    "d2"
   ]
  },
  {
   "cell_type": "code",
   "execution_count": null,
   "id": "c281cbd0-8025-4b97-a0e0-cd87e3e8ceca",
   "metadata": {},
   "outputs": [],
   "source": [
    "#Again print maximum values\n",
    "for i in d2.values():\n",
    "    mx= 0\n",
    "    if type(i)==dict:\n",
    "        for j in i.values():\n",
    "            if mx<j:\n",
    "                mx= j\n",
    "        print(mx)\n",
    "    elif type(i)== list:\n",
    "        for j in i:\n",
    "            if mx<j:\n",
    "                mx= j\n",
    "        print(mx)\n",
    "    elif type(i)== tuple:\n",
    "        for j in i:\n",
    "            if mx<j:\n",
    "                mx=j\n",
    "        print(mx)\n",
    "    else:\n",
    "        print(i)          "
   ]
  },
  {
   "cell_type": "code",
   "execution_count": null,
   "id": "b7d0e757-d142-488c-bd85-3f6a73da35f0",
   "metadata": {},
   "outputs": [],
   "source": [
    "#print overall maximum\n",
    "l=[]\n",
    "\n",
    "for i in d2.values():\n",
    "    if type(i)!= str or type(i)!= complex:\n",
    "        if type(i)== list or type(i)== tuple or type(i)== set:\n",
    "            l.extend(list(i))\n",
    "        elif type(i)== dict:\n",
    "            for j in i.values():\n",
    "                l.append(j)\n",
    "        elif type(i)== int:\n",
    "            l.append(i)\n",
    "print(max(l))\n",
    "        \n",
    "        "
   ]
  },
  {
   "cell_type": "markdown",
   "id": "22159dbb-9578-4e63-9832-6306dd4dc8de",
   "metadata": {},
   "source": [
    "# Functions"
   ]
  },
  {
   "cell_type": "code",
   "execution_count": null,
   "id": "b2c7d4e2-ed29-4cc5-ae5c-d1d4d4c20b49",
   "metadata": {},
   "outputs": [],
   "source": [
    "len(\"jaga\")     #this is a in bulit funtion"
   ]
  },
  {
   "cell_type": "code",
   "execution_count": null,
   "id": "a45acaaf-aacc-4f73-99ee-6b22755cc96e",
   "metadata": {},
   "outputs": [],
   "source": [
    "print(\"jaga\")"
   ]
  },
  {
   "cell_type": "code",
   "execution_count": null,
   "id": "9f5da0bb-0361-46d7-b947-a3e41d3c38ac",
   "metadata": {},
   "outputs": [],
   "source": [
    "#why cant we create our function which can be reuesed when ever necessary\n",
    "def test():\n",
    "    pass                     #if we do not have any body of funtion for the time we can use pass to not to get an error\n"
   ]
  },
  {
   "cell_type": "code",
   "execution_count": null,
   "id": "116ccef1-c2d0-461c-ba05-c5d02e335a7f",
   "metadata": {},
   "outputs": [],
   "source": [
    "def test1():\n",
    "    print(\"this is my first function\")"
   ]
  },
  {
   "cell_type": "code",
   "execution_count": null,
   "id": "aa94be57-7afa-412a-841d-4622607ddc3c",
   "metadata": {},
   "outputs": [],
   "source": [
    "test1()"
   ]
  },
  {
   "cell_type": "code",
   "execution_count": null,
   "id": "648aa671-0919-4e29-9b21-d817a8ab77d1",
   "metadata": {},
   "outputs": [],
   "source": [
    "type(test1())   #Print function is nonetype"
   ]
  },
  {
   "cell_type": "code",
   "execution_count": null,
   "id": "cfc96817-74e8-41b5-b89a-34a6842387e5",
   "metadata": {},
   "outputs": [],
   "source": [
    "test1()+\"jaga\"    #here altough return test1() gives string as a output but concatenation is still not possible because print is nonetype"
   ]
  },
  {
   "cell_type": "code",
   "execution_count": null,
   "id": "8d3e1740-a2a4-4d7d-9af7-2643a3adb12c",
   "metadata": {},
   "outputs": [],
   "source": [
    "def test2():\n",
    "    return \"sfdgh\""
   ]
  },
  {
   "cell_type": "code",
   "execution_count": null,
   "id": "082e3842-38f9-4033-9171-1f5834d80917",
   "metadata": {},
   "outputs": [],
   "source": [
    "type(test2())"
   ]
  },
  {
   "cell_type": "code",
   "execution_count": null,
   "id": "dc9a2196-e99b-4a52-a96c-803e52b5f045",
   "metadata": {},
   "outputs": [],
   "source": [
    "test2()+\"jaga\"  #here the return function gives the original datatypes of the body"
   ]
  },
  {
   "cell_type": "code",
   "execution_count": null,
   "id": "6ec6d12a-82da-4534-ac75-cf465aedf30b",
   "metadata": {},
   "outputs": [],
   "source": [
    "def test3():\n",
    "    return 312434124"
   ]
  },
  {
   "cell_type": "code",
   "execution_count": null,
   "id": "012bd11c-3f4a-4708-9a1b-f3fe14bfc6f8",
   "metadata": {},
   "outputs": [],
   "source": [
    "type(test3())   #return keyword is capable of sensing the datatype automatically"
   ]
  },
  {
   "cell_type": "code",
   "execution_count": null,
   "id": "0aa4f5cb-23da-46a2-8156-ca707d3bb8aa",
   "metadata": {},
   "outputs": [],
   "source": [
    "def test4():\n",
    "    return [1,2,3,\"wfwf\", 3+8j]"
   ]
  },
  {
   "cell_type": "code",
   "execution_count": null,
   "id": "cf097ade-5cae-4cb9-a3fd-c98d796654a7",
   "metadata": {},
   "outputs": [],
   "source": [
    "b= test4()    "
   ]
  },
  {
   "cell_type": "code",
   "execution_count": null,
   "id": "c43c85ab-3699-4b19-80d6-7f656d8f2ccd",
   "metadata": {},
   "outputs": [],
   "source": [
    "b[0]   #capable of slicing because return function sensed that it is a list"
   ]
  },
  {
   "cell_type": "code",
   "execution_count": null,
   "id": "c7c93ebc-2c10-4c7f-9a75-77b14fe6c91d",
   "metadata": {},
   "outputs": [],
   "source": [
    "def test5():\n",
    "    a= 4*3/4\n",
    "    return a"
   ]
  },
  {
   "cell_type": "code",
   "execution_count": null,
   "id": "e5cb7dca-b745-43fc-8652-f8a5766fd592",
   "metadata": {},
   "outputs": [],
   "source": [
    "test5()"
   ]
  },
  {
   "cell_type": "code",
   "execution_count": null,
   "id": "358d44c0-a793-4aef-8956-7c5f2f36e530",
   "metadata": {},
   "outputs": [],
   "source": [
    "#ques. Take a nested list which contains, integeres, lists, strings but only return list of integers\n",
    "\n",
    "def convert(l):\n",
    "    if type(l)== list:\n",
    "        a=[]\n",
    "        for i in l:\n",
    "            if type(i)== int:\n",
    "                a.append(i)\n",
    "    return a\n",
    "            "
   ]
  },
  {
   "cell_type": "code",
   "execution_count": null,
   "id": "7ace79db-b26e-4896-8adb-47ea5e56ce99",
   "metadata": {},
   "outputs": [],
   "source": [
    "listofall= [1,2,3,4,5,6,7, 7, \"sdwfw\", {324, \"ewr\", 32.4}, 5+9j, \"ddw\"]"
   ]
  },
  {
   "cell_type": "code",
   "execution_count": null,
   "id": "4d50c555-8635-4e80-848d-a06ae6418e88",
   "metadata": {},
   "outputs": [],
   "source": [
    "convert(listofall)"
   ]
  },
  {
   "cell_type": "code",
   "execution_count": null,
   "id": "8e9fab04-ff96-479e-bd8b-7e6c6ea11b0e",
   "metadata": {},
   "outputs": [],
   "source": [
    "def test6(a):\n",
    "    if type(a)==dict:\n",
    "        return a.keys()\n",
    "    else:\n",
    "        return \"you haven't passed the dictionary\""
   ]
  },
  {
   "cell_type": "code",
   "execution_count": null,
   "id": "f8710471-1b83-45eb-8603-97a77e7bdb96",
   "metadata": {},
   "outputs": [],
   "source": [
    "c= {\"a\":3, \"sdsd\":22323, \"in\": {\"dsdsd\":\"sdsd\"}, \"sfsfs\":[2322, 2323, 32]}"
   ]
  },
  {
   "cell_type": "code",
   "execution_count": null,
   "id": "6758f536-f827-4422-82ec-af98d6123112",
   "metadata": {},
   "outputs": [],
   "source": [
    "test6(c)"
   ]
  },
  {
   "cell_type": "code",
   "execution_count": null,
   "id": "9ffb3e75-70ae-4bdf-a5fd-fc9000122207",
   "metadata": {},
   "outputs": [],
   "source": [
    "def test7(a, b):\n",
    "    if type(a)== list and type(b)== list:\n",
    "        a.extend(b)\n",
    "        return a\n",
    "    else:\n",
    "        return \"either or both of your data is not a list\""
   ]
  },
  {
   "cell_type": "code",
   "execution_count": null,
   "id": "754a8340-bf2f-45ef-b948-6b12308b3146",
   "metadata": {},
   "outputs": [],
   "source": [
    "test7(\"dwdw\",[\"sdd\", 131, 212])"
   ]
  },
  {
   "cell_type": "code",
   "execution_count": null,
   "id": "c885b518-14bf-46b7-a733-fa28e0047d62",
   "metadata": {},
   "outputs": [],
   "source": [
    "test7([2,3,4,6], [242,434,234,3])"
   ]
  },
  {
   "cell_type": "code",
   "execution_count": null,
   "id": "1e309298-725a-4ee3-90f1-4c58884ca2c4",
   "metadata": {},
   "outputs": [],
   "source": [
    "def funcforpattern(a):\n",
    "# Below is the docstring for a function\n",
    "    \"\"\"this is a function which help you to create a tri with no of rows\"\"\"\n",
    "    for i in range(a):\n",
    "        for j in range(i+1):\n",
    "            print(\"*\", end= \" \")\n",
    "        print(\"\\r\")"
   ]
  },
  {
   "cell_type": "code",
   "execution_count": null,
   "id": "f2ab7303-e3e0-477b-ad3b-f421d27abb3a",
   "metadata": {},
   "outputs": [],
   "source": [
    "funcforpattern(10) "
   ]
  },
  {
   "cell_type": "markdown",
   "id": "a7615feb-455c-4b3d-8da5-87b66916171d",
   "metadata": {},
   "source": [
    "#Basic Questions on functions"
   ]
  },
  {
   "cell_type": "code",
   "execution_count": null,
   "id": "ac0b422b-80a1-4d58-9d47-bae11e72d75f",
   "metadata": {},
   "outputs": [],
   "source": [
    "\n",
    "\"\"\"1 . you have to write a fun which will take string and return a len of \n",
    "it without using a inbuilt fun len\n",
    "2 . write a fun which will be able to print an index of all premitive element which you will pass \n",
    "3 . Write a fun which will take input as a dict and give me out as a list of all the values \n",
    "even in case of 2 level nesting it should work . \n",
    "4 . write a fun which will take another function as an input and return me an output \n",
    "5. write a function whihc will take multiple list as a input and give me concatnation of all the element as \n",
    "and output \n",
    "6 . write a function which will be able to take a list as an input return an index of each element \n",
    "like a inbuilt index function but even if we have repetative element it should return index \n",
    "7 . Write a function which will whould return list of all the file name from a directory . \n",
    "8  . write a function which will be able to show your system configuration . \n",
    "9 . write a function which will be able to show date and time  . \n",
    "10 . write a function whihc will be able to read a image file and show it to you .\n",
    "11 . write a function which can read video file and play for you . \n",
    "12  . write a function whihc can move a file from one directory to another directory . \n",
    "13 . write a function which will be able to shutdonw your system . \n",
    "14 . write a function whihc will be able to access your mail . \n",
    "15 . write a func bywhcih i can send a mail to anyone \n",
    "16. write a func to read a complete PDf file . \n",
    "17. write a function to read a word file . \n",
    "18 . write a function which can help you to filter only word file from a directory . \n",
    "19 . write a function by which you can print an ip address of your system . \n",
    "20 . write a function by which you will be able to append two PDF files . \"\"\""
   ]
  },
  {
   "cell_type": "code",
   "execution_count": null,
   "id": "0d439b3f-f804-4e26-8648-bc1d22a1d3fb",
   "metadata": {},
   "outputs": [],
   "source": [
    "#q1.\n",
    "def length(a):\n",
    "    if type(a)== str:\n",
    "        count= 0\n",
    "        for i in a:\n",
    "            count= count+1\n",
    "    return count"
   ]
  },
  {
   "cell_type": "code",
   "execution_count": null,
   "id": "54a2aa47-8777-46d7-a813-327c70ac653c",
   "metadata": {},
   "outputs": [],
   "source": [
    "length(\"jaga\")"
   ]
  },
  {
   "cell_type": "code",
   "execution_count": null,
   "id": "fc5e0c61-a63c-4b8f-b5a9-434f7075fea9",
   "metadata": {},
   "outputs": [],
   "source": [
    "#q.3\n",
    "def index(a):\n",
    "    if type(a)== str or type(a)== list or type(a)== tuple or type(a)== set:\n",
    "        count = 0\n",
    "        for i in range(len(a)):\n",
    "            print(\" the index of \"+str(a[i])+ \" is: \"+str(count+i))"
   ]
  },
  {
   "cell_type": "code",
   "execution_count": null,
   "id": "582b4693-1ed0-4135-bc52-f32760f58a8e",
   "metadata": {},
   "outputs": [],
   "source": [
    "index([1,2,44,5,5,6])"
   ]
  },
  {
   "cell_type": "code",
   "execution_count": null,
   "id": "8f45f1fa-43bd-4dc8-83e1-2007e815fd58",
   "metadata": {},
   "outputs": [],
   "source": [
    "#only works upto second level complexity\n",
    "def fungivelistval(a):\n",
    "        if type(a)== dict:\n",
    "            listval=[]\n",
    "            for i in a.values():\n",
    "                if type(i)== list or type(i)== tuple or type(i)== set:\n",
    "                    listval.extend(list(i))\n",
    "                elif type(i)== str or type(i)== int or type(i)== float:\n",
    "                    listval.append(i)\n",
    "                elif type(i)== dict:\n",
    "                    for j in i.values():\n",
    "                        listval.append(j)\n",
    "                \n",
    "        return listval"
   ]
  },
  {
   "cell_type": "code",
   "execution_count": null,
   "id": "34607f88-4f15-44aa-a00a-b4ccb8f61cee",
   "metadata": {},
   "outputs": [],
   "source": [
    "dictionary= {\"sw\": [1,3,45,\"dfd\"], \"integer\":424, \"float\":2324.4, \"dictionary\":{\"func\":2, \"list\":1213}}"
   ]
  },
  {
   "cell_type": "code",
   "execution_count": null,
   "id": "cebb197d-3b65-4815-b32c-14ed7c4407b5",
   "metadata": {},
   "outputs": [],
   "source": [
    "fungivelistval(dictionary)"
   ]
  },
  {
   "cell_type": "markdown",
   "id": "de0d74a9-d6a5-4ba8-90c1-b808bc3d1c55",
   "metadata": {},
   "source": [
    "*args, a standard notation(not a reserved keyword means we can use *anything(your name also)) by which it will consider any no of data inputs and any type of data and perform some operations and returns the output\n",
    "\n",
    "And args output will always be in form of tuples"
   ]
  },
  {
   "cell_type": "code",
   "execution_count": null,
   "id": "3fd4dd94-e53b-4dcd-9187-3381c4d40f20",
   "metadata": {},
   "outputs": [],
   "source": [
    "def test8(*args):\n",
    "    return args       "
   ]
  },
  {
   "cell_type": "code",
   "execution_count": null,
   "id": "312feb2c-4f71-42c0-80a7-5f76944b47ae",
   "metadata": {},
   "outputs": [],
   "source": [
    "test8(34,353,535,35,3)"
   ]
  },
  {
   "cell_type": "code",
   "execution_count": null,
   "id": "83f84b67-4dca-4048-b72d-8fc832805c69",
   "metadata": {},
   "outputs": [],
   "source": [
    "test8(24,434,[\"dfef\", 4234, 242.424, 4+8j], 5+9j, 3.3,\"dwd\")"
   ]
  },
  {
   "cell_type": "code",
   "execution_count": null,
   "id": "0ba9f38f-28f1-42a5-bc44-bf02bdc2ec95",
   "metadata": {},
   "outputs": [],
   "source": [
    "def test9(*jaga, a):\n",
    "    return jaga, a"
   ]
  },
  {
   "cell_type": "code",
   "execution_count": null,
   "id": "9709a818-be54-44e6-a339-05b16ec918cb",
   "metadata": {},
   "outputs": [],
   "source": [
    "test9(\"dadad\",3223,323, \"dsd\")    #it not working because all the input will act as input for jaga itself , so a is missing"
   ]
  },
  {
   "cell_type": "code",
   "execution_count": null,
   "id": "6a5fb4ba-f151-4c3f-bd1e-9e596ac7e53f",
   "metadata": {},
   "outputs": [],
   "source": [
    "def test10(*jaga, a= 90):\n",
    "    return jaga, a              #one of the solution is that any standard value can be assigned to a"
   ]
  },
  {
   "cell_type": "code",
   "execution_count": null,
   "id": "2320a3a9-0d06-40ad-8429-34193a2e9d7c",
   "metadata": {},
   "outputs": [],
   "source": [
    "test10(\"dsds\", \"sdsd\", [232,23, \"sdsd\"])"
   ]
  },
  {
   "cell_type": "code",
   "execution_count": null,
   "id": "975a5d08-4b6e-4494-990e-5e8029ab6620",
   "metadata": {},
   "outputs": [],
   "source": [
    "def test11(*jaga, a, b,c,d):\n",
    "    return jaga, a,b,c,d"
   ]
  },
  {
   "cell_type": "code",
   "execution_count": null,
   "id": "7b9d224f-964b-4472-9e94-905ec6330643",
   "metadata": {},
   "outputs": [],
   "source": [
    "test11(\"sd\", 23,424,\"dada\", [\"dad\", 23+8j] , a=4, b= 7, c= 6, d=2)"
   ]
  },
  {
   "cell_type": "code",
   "execution_count": null,
   "id": "3b114f57-5bb5-4198-822a-be7ae8799214",
   "metadata": {},
   "outputs": [],
   "source": [
    "def test12(a, *vibi):    \n",
    "    return a, vibi            #in this sequence"
   ]
  },
  {
   "cell_type": "code",
   "execution_count": null,
   "id": "c970ed5c-6e5f-4484-b4d2-3f2aac5d1bdc",
   "metadata": {},
   "outputs": [],
   "source": [
    "test12(\"dada\", \"dadad\", 2,4242,422,2,3,2, a= \"ww\")   #not working because by default it always select first value as a value of a but we assigned value of a second time as a= \"ww\" so it became multiple value "
   ]
  },
  {
   "cell_type": "code",
   "execution_count": null,
   "id": "1edc139c-9ce4-455c-82aa-97529fd2d921",
   "metadata": {},
   "outputs": [],
   "source": [
    "test12(\"dada\", \"dadad\", 2,4242,422,2,3,2)  #solution"
   ]
  },
  {
   "cell_type": "code",
   "execution_count": null,
   "id": "7c9c804b-61ac-4069-ad5f-eea4912cfdc8",
   "metadata": {},
   "outputs": [],
   "source": [
    "#ques  Let the user any no, any type of data input if the data input contains a list the return that list only\n",
    "def test13(*args):\n",
    "    for i in args:\n",
    "        if type(i)== list:\n",
    "             return i"
   ]
  },
  {
   "cell_type": "code",
   "execution_count": null,
   "id": "02a534fc-abed-441a-ba0d-746d28605043",
   "metadata": {},
   "outputs": [],
   "source": [
    "test13(\"dd\", 323,32,3,23,[\"sdsd\", 233,32, 6+9j], 4+8j, (\"Sdsd\", 323), {\"sdsd\":\"ssd\", \"sdsd\":\"sdssdsd\"})"
   ]
  },
  {
   "cell_type": "code",
   "execution_count": null,
   "id": "0bcfb498-0dfd-4717-93c3-46fbc992ef06",
   "metadata": {},
   "outputs": [],
   "source": [
    "#but the problem with above solution, if a data input consists more than 1 list, then this function only return 1 list \n",
    "\n",
    "#Solution is:\n",
    "\n",
    "def test14(*args):\n",
    "    l=[]\n",
    "    for i in args:\n",
    "        if type(i)== list:\n",
    "            l.append(i)\n",
    "    return l\n",
    "\n"
   ]
  },
  {
   "cell_type": "code",
   "execution_count": null,
   "id": "8bf9b997-9b11-482e-9195-804a16187fd3",
   "metadata": {},
   "outputs": [],
   "source": [
    "test14(\"dd\", 323,32,3,23,[\"sdsd\", 233,32, 6+9j], 4+8j, (\"Sdsd\", 323), [\"dad\", 232,2323], {\"sdsd\":\"ssd\", \"sdsd\":\"sdssdsd\"})"
   ]
  },
  {
   "cell_type": "code",
   "execution_count": null,
   "id": "24b45b58-28ae-45be-9a04-0222101742b4",
   "metadata": {},
   "outputs": [],
   "source": [
    "d= {\"a\": [2,3.4,34], 6:[3,23232,3,23]}"
   ]
  },
  {
   "cell_type": "code",
   "execution_count": null,
   "id": "3031cf06-53dd-4c0e-bd76-df5ef3bf1608",
   "metadata": {},
   "outputs": [],
   "source": [
    "d[\"a\"]"
   ]
  },
  {
   "cell_type": "markdown",
   "id": "965d5c84-8bf3-41db-8ab5-c6e341d493c6",
   "metadata": {},
   "source": [
    "**kwargs is a standard notation(again **kwargs is not a reserved keyword(**(your name also) to pass a keyword argumnets (in form of key value pairs)"
   ]
  },
  {
   "cell_type": "code",
   "execution_count": null,
   "id": "07d5d348-0f43-4e7d-b920-0d875e0add9b",
   "metadata": {},
   "outputs": [],
   "source": [
    "def test15(**kwargs):\n",
    "    return kwargs             "
   ]
  },
  {
   "cell_type": "code",
   "execution_count": null,
   "id": "2c99107b-059c-4dec-8933-b518f14fba3a",
   "metadata": {},
   "outputs": [],
   "source": [
    "test15(a= [2,3.4,34], b= [3,23232,3,23])     #so here a and b are treated as a keys and later parts are treated as a values and the output will be always will be a dictionary"
   ]
  },
  {
   "cell_type": "code",
   "execution_count": null,
   "id": "a5da30e7-73ec-48d0-9a6e-f0e3358693c7",
   "metadata": {},
   "outputs": [],
   "source": [
    "def information(**jaga):\n",
    "    return jaga"
   ]
  },
  {
   "cell_type": "code",
   "execution_count": null,
   "id": "ad3ddc6f-c47e-4e47-9764-203ad882615d",
   "metadata": {},
   "outputs": [],
   "source": [
    "information(name = \"jagadeesh\", age= 23, phone= 232232323, Id= \"jagadeesh.jm534@gmail.com\")"
   ]
  },
  {
   "cell_type": "code",
   "execution_count": null,
   "id": "2d0fc18d-c8ee-4d5c-b5b6-5969eb75d123",
   "metadata": {},
   "outputs": [],
   "source": [
    "def test16(a, **jaga):\n",
    "    return a, jaga"
   ]
  },
  {
   "cell_type": "code",
   "execution_count": null,
   "id": "965c5b3b-c69a-4c8d-a46a-88d0c07e2b16",
   "metadata": {},
   "outputs": [],
   "source": [
    "test16(33,32,32,3,23,2,3)   #it wont work because altough a will defalut take 33 but the problem is not given data as a key value after 33"
   ]
  },
  {
   "cell_type": "code",
   "execution_count": null,
   "id": "cb3a3aa2-efdb-40fc-bc59-7e3ec33f8dc9",
   "metadata": {},
   "outputs": [],
   "source": [
    "test16(2323, b= 23,c= 23, d= 23, e= 31)"
   ]
  },
  {
   "cell_type": "code",
   "execution_count": null,
   "id": "193a9527-37af-457d-8c02-a84ca5261509",
   "metadata": {},
   "outputs": [],
   "source": [
    "def test17(a, **jaga, *args):\n",
    "    return jaga, a, args       #syntax problem in context of sequence"
   ]
  },
  {
   "cell_type": "code",
   "execution_count": null,
   "id": "8d52bb35-4f5c-4ea2-aa0b-6f9d30efdf72",
   "metadata": {},
   "outputs": [],
   "source": [
    "def test18(a, *args, **kwargs):    #correct sequence (variable, *args, **kwargs) \n",
    "    return args, a, kwargs       #order of return doesnot matter in any case"
   ]
  },
  {
   "cell_type": "code",
   "execution_count": null,
   "id": "d8cc3f59-ef66-4988-9547-99a0a2374487",
   "metadata": {},
   "outputs": [],
   "source": [
    "test18(2313, 313,313,1,31,3, b= \"adad\")    #so here a will be 2313 and next will be for args and where there is = that data will be for kwargs"
   ]
  },
  {
   "cell_type": "code",
   "execution_count": null,
   "id": "e513a1be-6889-4b85-b9e3-e82f315d3ed8",
   "metadata": {},
   "outputs": [],
   "source": [
    "def test19(a,b):\n",
    "    return a*b"
   ]
  },
  {
   "cell_type": "code",
   "execution_count": null,
   "id": "a44f6fce-5bb6-4422-9286-a8179fe9a23a",
   "metadata": {},
   "outputs": [],
   "source": [
    "test19(67,33)"
   ]
  },
  {
   "cell_type": "code",
   "execution_count": null,
   "id": "b6f697ff-c091-46c0-b8e8-fca75d602080",
   "metadata": {},
   "outputs": [],
   "source": [
    "#How to create a anonymus function without a name, Solution : Lambda function"
   ]
  },
  {
   "cell_type": "code",
   "execution_count": null,
   "id": "fd935b30-5811-4ba5-a32f-37a8cfee944d",
   "metadata": {},
   "outputs": [],
   "source": [
    "a= lambda a, b: (a*b , a+b)   #we can store the syntax into a variable and perform the operation"
   ]
  },
  {
   "cell_type": "code",
   "execution_count": null,
   "id": "7509a54d-c30b-47c8-ba98-003d3173a586",
   "metadata": {},
   "outputs": [],
   "source": [
    "a(67,311)"
   ]
  },
  {
   "cell_type": "code",
   "execution_count": null,
   "id": "976fc872-efa1-4aca-b83b-d9d51e43a4ff",
   "metadata": {},
   "outputs": [],
   "source": [
    "b= lambda *a:a    #lamda function behaves as a *args"
   ]
  },
  {
   "cell_type": "code",
   "execution_count": null,
   "id": "41681718-4e01-4746-abcd-7643a05cad3e",
   "metadata": {},
   "outputs": [],
   "source": [
    "b(\"Wdsdw\", \"WDWD\")"
   ]
  },
  {
   "cell_type": "code",
   "execution_count": null,
   "id": "447bb402-f158-4677-ad4e-ffbdeb4fbf54",
   "metadata": {},
   "outputs": [],
   "source": [
    "x= lambda a, *args, **kwargs: a, args, kwargs    #lambda s a kwargs"
   ]
  },
  {
   "cell_type": "code",
   "execution_count": null,
   "id": "5361c919-fe77-4596-a8c4-04502821fc9f",
   "metadata": {},
   "outputs": [],
   "source": [
    "x(12, 2323,3,2,3,b= 4, c= 6)"
   ]
  },
  {
   "cell_type": "code",
   "execution_count": null,
   "id": "23e2d449-cb3c-42c0-aeb6-41457809464f",
   "metadata": {},
   "outputs": [],
   "source": [
    "y= lambda x: [print(i) for i in x]"
   ]
  },
  {
   "cell_type": "code",
   "execution_count": null,
   "id": "fb8c38af-7f4e-40f6-81cc-7630dd2a407d",
   "metadata": {},
   "outputs": [],
   "source": [
    "y(\"jaga\")"
   ]
  },
  {
   "cell_type": "code",
   "execution_count": null,
   "id": "e397c41f-1373-4ffd-bef7-55ec00aba5ea",
   "metadata": {},
   "outputs": [],
   "source": [
    "y([3232,3,23,])"
   ]
  },
  {
   "cell_type": "code",
   "execution_count": null,
   "id": "f345edf5-b1b1-45bd-8a4d-c3deb6600534",
   "metadata": {},
   "outputs": [],
   "source": [
    "l= [4,5,6,7,7,8]"
   ]
  },
  {
   "cell_type": "code",
   "execution_count": null,
   "id": "06184c53-3bec-40c4-9be6-4b2ea7c24541",
   "metadata": {},
   "outputs": [],
   "source": [
    "l1= []\n",
    "for i in l:\n",
    "    l1.append(i*2)"
   ]
  },
  {
   "cell_type": "code",
   "execution_count": null,
   "id": "84065287-1fdd-49ed-95b9-5034aa20477b",
   "metadata": {},
   "outputs": [],
   "source": [
    "l1"
   ]
  },
  {
   "cell_type": "markdown",
   "id": "c3b5b9f0-fce8-43ad-b017-b004c3d7e7c3",
   "metadata": {},
   "source": [
    "#List comprehension"
   ]
  },
  {
   "cell_type": "code",
   "execution_count": null,
   "id": "09c64e14-a7dc-4f47-b84a-38a662ea8e36",
   "metadata": {},
   "outputs": [],
   "source": [
    "[i*2 for i in l]    #list comprehension"
   ]
  },
  {
   "cell_type": "code",
   "execution_count": null,
   "id": "a09e00f9-f3fb-412e-818e-5a3f14ea7505",
   "metadata": {},
   "outputs": [],
   "source": [
    "a= 10\n",
    "def test20(c, d):\n",
    "    return c*d"
   ]
  },
  {
   "cell_type": "code",
   "execution_count": null,
   "id": "4498e759-9c0d-4a52-8161-0118a0cb2245",
   "metadata": {},
   "outputs": [],
   "source": [
    "test20(a, 50)     #so here a is sent in place of c where is a=10, #It is call by reference"
   ]
  },
  {
   "cell_type": "code",
   "execution_count": null,
   "id": "90519b2d-5c84-4f03-a192-990bc7399246",
   "metadata": {},
   "outputs": [],
   "source": [
    "a= 10\n",
    "def test21(c,d):\n",
    "    a=5\n",
    "    return c*d"
   ]
  },
  {
   "cell_type": "code",
   "execution_count": null,
   "id": "62a8ac9f-05f0-49c5-ad3d-7e87be805ca0",
   "metadata": {},
   "outputs": [],
   "source": [
    "test21(a, 50)"
   ]
  },
  {
   "cell_type": "code",
   "execution_count": null,
   "id": "d7130b20-721d-4419-94c4-9ec757029f55",
   "metadata": {},
   "outputs": [],
   "source": [
    "c=10\n",
    "def test22(c, d):\n",
    "    c= 5                    #c=10 is a global variable and #c=5 is local varibale\n",
    "    return c*d"
   ]
  },
  {
   "cell_type": "code",
   "execution_count": null,
   "id": "83d2bd75-8046-4e13-bfb0-51e564178288",
   "metadata": {},
   "outputs": [],
   "source": [
    "test22(10, 50)   "
   ]
  },
  {
   "cell_type": "code",
   "execution_count": null,
   "id": "5569af83-4c6e-4140-9a2e-f78b60644f07",
   "metadata": {},
   "outputs": [],
   "source": [
    "[(i**2, i+1) for i in l if i<60]"
   ]
  },
  {
   "cell_type": "markdown",
   "id": "7a77ac86-568d-4a24-bad7-b465402a8427",
   "metadata": {},
   "source": [
    "#dictionary comprehension"
   ]
  },
  {
   "cell_type": "code",
   "execution_count": null,
   "id": "a5d95905-fac2-4567-8ad5-e0813b9889b7",
   "metadata": {},
   "outputs": [],
   "source": [
    "{i:i**2 for i in range(10)}"
   ]
  },
  {
   "cell_type": "code",
   "execution_count": null,
   "id": "ec028ccc-5dea-4586-9eae-f9bb9ce6cfa4",
   "metadata": {},
   "outputs": [],
   "source": [
    "tuple(i*2 for i in range(10))"
   ]
  },
  {
   "cell_type": "code",
   "execution_count": null,
   "id": "76204932-a069-4a6f-afe3-3f59056d4cee",
   "metadata": {},
   "outputs": [],
   "source": [
    "s= \"jaga\"\n",
    "for i in s:\n",
    "    print(i)"
   ]
  },
  {
   "cell_type": "code",
   "execution_count": null,
   "id": "3ac95e72-d572-4709-aa3d-7d2e3efd59c9",
   "metadata": {},
   "outputs": [],
   "source": [
    "next(s)"
   ]
  },
  {
   "cell_type": "markdown",
   "id": "71a27be8-af10-4e05-aee1-18d268e4daf1",
   "metadata": {},
   "source": [
    "#Iterable: If an object which can be accesssed  with the help of index (for ex. string, list etc)\n",
    "\n",
    "#Iterator is the object which can be access one after another.\n",
    "\n",
    "#Iter() is the function which is used to convert the iterable to iterator.\n",
    "\n",
    "#The object which is iterable can only be converted into a iterator\n",
    "\n",
    "#Iter is in built in For loop for example, That is why we can access the object one after other since for loop convert iterable to iterator automatically during the process of executon"
   ]
  },
  {
   "cell_type": "code",
   "execution_count": null,
   "id": "40358184-43a0-4c73-a092-6ea5668781ce",
   "metadata": {},
   "outputs": [],
   "source": [
    "s= \"jaga\"   #iterable but not iterator\n",
    "\n",
    "s[0]    #iterable- which can access in sequencial manner but cannot be accessed until it converted into iterator"
   ]
  },
  {
   "cell_type": "code",
   "execution_count": null,
   "id": "579ceade-a4ef-4483-b39d-96121a14b14b",
   "metadata": {},
   "outputs": [],
   "source": [
    "b= iter(s)   # Now converted to iterator"
   ]
  },
  {
   "cell_type": "code",
   "execution_count": null,
   "id": "e8206058-dd66-45b4-9e7c-21fe917a1f21",
   "metadata": {},
   "outputs": [],
   "source": [
    "next(b)   #next is the funtion with which we cqn acess in a sequencial manner"
   ]
  },
  {
   "cell_type": "code",
   "execution_count": null,
   "id": "1a2b4ed4-b2cd-4b6a-b0ef-3d045e306359",
   "metadata": {},
   "outputs": [],
   "source": [
    "next(b)"
   ]
  },
  {
   "cell_type": "code",
   "execution_count": null,
   "id": "80f68676-1a41-4276-a2c7-fe75a1fd6538",
   "metadata": {},
   "outputs": [],
   "source": [
    "next(b)"
   ]
  },
  {
   "cell_type": "code",
   "execution_count": null,
   "id": "76cade63-c73e-46ce-b138-352e9257efc7",
   "metadata": {},
   "outputs": [],
   "source": [
    "next(b)"
   ]
  },
  {
   "cell_type": "code",
   "execution_count": null,
   "id": "86acfc1a-9354-4fbd-9b19-6aa27518fd52",
   "metadata": {},
   "outputs": [],
   "source": [
    "next(b)   #iteration stopped"
   ]
  },
  {
   "cell_type": "code",
   "execution_count": null,
   "id": "0445aaf2-5421-44c5-98f8-ebc39807c02f",
   "metadata": {},
   "outputs": [],
   "source": [
    "l=[1,2,34,5]"
   ]
  },
  {
   "cell_type": "code",
   "execution_count": null,
   "id": "6b043a62-4eea-491c-b9bf-68caeb6e22eb",
   "metadata": {},
   "outputs": [],
   "source": [
    "d= iter(l)"
   ]
  },
  {
   "cell_type": "code",
   "execution_count": null,
   "id": "2323773f-5f46-4ccc-9e3f-5d5180805b9a",
   "metadata": {},
   "outputs": [],
   "source": [
    "next(d)"
   ]
  },
  {
   "cell_type": "code",
   "execution_count": null,
   "id": "5e68d8cd-a163-48b1-ac80-1914fa1ffe14",
   "metadata": {},
   "outputs": [],
   "source": [
    "next(d)"
   ]
  },
  {
   "cell_type": "code",
   "execution_count": null,
   "id": "5aa6e2dd-1f3b-4eee-9dbf-a355e2f18c88",
   "metadata": {},
   "outputs": [],
   "source": [
    "next(d)"
   ]
  },
  {
   "cell_type": "code",
   "execution_count": null,
   "id": "18122e87-800b-4998-b630-7f74418b3754",
   "metadata": {},
   "outputs": [],
   "source": [
    "next(d)"
   ]
  },
  {
   "cell_type": "code",
   "execution_count": null,
   "id": "bfeac741-53be-4ad0-b329-26cb04341d29",
   "metadata": {},
   "outputs": [],
   "source": [
    "next(d)"
   ]
  },
  {
   "cell_type": "markdown",
   "id": "10022f8d-364a-464d-9927-ef30a4049166",
   "metadata": {},
   "source": [
    "#But in case of loop, we are saved from this stop error automatucally because the len of the object is internally calculated and the iteration is processed upto the length itself"
   ]
  },
  {
   "cell_type": "code",
   "execution_count": null,
   "id": "cf702f91-f6ab-4987-8d9b-702b913b38f9",
   "metadata": {},
   "outputs": [],
   "source": [
    "r= range(6)    #range function is iterable but not iterator"
   ]
  },
  {
   "cell_type": "code",
   "execution_count": null,
   "id": "c6271cb1-cdc9-42c3-962a-7b606136acf7",
   "metadata": {},
   "outputs": [],
   "source": [
    "next(r)"
   ]
  },
  {
   "cell_type": "code",
   "execution_count": null,
   "id": "d534d35d-0414-4305-93b3-2e9e7a4b92c0",
   "metadata": {},
   "outputs": [],
   "source": [
    "r= iter(r)"
   ]
  },
  {
   "cell_type": "code",
   "execution_count": null,
   "id": "a3b60b47-45b9-4cc9-a810-d21feb5b6df1",
   "metadata": {},
   "outputs": [],
   "source": [
    "next(r)"
   ]
  },
  {
   "cell_type": "code",
   "execution_count": null,
   "id": "d6d43614-d2f0-4d01-82b5-bd0f8acf60b9",
   "metadata": {},
   "outputs": [],
   "source": [
    "next(r)"
   ]
  },
  {
   "cell_type": "code",
   "execution_count": null,
   "id": "5b584d03-fda3-4f7b-91d9-180deb79eeab",
   "metadata": {},
   "outputs": [],
   "source": [
    "list(range(0, 34, 2))"
   ]
  },
  {
   "cell_type": "markdown",
   "id": "5634fdb3-f8d3-406d-982b-7931069e14ec",
   "metadata": {},
   "source": [
    "# Generator"
   ]
  },
  {
   "cell_type": "code",
   "execution_count": null,
   "id": "20834366-dbd8-4b18-bb78-a83d0ba76d79",
   "metadata": {},
   "outputs": [],
   "source": [
    "def gencube(n):\n",
    "    for i in range(n):\n",
    "        return i**3"
   ]
  },
  {
   "cell_type": "code",
   "execution_count": null,
   "id": "c8f497bd-2f10-48ef-8266-c256ee6172a7",
   "metadata": {},
   "outputs": [],
   "source": [
    "gencube(3)   #only we will get for i=0\n",
    "\n",
    "#so to get all the cubes\n",
    "#solutions we know upto now are:\n",
    "   # use print function----->but problem is nonetype\n",
    "    # use a empty list and append each value and return the list"
   ]
  },
  {
   "cell_type": "markdown",
   "id": "4e9ae6ca-a805-45a3-8b48-af3db52290ed",
   "metadata": {},
   "source": [
    "#But if the number is very high like n = 600000000, then the compution time and memory comsumption will be huge"
   ]
  },
  {
   "cell_type": "code",
   "execution_count": null,
   "id": "25116995-e8e4-42c0-913b-c798631b6979",
   "metadata": {},
   "outputs": [],
   "source": [
    "range(1000000000000000000)"
   ]
  },
  {
   "cell_type": "markdown",
   "id": "645c6e73-26cc-4d00-9071-46362543f81c",
   "metadata": {},
   "source": [
    "#Normally if we follow the solution of list approach the return function returns the list after entire execution of each and every number, So there is a requirement to store the prevoiusly processed data into memory and process new number at the sam einstant. that is why memroy and compution capability requirement is huge.\n",
    "\n",
    "#So if we consider the function like range which generates a object and when for loop is called over range function it will process the data one after another and immediately throw it into console after each processing that is why memory consumption is very low."
   ]
  },
  {
   "cell_type": "markdown",
   "id": "b12f45d2-e5a1-49ce-9aac-8abef1b6b3d5",
   "metadata": {},
   "source": [
    "#yield is also a generator function which is similar to range "
   ]
  },
  {
   "cell_type": "code",
   "execution_count": null,
   "id": "8b546a38-b1cb-4c1e-8acf-546ccccdb9de",
   "metadata": {},
   "outputs": [],
   "source": [
    "def gencube1(n):\n",
    "    for i in range(n):\n",
    "        yield i**3"
   ]
  },
  {
   "cell_type": "code",
   "execution_count": null,
   "id": "ff8cb297-1228-40b2-8d32-61d7c22947d9",
   "metadata": {},
   "outputs": [],
   "source": [
    "gencube1(100)   #so Here, since we used yield function we are having a object generation."
   ]
  },
  {
   "cell_type": "code",
   "execution_count": null,
   "id": "c52d703c-80d6-47e8-ba38-99ad9c226d79",
   "metadata": {},
   "outputs": [],
   "source": [
    "f= gencube1(100) "
   ]
  },
  {
   "cell_type": "code",
   "execution_count": null,
   "id": "e8ebfab2-563d-4924-a695-ca0434e4a84c",
   "metadata": {},
   "outputs": [],
   "source": [
    "for i in f:\n",
    "    print(i)     #Here the processing time is so less"
   ]
  },
  {
   "cell_type": "code",
   "execution_count": null,
   "id": "1cdd6db2-d005-497d-950d-699503237ef4",
   "metadata": {},
   "outputs": [],
   "source": [
    "#Ques generate fibinacci series by using yield function\n",
    "\n",
    "def fib(n):\n",
    "    a= 1\n",
    "    b= 1\n",
    "    for i in range(n):\n",
    "           yield a, i\n",
    "           a, b= b, a+b\n",
    "           "
   ]
  },
  {
   "cell_type": "code",
   "execution_count": null,
   "id": "2a35a9fb-4f57-45df-aacb-f925d93f270f",
   "metadata": {},
   "outputs": [],
   "source": [
    "e= fib(10)"
   ]
  },
  {
   "cell_type": "code",
   "execution_count": null,
   "id": "2660fe1a-b10e-48d8-a2e3-106315d75e2b",
   "metadata": {},
   "outputs": [],
   "source": [
    "for i in e:\n",
    "    print(i)"
   ]
  },
  {
   "cell_type": "code",
   "execution_count": null,
   "id": "4acd6dbe-4ba7-412b-806a-4042c3595398",
   "metadata": {},
   "outputs": [],
   "source": [
    "def fib1(n):\n",
    "    a=1\n",
    "    b=1\n",
    "    output= []\n",
    "    for i in range(n):\n",
    "        output.append(a)\n",
    "        a,b = b, a+b\n",
    "    return output"
   ]
  },
  {
   "cell_type": "code",
   "execution_count": null,
   "id": "45a0255b-c36f-455a-aa0e-6762ab77ae5b",
   "metadata": {},
   "outputs": [],
   "source": [
    "fib1(10)"
   ]
  },
  {
   "cell_type": "code",
   "execution_count": null,
   "id": "123c87f3-72ae-46fd-ae72-9ff164a2b723",
   "metadata": {},
   "outputs": [],
   "source": [
    "#q2. \n",
    "def indexofprimitive(a):\n",
    "    lindex=[]\n",
    "    for i in range(len(a)):\n",
    "        lindex.append(i)\n",
    "    return lindex"
   ]
  },
  {
   "cell_type": "code",
   "execution_count": null,
   "id": "ff50b452-0187-40bb-be51-35fa3756237f",
   "metadata": {},
   "outputs": [],
   "source": [
    "indexofprimitive([1,2,323,23,23,])"
   ]
  },
  {
   "cell_type": "code",
   "execution_count": null,
   "id": "124fe3a5-33a4-48c4-832f-62cade02e415",
   "metadata": {},
   "outputs": [],
   "source": []
  },
  {
   "cell_type": "code",
   "execution_count": null,
   "id": "d3c897e8-e85c-4b7c-b7e6-e97de603358a",
   "metadata": {},
   "outputs": [],
   "source": []
  },
  {
   "cell_type": "code",
   "execution_count": null,
   "id": "abffee9a-e246-4a81-9b87-331267bd69d7",
   "metadata": {},
   "outputs": [],
   "source": [
    "def my_function(input_function):\n",
    "  result = input_function()\n",
    "  return result*2\n",
    "\n",
    "# Example usage\n",
    "def add_one():\n",
    "    a= int(input(\"enter your int\"))\n",
    "    return  a+ 1\n",
    "\n",
    "print(my_function(add_one))  # Output: 2\n"
   ]
  },
  {
   "cell_type": "code",
   "execution_count": null,
   "id": "2eb4198d-bb10-48ae-ae66-37eac91f1faa",
   "metadata": {},
   "outputs": [],
   "source": [
    "#q4.\n",
    "\n",
    "def concatelist(*lists):\n",
    "    finallist= []\n",
    "    for i in lists:\n",
    "        if type(i)== list:\n",
    "            finallist.extend(i)\n",
    "    return finallist"
   ]
  },
  {
   "cell_type": "code",
   "execution_count": null,
   "id": "f3376c80-a76f-4321-a7fa-02887521eec2",
   "metadata": {},
   "outputs": [],
   "source": [
    "concatelist([1,313,13,13,13,1], [131,31,3,13,], [1313,31,3,1,31,3])"
   ]
  },
  {
   "cell_type": "code",
   "execution_count": null,
   "id": "03abc05d-aa32-4317-ae39-9dcdbac26808",
   "metadata": {},
   "outputs": [],
   "source": [
    "#q6. \n",
    "def indexfun(a, obj):\n",
    "    if type(a)== list:\n",
    "        for i in range(len(a)):\n",
    "            if a[i]== obj:          #we cam use yield function in this way also\n",
    "                yield i\n",
    "    "
   ]
  },
  {
   "cell_type": "code",
   "execution_count": null,
   "id": "56722dbd-8cc4-4f89-b590-7ef39ae0450b",
   "metadata": {},
   "outputs": [],
   "source": [
    "for i in indexfun([1,22,2,2,323,2,3,23,2], 2):\n",
    "    print(i)"
   ]
  },
  {
   "cell_type": "markdown",
   "id": "2d5e5196-5816-4242-a595-fc21c9665519",
   "metadata": {},
   "source": [
    "# File Handling"
   ]
  },
  {
   "cell_type": "code",
   "execution_count": null,
   "id": "b06cfd31-04d5-4c8a-b257-76dbd9c7f277",
   "metadata": {},
   "outputs": [],
   "source": [
    "pwd()"
   ]
  },
  {
   "cell_type": "code",
   "execution_count": null,
   "id": "72315293-f602-41b6-a8bd-6001bebd0904",
   "metadata": {},
   "outputs": [],
   "source": [
    "import os"
   ]
  },
  {
   "cell_type": "code",
   "execution_count": null,
   "id": "86f12525-5c3e-4d07-a301-cf9172399a00",
   "metadata": {},
   "outputs": [],
   "source": [
    "os.chdir('/home/jovyan/work/folder for file handling stuff')     #fuunction to change the directory"
   ]
  },
  {
   "cell_type": "code",
   "execution_count": null,
   "id": "7ed9484e-6e71-47ea-be21-5742675b059e",
   "metadata": {},
   "outputs": [],
   "source": [
    "pwd"
   ]
  },
  {
   "cell_type": "code",
   "execution_count": null,
   "id": "a64c4e8e-8d46-448b-89e9-ab81745c2be2",
   "metadata": {},
   "outputs": [],
   "source": [
    "f= open(\"test.txt\", \"w\")"
   ]
  },
  {
   "cell_type": "code",
   "execution_count": null,
   "id": "b01d672c-bf58-4553-8194-09e9a69cb6a1",
   "metadata": {},
   "outputs": [],
   "source": [
    "!ls    #gives all the file names which are presnt in our pwd"
   ]
  },
  {
   "cell_type": "code",
   "execution_count": null,
   "id": "2788baa0-9677-42ea-8f21-6e9627664809",
   "metadata": {},
   "outputs": [],
   "source": [
    "f.write(\"This is my first file that i am writing in test.txt\")"
   ]
  },
  {
   "cell_type": "code",
   "execution_count": null,
   "id": "4362e8d6-f624-4eb5-9fc6-bf509ce332ff",
   "metadata": {},
   "outputs": [],
   "source": [
    "f.close()"
   ]
  },
  {
   "cell_type": "code",
   "execution_count": null,
   "id": "033bfca6-2c74-4d55-9712-bc544661e7bf",
   "metadata": {},
   "outputs": [],
   "source": [
    "%%writefile test2.txt\n",
    "this is a data i would like to store in my file"
   ]
  },
  {
   "cell_type": "code",
   "execution_count": null,
   "id": "21c35d27-4cee-42bf-a448-29d9fe92f472",
   "metadata": {},
   "outputs": [],
   "source": [
    "%%writefile test2.txt          #Another way to write a data in a file\n",
    "this is a data i would like to store in my file"
   ]
  },
  {
   "cell_type": "code",
   "execution_count": null,
   "id": "e7047691-0802-401f-8356-b88827872e73",
   "metadata": {},
   "outputs": [],
   "source": [
    "!ls"
   ]
  },
  {
   "cell_type": "code",
   "execution_count": null,
   "id": "5d769f05-6fa6-42dc-9157-99205c11de76",
   "metadata": {},
   "outputs": [],
   "source": [
    "f= open(\"test.txt\", \"r\")   #here r is optinal to keep because by defalut the mode wil be in read mode"
   ]
  },
  {
   "cell_type": "code",
   "execution_count": null,
   "id": "ea7b41b8-e5c6-4584-bcee-b5db342a6706",
   "metadata": {},
   "outputs": [],
   "source": [
    "f.read()    #to read the file"
   ]
  },
  {
   "cell_type": "code",
   "execution_count": null,
   "id": "a9c950da-df4b-4d5c-9ef6-78f498e68ff0",
   "metadata": {},
   "outputs": [],
   "source": [
    "f.write(\"dwd\")   #write is not possible because we opened the file in read mode"
   ]
  },
  {
   "cell_type": "code",
   "execution_count": null,
   "id": "3a227eae-26f7-407a-9ff8-74b65c083728",
   "metadata": {},
   "outputs": [],
   "source": [
    "f.read()   \n",
    "# if we execute read second time it will give a blank beacuse the cursor will upto end of file during the first call of read so now the cursor is available at the end of file where there is no more data available so it is giving the balnk"
   ]
  },
  {
   "cell_type": "code",
   "execution_count": null,
   "id": "af26d34e-a184-4965-bcd1-fa59a50e4f1d",
   "metadata": {},
   "outputs": [],
   "source": [
    "#So to reset teh cursor \n",
    "f.seek(5)   #seek is the operator by which we can reset our cursor to a particular position"
   ]
  },
  {
   "cell_type": "code",
   "execution_count": null,
   "id": "d7ab666e-7dae-4ca1-a921-289e7e92bf0e",
   "metadata": {},
   "outputs": [],
   "source": [
    "f.read()   #so since cursor is at 5th position it start reading from 5th position"
   ]
  },
  {
   "cell_type": "code",
   "execution_count": null,
   "id": "a40b5a1a-aa9e-4d2b-9d79-f42b9e7f2437",
   "metadata": {},
   "outputs": [],
   "source": [
    "f.seek(0)   #cursor is at 0th postion"
   ]
  },
  {
   "cell_type": "code",
   "execution_count": null,
   "id": "619c4dec-6cbe-412c-a403-b3c4cf7f5f1a",
   "metadata": {},
   "outputs": [],
   "source": [
    "f.tell()   #tell will tell us where is your cursor"
   ]
  },
  {
   "cell_type": "code",
   "execution_count": null,
   "id": "47e88330-ee6c-4fc4-a766-8865e33bf721",
   "metadata": {},
   "outputs": [],
   "source": [
    "f.seek(23)"
   ]
  },
  {
   "cell_type": "code",
   "execution_count": null,
   "id": "c793075f-0ab5-4fb1-8b2d-24e25254bcf7",
   "metadata": {},
   "outputs": [],
   "source": [
    "f.tell()"
   ]
  },
  {
   "cell_type": "code",
   "execution_count": null,
   "id": "ae01596a-bad2-45cb-a3cd-3e3615e52b04",
   "metadata": {},
   "outputs": [],
   "source": [
    "f.seek(0)"
   ]
  },
  {
   "cell_type": "code",
   "execution_count": null,
   "id": "0f7dc8f5-9d47-4fed-b03a-1d4382468e1a",
   "metadata": {},
   "outputs": [],
   "source": [
    "f.readline()   #readline reads the file line by line"
   ]
  },
  {
   "cell_type": "code",
   "execution_count": null,
   "id": "befb1dff-4202-4c00-8184-0fbdac3b41e2",
   "metadata": {},
   "outputs": [],
   "source": [
    "f.readline()   #2nd line"
   ]
  },
  {
   "cell_type": "code",
   "execution_count": null,
   "id": "d2c0d1ca-e456-49d7-8bad-81e32725db04",
   "metadata": {},
   "outputs": [],
   "source": [
    "f.readline()   # 3rd line ,    so on......"
   ]
  },
  {
   "cell_type": "code",
   "execution_count": null,
   "id": "f2ad044c-2c66-4db9-a726-f8983b933630",
   "metadata": {},
   "outputs": [],
   "source": [
    "f= open(\"google.txt\", \"w\")"
   ]
  },
  {
   "cell_type": "code",
   "execution_count": null,
   "id": "2c00d689-a273-4d16-b19f-d8a7d1e53986",
   "metadata": {},
   "outputs": [],
   "source": [
    "f.write(\"\"\"Google LLC (/ˈɡuːɡəl/ (listen)) is an American multinational technology company focusing on search engine technology, online advertising, cloud computing, computer software, quantum computing, e-commerce, artificial intelligence,[9] and consumer electronics. It has been referred to as \"the most powerful company in the world\"[10] and one of the world's most valuable brands due to its market dominance, data collection, and technological advantages in the area of artificial intelligence.[11][12][13] Its parent company Alphabet is considered one of the Big Five American information technology companies, alongside Amazon, Apple, Meta, and Microsoft.\n",
    "\n",
    "Google was founded on September 4, 1998, by Larry Page and Sergey Brin while they were PhD students at Stanford University in California. Together they own about 14% of its publicly listed shares and control 56% of the stockholder voting power through super-voting stock. The company went public via an initial public offering (IPO) in 2004. In 2015, Google was reorganized as a wholly owned subsidiary of Alphabet Inc. Google is Alphabet's largest subsidiary and is a holding company for Alphabet's Internet properties and interests. Sundar Pichai was appointed CEO of Google on October 24, 2015, replacing Larry Page, who became the CEO of Alphabet. On December 3, 2019, Pichai also became the CEO of Alphabet.[14]\"\"\")"
   ]
  },
  {
   "cell_type": "code",
   "execution_count": null,
   "id": "856bb095-404a-435d-8404-b2ad49f17856",
   "metadata": {},
   "outputs": [],
   "source": [
    "f.close()"
   ]
  },
  {
   "cell_type": "code",
   "execution_count": null,
   "id": "74ce65fd-73b6-4bc7-a92e-b87ca7f73a13",
   "metadata": {},
   "outputs": [],
   "source": [
    "f= open(\"google.txt\", \"r+\")\n",
    "for line in f:\n",
    "    print(line, end= \" \")"
   ]
  },
  {
   "cell_type": "code",
   "execution_count": null,
   "id": "6454f4dc-3a7c-4b6a-b6a3-d75e06d37c19",
   "metadata": {},
   "outputs": [],
   "source": [
    "f.write(\"fsfsfsf\")"
   ]
  },
  {
   "cell_type": "code",
   "execution_count": null,
   "id": "a29723f1-b1fc-4652-b8be-3a100fb94bbe",
   "metadata": {},
   "outputs": [],
   "source": [
    "f.seek(5)"
   ]
  },
  {
   "cell_type": "code",
   "execution_count": null,
   "id": "f736aa9f-2180-4663-ac48-54f483a8d1f0",
   "metadata": {},
   "outputs": [],
   "source": [
    "f.write(\"This is my file write operation at 5th location\")"
   ]
  },
  {
   "cell_type": "code",
   "execution_count": null,
   "id": "805e7c27-8ef4-44a6-a86d-2708bb24ece0",
   "metadata": {},
   "outputs": [],
   "source": [
    "f.close()"
   ]
  },
  {
   "cell_type": "code",
   "execution_count": null,
   "id": "44d4cc05-978b-4076-ba2e-07111afba46d",
   "metadata": {},
   "outputs": [],
   "source": [
    "f= open(\"google.txt\", \"r+\")"
   ]
  },
  {
   "cell_type": "code",
   "execution_count": null,
   "id": "7b38f602-b2c4-43c5-8547-18e181e07769",
   "metadata": {},
   "outputs": [],
   "source": [
    "f.readlines()   #readlines is the function which gives the output in terms of list by considering each line of data as a single element"
   ]
  },
  {
   "cell_type": "code",
   "execution_count": null,
   "id": "71a8c264-f4f0-406b-9b8a-4808f788f0a6",
   "metadata": {},
   "outputs": [],
   "source": [
    "f.seek(0)"
   ]
  },
  {
   "cell_type": "code",
   "execution_count": null,
   "id": "74b40095-95f4-4c82-a396-576a8a1012cd",
   "metadata": {},
   "outputs": [],
   "source": [
    "len(f.readlines())"
   ]
  },
  {
   "cell_type": "code",
   "execution_count": null,
   "id": "755ad883-9bda-48c5-b8ab-9697ef875eb9",
   "metadata": {},
   "outputs": [],
   "source": [
    "f.seek(0)"
   ]
  },
  {
   "cell_type": "code",
   "execution_count": null,
   "id": "c965ff30-609b-4ba8-ae2a-8c20da3ebc1a",
   "metadata": {},
   "outputs": [],
   "source": [
    "l= f.readlines()"
   ]
  },
  {
   "cell_type": "code",
   "execution_count": null,
   "id": "6308041a-5dbb-4be0-9e07-75d07cf30b03",
   "metadata": {},
   "outputs": [],
   "source": [
    "l"
   ]
  },
  {
   "cell_type": "code",
   "execution_count": null,
   "id": "22c75ed7-edeb-4fb5-97b7-0af6aea63bb0",
   "metadata": {},
   "outputs": [],
   "source": [
    "l[0].split()"
   ]
  },
  {
   "cell_type": "code",
   "execution_count": null,
   "id": "9b678f5c-9820-471b-8e34-9ff0cd88cf19",
   "metadata": {},
   "outputs": [],
   "source": [
    "l1=[]\n",
    "for i in l[0].split():\n",
    "    l1.append(i[0])\n",
    "    \n",
    "print(l1)\n",
    "    "
   ]
  },
  {
   "cell_type": "code",
   "execution_count": null,
   "id": "71720902-68a9-424a-8d63-bb39c95cfed5",
   "metadata": {},
   "outputs": [],
   "source": [
    "l= [\"this is my first line1\", \"this is my second line \", \"this is my line 3\"]"
   ]
  },
  {
   "cell_type": "code",
   "execution_count": null,
   "id": "8ce21625-7fba-4165-9ea1-1ff0ae936115",
   "metadata": {},
   "outputs": [],
   "source": [
    "f= open(\"google.txt\", \"r+\")"
   ]
  },
  {
   "cell_type": "code",
   "execution_count": null,
   "id": "89635f43-3a54-4a50-96bc-331fc0005e3d",
   "metadata": {},
   "outputs": [],
   "source": [
    "f.writelines(l)   #write line option is used to write a data line by line from a list"
   ]
  },
  {
   "cell_type": "code",
   "execution_count": null,
   "id": "3efc14ab-d6d5-46ea-b64e-4d33e8bf6f92",
   "metadata": {},
   "outputs": [],
   "source": [
    "f.close()"
   ]
  },
  {
   "cell_type": "code",
   "execution_count": null,
   "id": "e35d956d-b73a-4399-8651-73c6206c4f87",
   "metadata": {},
   "outputs": [],
   "source": [
    "import os"
   ]
  },
  {
   "cell_type": "code",
   "execution_count": null,
   "id": "fd4e6a26-c8bc-4cbe-a025-f1ff7e8e1abf",
   "metadata": {},
   "outputs": [],
   "source": [
    "os.remove(\"google.txt\")"
   ]
  },
  {
   "cell_type": "code",
   "execution_count": null,
   "id": "450cdd80-4f82-4ade-8bd5-dbb76fce8b35",
   "metadata": {},
   "outputs": [],
   "source": [
    "!ls"
   ]
  },
  {
   "cell_type": "code",
   "execution_count": null,
   "id": "535e1123-25c4-423c-85ca-64b400dcc458",
   "metadata": {},
   "outputs": [],
   "source": [
    "os.getcwd()"
   ]
  },
  {
   "cell_type": "code",
   "execution_count": null,
   "id": "6e0c3a83-cdaa-4716-88db-7d79bfbed327",
   "metadata": {},
   "outputs": [],
   "source": [
    "os.listdir()"
   ]
  },
  {
   "cell_type": "code",
   "execution_count": null,
   "id": "590716c4-1de3-4a27-a0f0-544a8f0bc5e2",
   "metadata": {},
   "outputs": [],
   "source": [
    "#Ques:   Combine all the txt files availble into one txt file by copying all the data of each file into that combined file\n",
    "\n",
    "c= open(\"combinedfile.txt\", \"a\")\n",
    "for i in os.listdir():\n",
    "    if i.endswith(\".txt\"):\n",
    "        f= open(i, \"r\")\n",
    "        c.write(f.read())\n",
    "c.close()\n",
    "        "
   ]
  },
  {
   "cell_type": "code",
   "execution_count": null,
   "id": "0279a483-70c2-46d7-83f1-54f71ad03779",
   "metadata": {},
   "outputs": [],
   "source": [
    "\n",
    "\"\"\"1 . you have to write a fun which will take string and return a len of \n",
    "it without using a inbuilt fun len\n",
    "2 . write a fun which will be able to print an index of all premitive element which you will pass \n",
    "3 . Write a fun which will take input as a dict and give me out as a list of all the values \n",
    "even in case of 2 level nesting it should work . \n",
    "4 . write a fun which will take another function as an input and return me an output \n",
    "5. write a function whihc will take multiple list as a input and give me concatnation of all the element as \n",
    "and output \n",
    "6 . write a function which will be able to take a list as an input return an index of each element \n",
    "like a inbuilt index function but even if we have repetative element it should return index \n",
    "7 . Write a function which will whould return list of all the file name from a directory . \n",
    "8  . write a function which will be able to show your system configuration . \n",
    "9 . write a function which will be able to show date and time  . \n",
    "10 . write a function whihc will be able to read a image file and show it to you .\n",
    "11 . write a function which can read video file and play for you . \n",
    "12  . write a function whihc can move a file from one directory to another directory . \n",
    "13 . write a function which will be able to shutdonw your system . \n",
    "14 . write a function whihc will be able to access your mail . \n",
    "15 . write a func bywhcih i can send a mail to anyone \n",
    "16. write a func to read a complete PDf file . \n",
    "17. write a function to read a word file . \n",
    "18 . write a function which can help you to filter only word file from a directory . \n",
    "19 . write a function by which you can print an ip address of your system . \n",
    "20 . write a function by which you will be able to append two PDF files . \"\"\""
   ]
  },
  {
   "cell_type": "code",
   "execution_count": null,
   "id": "9b5d0d04-601d-46a9-a20a-f5898bf28d7e",
   "metadata": {
    "scrolled": true,
    "tags": []
   },
   "outputs": [],
   "source": [
    "#ques7.\n",
    "def funcdir():\n",
    "    import os\n",
    "    return os.listdir()"
   ]
  },
  {
   "cell_type": "code",
   "execution_count": null,
   "id": "9f83ccf3-40fd-4ae5-ad51-35de39e79663",
   "metadata": {},
   "outputs": [],
   "source": [
    "funcdir()"
   ]
  },
  {
   "cell_type": "code",
   "execution_count": null,
   "id": "dc3f1c4d-8d2d-4fc2-99be-fab52e69742a",
   "metadata": {},
   "outputs": [],
   "source": [
    "#ques 8.\n",
    "def show_sys_config():\n",
    "    import platform\n",
    "    print (\"Operating system :\", platform.system())\n",
    "    print(\"Platform:\", platform.platform())\n",
    "    print(\"CPU:\", platform.processor())\n",
    "    print(\"Python version:\", platform.python_version())"
   ]
  },
  {
   "cell_type": "code",
   "execution_count": null,
   "id": "5c7a5d70-45ec-4581-aa70-f39afae3114f",
   "metadata": {},
   "outputs": [],
   "source": [
    "show_sys_config()"
   ]
  },
  {
   "cell_type": "code",
   "execution_count": null,
   "id": "7dca19de-e822-408a-b36f-0500548629a5",
   "metadata": {},
   "outputs": [],
   "source": [
    "#Ques 9.\n",
    "\n",
    "from datetime import datetime\n",
    "\n",
    "def show_datetime():\n",
    "    now= datetime.now()\n",
    "    print(\"current data and time is:\" , now.strftime(\"%y-%m-%d %H:%M:%S\"))\n",
    "                                                     "
   ]
  },
  {
   "cell_type": "code",
   "execution_count": null,
   "id": "7ddc7469-3878-4241-b108-454670816ac9",
   "metadata": {},
   "outputs": [],
   "source": [
    "show_datetime()"
   ]
  },
  {
   "cell_type": "code",
   "execution_count": null,
   "id": "46886e59-743f-4e8f-b5ba-2fa19eb69e7b",
   "metadata": {},
   "outputs": [],
   "source": [
    "#ques 10\n",
    "from PIL import Image\n",
    "def show_image(filename):\n",
    "    image= Image.open(filename)\n",
    "    image.show()"
   ]
  },
  {
   "cell_type": "code",
   "execution_count": null,
   "id": "b59af7af-ba39-415e-9f42-bb7640f9064d",
   "metadata": {},
   "outputs": [],
   "source": [
    "import os\n",
    "os.chdir('/home/jovyan/work/Images for python')"
   ]
  },
  {
   "cell_type": "code",
   "execution_count": null,
   "id": "c03d70e4-817b-4773-a9b2-13cf65cc718f",
   "metadata": {},
   "outputs": [],
   "source": [
    "show_image(\"passport pic.PNG\")"
   ]
  },
  {
   "cell_type": "code",
   "execution_count": null,
   "id": "53a755ac-8385-496e-b4a0-b1128587a788",
   "metadata": {},
   "outputs": [],
   "source": [
    "pip install opencv-python"
   ]
  },
  {
   "cell_type": "code",
   "execution_count": null,
   "id": "b9a7646c-ae60-4c58-8b03-1e1c05e3d334",
   "metadata": {},
   "outputs": [],
   "source": [
    "#ques 11\n",
    "import cv2\n",
    "\n",
    "def play_videoFile(filePath,mirror=False):\n",
    "\n",
    "    cap = cv2.VideoCapture(filePath)\n",
    "    cv2.namedWindow('big_buck_bunny_720p_1mb (1).mp4',cv2.WINDOW_AUTOSIZE)\n",
    "    while True:\n",
    "        ret_val, frame = cap.read()\n",
    "\n",
    "        if mirror:\n",
    "            frame = cv2.flip(frame, 1)\n",
    "\n",
    "        cv2.imshow('big_buck_bunny_720p_1mb (1).mp4', frame)\n",
    "\n",
    "        if cv2.waitKey(1) == 27:\n",
    "            break  # esc to quit\n",
    "\n",
    "    cv2.destroyAllWindows()\n",
    "\n",
    "def main():\n",
    "    play_videoFile('big_buck_bunny_720p_1mb (1).mp4',mirror=False)\n",
    "\n",
    "if __name__ == '__main__':\n",
    "    main()\n"
   ]
  },
  {
   "cell_type": "code",
   "execution_count": null,
   "id": "75664c10-51e3-4e8f-b54f-70ddb50cbf2c",
   "metadata": {},
   "outputs": [],
   "source": []
  },
  {
   "cell_type": "code",
   "execution_count": null,
   "id": "769b98a8-0ef7-4fda-985d-7c02d911388d",
   "metadata": {},
   "outputs": [],
   "source": [
    "#Ques 12\n",
    "def changedir(src, dst):\n",
    "    import os\n",
    "    os.rename(src, dst)"
   ]
  },
  {
   "cell_type": "code",
   "execution_count": null,
   "id": "26121e7c-5b05-4863-93d9-e9d3df392592",
   "metadata": {},
   "outputs": [],
   "source": [
    "changedir('/home/jovyan/work/Images for python/text.txt',   '/home/jovyan/work/folder for file handling stuff/text.txt')"
   ]
  },
  {
   "cell_type": "code",
   "execution_count": null,
   "id": "71fe8a4b-6db2-4e87-bc7e-a98478a68fa7",
   "metadata": {},
   "outputs": [],
   "source": [
    "pip install os-sys"
   ]
  },
  {
   "cell_type": "code",
   "execution_count": null,
   "id": "0c599327-3a3d-4b79-8705-097486862e45",
   "metadata": {},
   "outputs": [],
   "source": [
    "def shutdown():\n",
    "    import os\n",
    "    os.system(\"shutdown /s /t 0\")"
   ]
  },
  {
   "cell_type": "code",
   "execution_count": null,
   "id": "9aaeda48-09d9-44f6-b842-3e0f39a9585d",
   "metadata": {},
   "outputs": [],
   "source": [
    "import smtplib\n",
    " \n",
    "# creates SMTP session\n",
    "s = smtplib.SMTP('smtp.gmail.com', 587)\n",
    " \n",
    "# start TLS for security\n",
    "s.starttls()\n",
    " \n",
    "# Authentication\n",
    "s.login(\"sender_email_id\", \"sender_email_id_password\")\n",
    " \n",
    "# message to be sent\n",
    "message = \"Message_you_need_to_send\"\n",
    " \n",
    "# sending the mail\n",
    "s.sendmail(\"sender_email_id\", \"receiver_email_id\", message)\n",
    " \n",
    "# terminating the session\n",
    "s.quit()"
   ]
  },
  {
   "cell_type": "markdown",
   "id": "7e8f1ab3-3df1-4188-abcb-b1b7edadc148",
   "metadata": {},
   "source": [
    "# Exception Handling"
   ]
  },
  {
   "cell_type": "code",
   "execution_count": null,
   "id": "fe9142fe-6252-4811-8e9d-b390ca833b35",
   "metadata": {},
   "outputs": [],
   "source": [
    "a= 5\n",
    "b= int(input(\"enter a number\"))    #this code may give error if we enter b value as 0, so how to handle this kind of issues\n",
    "a/b"
   ]
  },
  {
   "cell_type": "code",
   "execution_count": null,
   "id": "8d4fa3ce-ea22-4b8d-806e-72d3235082c7",
   "metadata": {},
   "outputs": [],
   "source": [
    "import os\n",
    "os.chdir('/home/jovyan/work/folder for file handling stuff')"
   ]
  },
  {
   "cell_type": "code",
   "execution_count": null,
   "id": "dad07976-38b6-4c65-8f10-b332cb181448",
   "metadata": {},
   "outputs": [],
   "source": [
    "f= open(\"test.txt\", \"r\")    #we cant write because we opened it in read mode\n",
    "f.write(\"dwdwdwdw\")"
   ]
  },
  {
   "cell_type": "code",
   "execution_count": null,
   "id": "a7020938-99ac-4e44-b350-b637f3a47a81",
   "metadata": {},
   "outputs": [],
   "source": [
    "f= open(\"test.txt\", \"r\")\n",
    "f.write(\"ffffwfe\")     #altough the error comes because of execution of second line but there is no problem in executing third line , still it was not able to excute\n",
    "print(\"this my code)   "
   ]
  },
  {
   "cell_type": "code",
   "execution_count": null,
   "id": "b296ab54-2e20-4c6d-908d-813c461ff4d7",
   "metadata": {},
   "outputs": [],
   "source": [
    "try:\n",
    "    f= open(\"test.txt\", \"r\")\n",
    "    f.write(\"ffffwfe\")          # so, if there is a error in try block, the error is thrown into except block\n",
    "except:\n",
    "    print(\"there is a mistake\")\n",
    "print(\"this my code\")"
   ]
  },
  {
   "cell_type": "code",
   "execution_count": null,
   "id": "2128b688-6185-4d5e-aef8-197d07019b72",
   "metadata": {},
   "outputs": [],
   "source": [
    "l= [22,2,2,23,2,3]\n",
    "try:\n",
    "    for i  range(len(l)):     #except block by defalut able to handle runtime error only but not syntax error\n",
    "        print(l)\n",
    "except:\n",
    "    print(\"this is my code\")"
   ]
  },
  {
   "cell_type": "code",
   "execution_count": null,
   "id": "8ad38fb8-3864-4c25-a4ec-0d881096a1e0",
   "metadata": {},
   "outputs": [],
   "source": [
    "l= [22,2,2,23,2]\n",
    "for i in range(len(l)+1):     #except block by defalut able to handle runtime error only but not syntax error\n",
    "    print(l[i])\n"
   ]
  },
  {
   "cell_type": "code",
   "execution_count": null,
   "id": "4f06e44c-c83d-42d3-b5ba-c436761c8d0d",
   "metadata": {},
   "outputs": [],
   "source": [
    "l= [22,2,2,23,2]\n",
    "try:\n",
    "    for i in range(len(l)+1):      \n",
    "        print(l[i])\n",
    "except:\n",
    "    print(\"this is my code\")"
   ]
  },
  {
   "cell_type": "code",
   "execution_count": null,
   "id": "7427a047-50e2-44a5-ae70-0aef269ab553",
   "metadata": {},
   "outputs": [],
   "source": [
    "try:\n",
    "    a= int(input())\n",
    "    b= int(input())\n",
    "except Exception as e:\n",
    "    print(e)\n",
    "print(\"This is my program\")"
   ]
  },
  {
   "cell_type": "code",
   "execution_count": null,
   "id": "dceaa429-0335-47cd-878d-25827490a346",
   "metadata": {},
   "outputs": [],
   "source": [
    "import os\n",
    "os.chdir(\"/home/jovyan/work/folder for file handling stuff\")\n",
    "try:\n",
    "    f=open(\"test.txt\", \"r\")\n",
    "    f.write(\"This is my code for exception handling\")\n",
    "    print(\"this is my code\")\n",
    "except Exception as e:\n",
    "    print(e)\n",
    "try:\n",
    "    l=[1,2,2,3,23,2,3]\n",
    "    for i in l:\n",
    "        print(i)\n",
    "except:\n",
    "    print(\"This is handler for for loop\")"
   ]
  },
  {
   "cell_type": "code",
   "execution_count": null,
   "id": "ec8dd7f9-d479-49a3-a962-95537c7ccfb0",
   "metadata": {},
   "outputs": [],
   "source": [
    "try:\n",
    "    d= {\"key1\":\"sddasd\", \"key2\": [1,23,123,1,32], \"key3\": (21,3,123,13,1)}\n",
    "    d[\"key4\"]= int(input())\n",
    "except Exception as e:\n",
    "    print(e)"
   ]
  },
  {
   "cell_type": "code",
   "execution_count": null,
   "id": "7a276db0-c599-44cf-9d0c-a799924df52e",
   "metadata": {},
   "outputs": [],
   "source": [
    "try:\n",
    "  f= open(\"test43.txt\", \"r\")\n",
    "except Exception as e:\n",
    "  print(\"dddqdqdqwd\", e)\n",
    "else:\n",
    "  print(\"do this on suceesful execution of try block\")\n",
    "finally:\n",
    "  print(\"do this for sure\")\n",
    "  try:\n",
    "    f= open(\"asdasd.txt\", \"r\")\n",
    "  except:\n",
    "    print(\"handle this\")\n",
    "  finally:\n",
    "    print(\"it will come to this block for sure\")"
   ]
  },
  {
   "cell_type": "code",
   "execution_count": null,
   "id": "44bfb099-7b53-4f41-90da-9fe93e9063e4",
   "metadata": {},
   "outputs": [],
   "source": [
    "#ques : Ask an user for integer until he enters integer\n",
    "def askint():\n",
    "  while True:\n",
    "    try:\n",
    "      user_input = int(input(\"enter an integer\"))\n",
    "      break\n",
    "    except Exception as e:\n",
    "      print(\"Invalid input.\"+str(e)+\" Please eneter integer\")\n",
    "  return user_input  "
   ]
  },
  {
   "cell_type": "code",
   "execution_count": null,
   "id": "9b986e57-5aeb-470d-9ba6-cce180dc15a8",
   "metadata": {},
   "outputs": [],
   "source": [
    "askint()"
   ]
  },
  {
   "cell_type": "code",
   "execution_count": null,
   "id": "6cb07277-b43f-439c-ba83-3c124d35fc95",
   "metadata": {},
   "outputs": [],
   "source": [
    "#ques : ask only positive integer until the user enetrs a positive integer \n",
    "def askposint():\n",
    "  while True:\n",
    "    try:\n",
    "      a= int(input(\"eneter a positive integer\"))\n",
    "      if type(a)==int and a>0:\n",
    "        break\n",
    "      else:\n",
    "        print(\"Nah, u havent enetered positive interger\")\n",
    "        continue\n",
    "    except ValueError as e:\n",
    "      print(\"No, you have'nt enetered an integer.\"+ str(e)+ \" Please eneter ineteger\")\n",
    "  return a"
   ]
  },
  {
   "cell_type": "code",
   "execution_count": null,
   "id": "0d0d09a0-c8b9-4156-8775-f139a973a35e",
   "metadata": {},
   "outputs": [],
   "source": [
    "askposint()"
   ]
  },
  {
   "cell_type": "markdown",
   "id": "d7d93006-6a5d-475b-a8d8-429ff624a1d4",
   "metadata": {},
   "source": [
    "#\n",
    "Raising own exception\n",
    "\n",
    "raise is a keyword to raise an exception"
   ]
  },
  {
   "cell_type": "code",
   "execution_count": null,
   "id": "4e754a7f-3bd0-491d-8397-27164d88581b",
   "metadata": {},
   "outputs": [],
   "source": [
    "def test(a):\n",
    "    if a<0:\n",
    "        raise Exception(\"you have enetered an negative number\", a)\n",
    "    return a   "
   ]
  },
  {
   "cell_type": "code",
   "execution_count": null,
   "id": "d4920d3a-70c6-4236-9bfa-c4cad3208e8d",
   "metadata": {},
   "outputs": [],
   "source": [
    "test(-1)"
   ]
  },
  {
   "cell_type": "code",
   "execution_count": 6,
   "id": "ee8c7e5d-a9c2-491e-af2a-763e139d642b",
   "metadata": {},
   "outputs": [],
   "source": [
    "def test2(a):\n",
    "    if a== \"jaga\":\n",
    "        raise ZeroDivisionError(\"You have entered invalid name\", a)\n",
    "    return a"
   ]
  },
  {
   "cell_type": "markdown",
   "id": "31ffc2bf-a2af-4feb-b778-030a0b2088d0",
   "metadata": {},
   "source": [
    "# \n",
    "So we can overwrite the exceptions as shown above, Altough there is no relation for zerodivision error and string, Still we can rasie an exception of zerodivision error"
   ]
  },
  {
   "cell_type": "code",
   "execution_count": 7,
   "id": "962f7c8c-6f0d-4887-867e-6c5526aa839d",
   "metadata": {},
   "outputs": [
    {
     "name": "stdout",
     "output_type": "stream",
     "text": [
      "I am calling my own exception ('You have entered invalid name', 'jaga')\n"
     ]
    }
   ],
   "source": [
    "try:\n",
    "    s= input(\"Enter your name\")\n",
    "    test2(s)\n",
    "except Exception as e:\n",
    "    print(\"I am calling my own exception\", e)"
   ]
  },
  {
   "cell_type": "markdown",
   "id": "ad5368c8-5082-4b9c-aaa2-a58de1024419",
   "metadata": {},
   "source": [
    "# Logging"
   ]
  },
  {
   "cell_type": "code",
   "execution_count": 2,
   "id": "9a8b63d6-7a43-4e49-861f-c6de27e4bdb0",
   "metadata": {},
   "outputs": [],
   "source": [
    "import logging"
   ]
  },
  {
   "cell_type": "code",
   "execution_count": null,
   "id": "f53360be-d676-497e-9707-5b8f0d9b94ed",
   "metadata": {},
   "outputs": [],
   "source": [
    "pwd"
   ]
  },
  {
   "cell_type": "code",
   "execution_count": 3,
   "id": "967d61ec-3dd6-4e49-ac24-1560a2f06b89",
   "metadata": {},
   "outputs": [],
   "source": [
    "import os\n",
    "os.chdir('E:\\VS CODE\\Logging Folder')"
   ]
  },
  {
   "cell_type": "code",
   "execution_count": 4,
   "id": "3d5a1b5d-f57b-42be-8387-feb648ddbb73",
   "metadata": {},
   "outputs": [],
   "source": [
    "logging.basicConfig(filename= 'test.log', level= logging.INFO)"
   ]
  },
  {
   "cell_type": "code",
   "execution_count": null,
   "id": "c8397046-4721-43ba-981b-b472bd82bc0e",
   "metadata": {},
   "outputs": [],
   "source": [
    "pwd"
   ]
  },
  {
   "cell_type": "code",
   "execution_count": null,
   "id": "45444f66-a8fb-4324-8db6-f48b5ddc6429",
   "metadata": {},
   "outputs": [],
   "source": [
    "\"\"\"DEBUG\n",
    "INFO\n",
    "WARNING\n",
    "ERROR\n",
    "CRITICAL\"\"\"\n",
    "# These are different log files we can log"
   ]
  },
  {
   "cell_type": "code",
   "execution_count": 5,
   "id": "9d79ad9f-14d4-4c51-b580-6a86de3f078b",
   "metadata": {},
   "outputs": [],
   "source": [
    "logging.info(\"This is my info log\")\n",
    "logging.warning(\"this is my warning log\")\n",
    "logging.error(\"this is my error log\")"
   ]
  },
  {
   "cell_type": "code",
   "execution_count": 6,
   "id": "3fd74663-966b-418b-9093-4bb7c20fd7cf",
   "metadata": {},
   "outputs": [],
   "source": [
    "logging.shutdown()   "
   ]
  },
  {
   "cell_type": "code",
   "execution_count": null,
   "id": "f3ff7a4a",
   "metadata": {},
   "outputs": [],
   "source": [
    "pwd"
   ]
  },
  {
   "cell_type": "code",
   "execution_count": 1,
   "id": "84fcbcba",
   "metadata": {},
   "outputs": [],
   "source": [
    "import logging\n",
    "logging.basicConfig ( filename= \"test2.log\", level = logging.DEBUG, format= '%(acstime)s %(message)s')"
   ]
  },
  {
   "cell_type": "code",
   "execution_count": null,
   "id": "ea6f7549",
   "metadata": {},
   "outputs": [],
   "source": [
    "pwd"
   ]
  },
  {
   "cell_type": "code",
   "execution_count": null,
   "id": "5e56bf58",
   "metadata": {},
   "outputs": [],
   "source": [
    "import os\n",
    "os.chdir('e:\\VS CODE\\Logging Folder')"
   ]
  },
  {
   "cell_type": "code",
   "execution_count": null,
   "id": "6c087049",
   "metadata": {},
   "outputs": [],
   "source": [
    "logging.info(\"this is my info log\")\n",
    "logging.warning(\"this is my warninng log\")\n",
    "logging.debug(\"this is my debug log\")"
   ]
  },
  {
   "cell_type": "code",
   "execution_count": null,
   "id": "966112e3",
   "metadata": {},
   "outputs": [],
   "source": [
    "logging.error(\"this is my error log\")"
   ]
  },
  {
   "cell_type": "code",
   "execution_count": 1,
   "id": "d20bfb6f",
   "metadata": {},
   "outputs": [
    {
     "data": {
      "text/plain": [
       "' Herarchy of level\\n\\nERROR\\nWARNING\\nINFO\\nDEBUG '"
      ]
     },
     "execution_count": 1,
     "metadata": {},
     "output_type": "execute_result"
    }
   ],
   "source": [
    "\"\"\" Herarchy of level\n",
    "\n",
    "ERROR\n",
    "WARNING\n",
    "INFO\n",
    "DEBUG \"\"\""
   ]
  },
  {
   "attachments": {},
   "cell_type": "markdown",
   "id": "6b58112b",
   "metadata": {},
   "source": [
    "# Module Discussions"
   ]
  },
  {
   "cell_type": "code",
   "execution_count": 11,
   "id": "3493fc3d",
   "metadata": {},
   "outputs": [],
   "source": [
    "import os"
   ]
  },
  {
   "cell_type": "code",
   "execution_count": 12,
   "id": "f8e080fb",
   "metadata": {},
   "outputs": [],
   "source": [
    "def test(a,b):\n",
    "    return a+b"
   ]
  },
  {
   "cell_type": "code",
   "execution_count": 19,
   "id": "f196e94a",
   "metadata": {},
   "outputs": [],
   "source": [
    "import Module1    #importing add module"
   ]
  },
  {
   "cell_type": "code",
   "execution_count": 20,
   "id": "8b50aa2f",
   "metadata": {},
   "outputs": [
    {
     "data": {
      "text/plain": [
       "5"
      ]
     },
     "execution_count": 20,
     "metadata": {},
     "output_type": "execute_result"
    }
   ],
   "source": [
    "Module1.add(2,3)   #calling function which is inside my module1"
   ]
  },
  {
   "cell_type": "code",
   "execution_count": 21,
   "id": "c1bf5e61",
   "metadata": {},
   "outputs": [
    {
     "data": {
      "text/plain": [
       "8"
      ]
     },
     "execution_count": 21,
     "metadata": {},
     "output_type": "execute_result"
    }
   ],
   "source": [
    "Module1.multiply(2,4)   #calling multiply function from Module1"
   ]
  },
  {
   "cell_type": "code",
   "execution_count": 23,
   "id": "5407939b",
   "metadata": {},
   "outputs": [
    {
     "data": {
      "text/plain": [
       "'this is my func code for add module'"
      ]
     },
     "execution_count": 23,
     "metadata": {},
     "output_type": "execute_result"
    }
   ],
   "source": [
    "Module1.fun()"
   ]
  },
  {
   "cell_type": "code",
   "execution_count": 24,
   "id": "cd9c816c",
   "metadata": {},
   "outputs": [],
   "source": [
    "from Module1 import add    #only calling a specific required function"
   ]
  },
  {
   "cell_type": "code",
   "execution_count": 25,
   "id": "f003575a",
   "metadata": {},
   "outputs": [
    {
     "data": {
      "text/plain": [
       "5"
      ]
     },
     "execution_count": 25,
     "metadata": {},
     "output_type": "execute_result"
    }
   ],
   "source": [
    "add(2,3)"
   ]
  },
  {
   "cell_type": "code",
   "execution_count": 1,
   "id": "b5410158",
   "metadata": {},
   "outputs": [],
   "source": [
    "from Module1 import *    #Import everything from Module 1"
   ]
  },
  {
   "cell_type": "code",
   "execution_count": 2,
   "id": "a24daed6",
   "metadata": {},
   "outputs": [
    {
     "data": {
      "text/plain": [
       "5"
      ]
     },
     "execution_count": 2,
     "metadata": {},
     "output_type": "execute_result"
    }
   ],
   "source": [
    "add(2,3)"
   ]
  },
  {
   "cell_type": "code",
   "execution_count": 3,
   "id": "8a85301b",
   "metadata": {},
   "outputs": [
    {
     "data": {
      "text/plain": [
       "6"
      ]
     },
     "execution_count": 3,
     "metadata": {},
     "output_type": "execute_result"
    }
   ],
   "source": [
    "multiply(2,3)"
   ]
  },
  {
   "cell_type": "code",
   "execution_count": 7,
   "id": "e57a5b88",
   "metadata": {},
   "outputs": [],
   "source": [
    "import module2"
   ]
  },
  {
   "cell_type": "code",
   "execution_count": 8,
   "id": "e3359fb9",
   "metadata": {},
   "outputs": [
    {
     "data": {
      "text/plain": [
       "['fsds', 'cyber', 'blockchain', 'cloud']"
      ]
     },
     "execution_count": 8,
     "metadata": {},
     "output_type": "execute_result"
    }
   ],
   "source": [
    "module2.get_course()"
   ]
  },
  {
   "cell_type": "code",
   "execution_count": 10,
   "id": "493d8e71",
   "metadata": {},
   "outputs": [
    {
     "data": {
      "text/plain": [
       "'greeting from jaga'"
      ]
     },
     "execution_count": 10,
     "metadata": {},
     "output_type": "execute_result"
    }
   ],
   "source": [
    "module2.get_greeting()"
   ]
  },
  {
   "cell_type": "code",
   "execution_count": null,
   "id": "6f77008f",
   "metadata": {},
   "outputs": [],
   "source": []
  },
  {
   "cell_type": "code",
   "execution_count": null,
   "id": "cf814707",
   "metadata": {},
   "outputs": [],
   "source": []
  }
 ],
 "metadata": {
  "kernelspec": {
   "display_name": "Python 3",
   "language": "python",
   "name": "python3"
  },
  "language_info": {
   "codemirror_mode": {
    "name": "ipython",
    "version": 3
   },
   "file_extension": ".py",
   "mimetype": "text/x-python",
   "name": "python",
   "nbconvert_exporter": "python",
   "pygments_lexer": "ipython3",
   "version": "3.11.1 (tags/v3.11.1:a7a450f, Dec  6 2022, 19:58:39) [MSC v.1934 64 bit (AMD64)]"
  },
  "vscode": {
   "interpreter": {
    "hash": "58a4aec84f2a3fd6cac8e712c146c6e47fa7b45b199d33266e8b724cdc638b16"
   }
  }
 },
 "nbformat": 4,
 "nbformat_minor": 5
}

{
 "cells": [
  {
   "cell_type": "markdown",
   "id": "dc327f4c-7dc9-418c-89b3-ff54bcc5d957",
   "metadata": {},
   "source": [
    "# Q1.   Tuple: \n",
    "\n",
    "Tuple are collection of elements in ordered and unchangable form (immutable). \n",
    "\n",
    "1.Tuple allows the duplicate values.\n",
    "\n",
    "2.Tuple are immutable\n",
    "\n",
    "3.Tuples are indexed\n",
    "\n",
    "4.Tuples are ordered\n"
   ]
  },
  {
   "cell_type": "markdown",
   "id": "520889fd-3353-4ce1-9484-7fc22a563d23",
   "metadata": {},
   "source": [
    "# Q2."
   ]
  },
  {
   "cell_type": "code",
   "execution_count": 5,
   "id": "d1154ea1-c559-4fc4-bb23-20db586d816b",
   "metadata": {},
   "outputs": [
    {
     "name": "stdout",
     "output_type": "stream",
     "text": [
      "2\n",
      "1\n"
     ]
    }
   ],
   "source": [
    "# Tuple can only have two methods namely 1.count() 2.index()\n",
    "\n",
    "t= (2,3,4,4)\n",
    "\n",
    "print(t.count(4))\n",
    "print(t.index(3))\n",
    "\n",
    "\n",
    "# reason for having only 2 methods:\n",
    "\"\"\"\n",
    "1. They are immutable, we cannot manipulate them\n",
    "\"\"\""
   ]
  },
  {
   "cell_type": "markdown",
   "id": "e41e1d87-912e-4efc-a750-e9674cca3fbf",
   "metadata": {},
   "source": [
    "# Q3."
   ]
  },
  {
   "cell_type": "code",
   "execution_count": 9,
   "id": "1154b3ce-eb52-4506-8e21-ee71312e8b43",
   "metadata": {},
   "outputs": [
    {
     "name": "stdout",
     "output_type": "stream",
     "text": [
      "[1, 2, 3, 4]\n"
     ]
    }
   ],
   "source": [
    "# Set collection datatype doesnot allow for duplicate items \n",
    "\n",
    "List = [1, 1, 1, 2, 1, 3, 1, 4, 2, 1, 2, 2, 2, 3, 2, 4, 3, 1, 3, 2, 3, 3, 3, 4, 4, 1, 4, 2, 4, 3, 4, 4]\n",
    "unique_list= list(set(List))\n",
    "print(unique_list)"
   ]
  },
  {
   "cell_type": "markdown",
   "id": "85fa0f63-33d9-4eb3-8301-bc05fcc32809",
   "metadata": {},
   "source": [
    "# Q4."
   ]
  },
  {
   "cell_type": "code",
   "execution_count": 11,
   "id": "69e48bf0-0eed-4959-89c7-94f2698b6222",
   "metadata": {},
   "outputs": [
    {
     "name": "stdout",
     "output_type": "stream",
     "text": [
      "{1, 2, 3, 4, 5, 6, 7}\n",
      "{1, 2, 3, 4, 5, 6, 7}\n"
     ]
    }
   ],
   "source": [
    "# Union() method create a new set by combining all the elements from all the given sets and returns the new set\n",
    "\n",
    "# Update methos is used to combine the new sets into the old given set without altering the given set or the new sets which are to be combined\n",
    "\n",
    "set1 = {1, 2, 3}\n",
    "set2 = {3, 4, 5}\n",
    "set3 = {5, 6, 7}\n",
    "\n",
    "union_set = set1.union(set2, set3)\n",
    "print(union_set)\n",
    "\n",
    "\n",
    "\n",
    "set1 = {1, 2, 3}\n",
    "set2 = {3, 4, 5}\n",
    "set3 = {5, 6, 7}\n",
    "\n",
    "set1.update(set2, set3)\n",
    "print(set1)\n",
    "\n"
   ]
  },
  {
   "cell_type": "markdown",
   "id": "a10c64b6-70d7-439b-afe2-37843140bc12",
   "metadata": {},
   "source": [
    "# Q5. "
   ]
  },
  {
   "cell_type": "code",
   "execution_count": 13,
   "id": "e5f9d66f-01ea-47a0-9f25-63dc8da59226",
   "metadata": {},
   "outputs": [
    {
     "name": "stdout",
     "output_type": "stream",
     "text": [
      "John\n",
      "30\n",
      "New York\n"
     ]
    }
   ],
   "source": [
    "\"\"\"A dictionary is a built-in data type that represents a collection of key-value pairs. It is also known as an associative array or a hash table.\n",
    "Each key in a dictionary is unique and is used to access its corresponding value. \n",
    "Dictionaries are enclosed in curly braces {}, and key-value pairs are separated by a colon :\"\"\"\n",
    "\n",
    "person = {\n",
    "    \"name\": \"John\",\n",
    "    \"age\": 30,\n",
    "    \"city\": \"New York\"\n",
    "}\n",
    "\n",
    "print(person[\"name\"])  # Accessing value using key\n",
    "print(person[\"age\"])\n",
    "print(person[\"city\"])\n"
   ]
  },
  {
   "cell_type": "code",
   "execution_count": 14,
   "id": "d04cc011-3356-4b66-a0cf-fda21892cdf2",
   "metadata": {},
   "outputs": [
    {
     "name": "stdout",
     "output_type": "stream",
     "text": [
      "name John\n",
      "age 30\n",
      "city New York\n"
     ]
    }
   ],
   "source": [
    "# Dictionaries are ordered\n",
    "person = {\n",
    "    \"name\": \"John\",\n",
    "    \"age\": 30,\n",
    "    \"city\": \"New York\"\n",
    "}\n",
    "\n",
    "for key, value in person.items():\n",
    "    print(key, value)\n"
   ]
  },
  {
   "cell_type": "markdown",
   "id": "759073d5-af08-4191-acf8-710338e65515",
   "metadata": {},
   "source": [
    "# Q6."
   ]
  },
  {
   "cell_type": "markdown",
   "id": "f93d3bac-30a0-4098-b163-d4d78f4e7089",
   "metadata": {},
   "source": [
    "Yes, we can create a nested dictionary in Python. A nested dictionary is a dictionary that contains another dictionary as a value."
   ]
  },
  {
   "cell_type": "code",
   "execution_count": 16,
   "id": "5a35a3d8-5d03-470c-be30-cf2f23d248f3",
   "metadata": {},
   "outputs": [
    {
     "name": "stdout",
     "output_type": "stream",
     "text": [
      "John\n",
      "85\n",
      "90\n",
      "78\n"
     ]
    }
   ],
   "source": [
    "student = {\n",
    "    \"name\": \"John\",\n",
    "    \"age\": 20,\n",
    "    \"grades\": {\n",
    "        \"math\": 85,\n",
    "        \"science\": 90,\n",
    "        \"history\": 78\n",
    "    }\n",
    "}\n",
    "\n",
    "print(student[\"name\"])                    # Accessing top-level value\n",
    "print(student[\"grades\"][\"math\"])          # Accessing nested value\n",
    "print(student[\"grades\"][\"science\"])\n",
    "print(student[\"grades\"][\"history\"])\n"
   ]
  },
  {
   "cell_type": "markdown",
   "id": "3c3bb7ee-a866-48df-ba6b-f92a27d763a6",
   "metadata": {},
   "source": [
    "# Q7. "
   ]
  },
  {
   "cell_type": "code",
   "execution_count": 17,
   "id": "b42eb89b-94fe-438d-8811-366be5645edd",
   "metadata": {},
   "outputs": [
    {
     "name": "stdout",
     "output_type": "stream",
     "text": [
      "{'name': 'John', 'age': 30, 'topics': ['Python', 'Machine Learning', 'Deep Learning']}\n"
     ]
    }
   ],
   "source": [
    "my_dict = {\n",
    "    \"name\": \"John\",\n",
    "    \"age\": 30\n",
    "}\n",
    "\n",
    "my_dict.setdefault(\"topics\", ['Python', 'Machine Learning', 'Deep Learning'])\n",
    "\n",
    "print(my_dict)\n"
   ]
  },
  {
   "cell_type": "markdown",
   "id": "ecfdd03a-7334-4062-8a45-8ad18b0859ea",
   "metadata": {},
   "source": [
    "# Q8."
   ]
  },
  {
   "cell_type": "code",
   "execution_count": 2,
   "id": "6648029c-ed5d-48d9-bc7e-5a3baa610c7a",
   "metadata": {},
   "outputs": [
    {
     "name": "stdout",
     "output_type": "stream",
     "text": [
      "dict_keys(['Sport', 'Teams'])\n",
      "dict_values(['Cricket', ['India', 'Australia', 'England', 'South Africa', 'Sri Lanka', 'New Zealand']])\n",
      "dict_items([('Sport', 'Cricket'), ('Teams', ['India', 'Australia', 'England', 'South Africa', 'Sri Lanka', 'New Zealand'])])\n"
     ]
    }
   ],
   "source": [
    "my_dict ={'Sport': 'Cricket' , 'Teams': ['India', 'Australia', 'England', 'South Africa', 'Sri Lanka', 'New Zealand']}\n",
    "keys_view = my_dict.keys()\n",
    "values_view = my_dict.values()\n",
    "items_view = my_dict.items()\n",
    "\n",
    "print(keys_view)\n",
    "print(values_view)\n",
    "print(items_view)\n"
   ]
  },
  {
   "cell_type": "code",
   "execution_count": null,
   "id": "88978c3c-9ead-4419-99d6-ccf2530467c9",
   "metadata": {},
   "outputs": [],
   "source": []
  }
 ],
 "metadata": {
  "kernelspec": {
   "display_name": "Python 3 (ipykernel)",
   "language": "python",
   "name": "python3"
  },
  "language_info": {
   "codemirror_mode": {
    "name": "ipython",
    "version": 3
   },
   "file_extension": ".py",
   "mimetype": "text/x-python",
   "name": "python",
   "nbconvert_exporter": "python",
   "pygments_lexer": "ipython3",
   "version": "3.10.8"
  }
 },
 "nbformat": 4,
 "nbformat_minor": 5
}

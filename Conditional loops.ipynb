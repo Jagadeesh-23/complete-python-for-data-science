{
 "cells": [
  {
   "cell_type": "code",
   "execution_count": 4,
   "id": "39b67396",
   "metadata": {},
   "outputs": [
    {
     "name": "stdout",
     "output_type": "stream",
     "text": [
      "this elif statement is valid\n"
     ]
    }
   ],
   "source": [
    "a=10\n",
    "b= 20\n",
    "if a==10 and b>20:\n",
    "    print(\"this is a valid statement\")\n",
    "elif a==10 and b<=20:\n",
    "    print(\"this elif statement is valid\")\n",
    "else:\n",
    "    print(\"condition not valid\")"
   ]
  },
  {
   "cell_type": "code",
   "execution_count": 2,
   "id": "0572e2be",
   "metadata": {},
   "outputs": [
    {
     "data": {
      "text/plain": [
       "True"
      ]
     },
     "execution_count": 2,
     "metadata": {},
     "output_type": "execute_result"
    }
   ],
   "source": [
    "a==10 and b==20"
   ]
  },
  {
   "cell_type": "markdown",
   "id": "86f6fcc0",
   "metadata": {},
   "source": [
    "# while loop"
   ]
  },
  {
   "cell_type": "code",
   "execution_count": 12,
   "id": "6b182892",
   "metadata": {},
   "outputs": [
    {
     "name": "stdout",
     "output_type": "stream",
     "text": [
      "speed is within limit\n",
      "speed is within limit\n",
      "speed is within limit\n",
      "speed is within limit\n"
     ]
    }
   ],
   "source": [
    "intial_speed=0\n",
    "final_speed= 100\n",
    "count =1 \n",
    "while intial_speed<=final_speed:\n",
    "    print(\"speed is within limit\")\n",
    "    count= count+1\n",
    "    if count == 5 :\n",
    "        break"
   ]
  },
  {
   "cell_type": "code",
   "execution_count": 13,
   "id": "21003c89",
   "metadata": {},
   "outputs": [
    {
     "name": "stdout",
     "output_type": "stream",
     "text": [
      "1\n",
      "2\n",
      "3\n",
      "4\n"
     ]
    }
   ],
   "source": [
    "i=1\n",
    "j=5\n",
    "while i<j:\n",
    "    print(i)\n",
    "    i= i+1"
   ]
  },
  {
   "cell_type": "code",
   "execution_count": 16,
   "id": "8d693327",
   "metadata": {},
   "outputs": [
    {
     "name": "stdout",
     "output_type": "stream",
     "text": [
      "1\n",
      "2\n",
      "3\n",
      "4\n",
      "1\n",
      "no 10 rs notes are available\n"
     ]
    }
   ],
   "source": [
    "notes=5\n",
    "i=1\n",
    "j=1\n",
    "while i<notes:\n",
    "    print(i)\n",
    "    i= i+1\n",
    "else:\n",
    "    while j<2:\n",
    "        print(j)\n",
    "        j= j+1\n",
    "    print(\"no 10 rs notes are available\")"
   ]
  },
  {
   "cell_type": "code",
   "execution_count": 23,
   "id": "a9e844db",
   "metadata": {},
   "outputs": [],
   "source": [
    "s= \"jagadeesh\""
   ]
  },
  {
   "cell_type": "code",
   "execution_count": 24,
   "id": "6d0d6cc8",
   "metadata": {},
   "outputs": [
    {
     "data": {
      "text/plain": [
       "'j'"
      ]
     },
     "execution_count": 24,
     "metadata": {},
     "output_type": "execute_result"
    }
   ],
   "source": [
    "s[0]"
   ]
  },
  {
   "cell_type": "code",
   "execution_count": 31,
   "id": "541083d2",
   "metadata": {},
   "outputs": [
    {
     "data": {
      "text/plain": [
       "'ae'"
      ]
     },
     "execution_count": 31,
     "metadata": {},
     "output_type": "execute_result"
    }
   ],
   "source": [
    "s[3:7:2]"
   ]
  },
  {
   "cell_type": "code",
   "execution_count": 32,
   "id": "66494597",
   "metadata": {},
   "outputs": [
    {
     "data": {
      "text/plain": [
       "'seed'"
      ]
     },
     "execution_count": 32,
     "metadata": {},
     "output_type": "execute_result"
    }
   ],
   "source": [
    "s[7:3:-1]"
   ]
  },
  {
   "cell_type": "code",
   "execution_count": 33,
   "id": "930d6bf1",
   "metadata": {},
   "outputs": [
    {
     "data": {
      "text/plain": [
       "'ag'"
      ]
     },
     "execution_count": 33,
     "metadata": {},
     "output_type": "execute_result"
    }
   ],
   "source": [
    "s[1:-6]"
   ]
  },
  {
   "cell_type": "markdown",
   "id": "f643af1e",
   "metadata": {},
   "source": [
    "# for loop"
   ]
  },
  {
   "cell_type": "code",
   "execution_count": 34,
   "id": "85d0ce23",
   "metadata": {},
   "outputs": [
    {
     "name": "stdout",
     "output_type": "stream",
     "text": [
      "j\n",
      "a\n",
      "g\n",
      "a\n",
      "d\n",
      "e\n",
      "e\n",
      "s\n",
      "h\n"
     ]
    }
   ],
   "source": [
    "for i in s:\n",
    "    print(i)"
   ]
  },
  {
   "cell_type": "code",
   "execution_count": 36,
   "id": "f116a55a",
   "metadata": {},
   "outputs": [
    {
     "name": "stdout",
     "output_type": "stream",
     "text": [
      "j\n",
      "a\n",
      "g\n",
      "a\n",
      "d\n",
      "e\n",
      "e\n",
      "s is present in the string\n",
      "s\n",
      "h\n"
     ]
    }
   ],
   "source": [
    "for i in s:\n",
    "    if i=='s':\n",
    "        print(\"s is present in the string\")\n",
    "    print(i)"
   ]
  },
  {
   "cell_type": "code",
   "execution_count": 41,
   "id": "e8fd2c60",
   "metadata": {},
   "outputs": [
    {
     "name": "stdout",
     "output_type": "stream",
     "text": [
      "j\n",
      "a\n",
      "g\n",
      "a\n"
     ]
    }
   ],
   "source": [
    "for i in s:\n",
    "    if i=='d':\n",
    "        break\n",
    "    print(i)\n",
    "else:\n",
    "    if i =='h':\n",
    "        print(\"last character is h\")\n",
    "    print(\"this is else cond\")    #else is only going to work only if for loop complete naturally"
   ]
  },
  {
   "cell_type": "code",
   "execution_count": 42,
   "id": "1113e2a4",
   "metadata": {},
   "outputs": [
    {
     "data": {
      "text/plain": [
       "9"
      ]
     },
     "execution_count": 42,
     "metadata": {},
     "output_type": "execute_result"
    }
   ],
   "source": [
    "len(s)"
   ]
  },
  {
   "cell_type": "code",
   "execution_count": 43,
   "id": "b9bd9003",
   "metadata": {},
   "outputs": [],
   "source": [
    "s = \"flames\"\n",
    "ss= \"hot\"\n",
    "for i in range(len(s)):\n",
    "    if s[i]==\"m\":\n",
    "        continue\n",
    "    else:\n",
    "        ss= ss+ s[i]"
   ]
  },
  {
   "cell_type": "code",
   "execution_count": 44,
   "id": "f95dc639",
   "metadata": {},
   "outputs": [
    {
     "data": {
      "text/plain": [
       "'hotflaes'"
      ]
     },
     "execution_count": 44,
     "metadata": {},
     "output_type": "execute_result"
    }
   ],
   "source": [
    "ss"
   ]
  },
  {
   "cell_type": "code",
   "execution_count": 62,
   "id": "66b62e91",
   "metadata": {},
   "outputs": [
    {
     "name": "stdout",
     "output_type": "stream",
     "text": [
      "+ \r\n",
      "+ + \r\n",
      "+ + + \r\n",
      "+ + + + \r\n",
      "+ + + + + \r\n",
      "+ + + + + + \r\n",
      "+ + + + + + + \r\n"
     ]
    }
   ],
   "source": [
    "n=7\n",
    "for i in range(n):\n",
    "    for j in range(i+1):\n",
    "        print(\"+ \", end=\"\")\n",
    "    print(\"\\r\")"
   ]
  },
  {
   "cell_type": "code",
   "execution_count": 71,
   "id": "ab552a3d",
   "metadata": {},
   "outputs": [
    {
     "name": "stdout",
     "output_type": "stream",
     "text": [
      "Enter the no of rows required: 7\n",
      "********\n",
      " ******\n",
      "  ****\n",
      "   **\n",
      "    \n",
      "     \n",
      "      \n"
     ]
    }
   ],
   "source": [
    "n = int (input(\"Enter the no of rows required: \"))\n",
    "\n",
    "for i in range(n, 0, -1):\n",
    "    for j in range(n -i):\n",
    "        print(' ', end='')\n",
    "    for j in range(0, 2*i-n+1):\n",
    "        print('*', end='')\n",
    "    print()"
   ]
  },
  {
   "cell_type": "code",
   "execution_count": 78,
   "id": "1f273c77",
   "metadata": {},
   "outputs": [
    {
     "name": "stdout",
     "output_type": "stream",
     "text": [
      "enter your no of rows7\n",
      "       * * * * * * * \n",
      "      * * * * * * * \n",
      "     * * * * * * * \n",
      "    * * * * * * * \n",
      "   * * * * * * * \n",
      "  * * * * * * * \n",
      " * * * * * * * \n"
     ]
    }
   ],
   "source": [
    "n = int(input(\"enter your no of rows\"))\n",
    "for i in range(0, n):\n",
    "    for j in range(n-i):\n",
    "        print(' ', end='')\n",
    "    for j in range(n, ):\n",
    "        print(\"* \",end=\"\")\n",
    "    print()"
   ]
  },
  {
   "cell_type": "code",
   "execution_count": 87,
   "id": "1ea07568",
   "metadata": {},
   "outputs": [
    {
     "name": "stdout",
     "output_type": "stream",
     "text": [
      "enter your no of rows7\n",
      "* * * * * * * \n",
      " * * * * * * \n",
      "  * * * * * \n",
      "   * * * * \n",
      "    * * * \n",
      "     * * \n",
      "      * \n"
     ]
    }
   ],
   "source": [
    "n= int(input(\"enter your no of rows\"))\n",
    "for i in range(n, 0, -1):\n",
    "    for j in range(n-i):\n",
    "        print(\" \", end='')\n",
    "    for j in range(0, i):\n",
    "        print(\"* \", end=\"\")\n",
    "    print(\"\\r\")"
   ]
  },
  {
   "cell_type": "code",
   "execution_count": 88,
   "id": "193ec75e",
   "metadata": {},
   "outputs": [
    {
     "name": "stdout",
     "output_type": "stream",
     "text": [
      "enetr your no of rows7\n",
      "* * * * * * * \n",
      " * * * * * * \n",
      "  * * * * * \n",
      "   * * * * \n",
      "    * * * \n",
      "     * * \n",
      "      * \n"
     ]
    }
   ],
   "source": [
    "n = int(input(\"enetr your no of rows\"))\n",
    "for i in range(n , 0, -1):\n",
    "    for j in range(0, n-i):\n",
    "        print(\" \", end=\"\")\n",
    "    for j in range(0, i):\n",
    "        print(\"* \", end=\"\")\n",
    "    print(\"\\r\")"
   ]
  },
  {
   "cell_type": "code",
   "execution_count": 92,
   "id": "abc5f2dc",
   "metadata": {},
   "outputs": [
    {
     "name": "stdout",
     "output_type": "stream",
     "text": [
      "enter your no of rows9\n",
      "        * \n",
      "       * * \n",
      "      * * * \n",
      "     * * * * \n",
      "    * * * * * \n",
      "   * * * * * * \n",
      "  * * * * * * * \n",
      " * * * * * * * * \n",
      "* * * * * * * * * \n"
     ]
    }
   ],
   "source": [
    "n = int(input(\"enter your no of rows\"))\n",
    "j=0\n",
    "while j<n:\n",
    "    print(\" \"*(n-j-1)+ '* '*(j+1))\n",
    "    j=j+1\n",
    "    "
   ]
  },
  {
   "cell_type": "code",
   "execution_count": null,
   "id": "e8857da7",
   "metadata": {},
   "outputs": [],
   "source": []
  }
 ],
 "metadata": {
  "kernelspec": {
   "display_name": "Python 3 (ipykernel)",
   "language": "python",
   "name": "python3"
  },
  "language_info": {
   "codemirror_mode": {
    "name": "ipython",
    "version": 3
   },
   "file_extension": ".py",
   "mimetype": "text/x-python",
   "name": "python",
   "nbconvert_exporter": "python",
   "pygments_lexer": "ipython3",
   "version": "3.9.12"
  }
 },
 "nbformat": 4,
 "nbformat_minor": 5
}
